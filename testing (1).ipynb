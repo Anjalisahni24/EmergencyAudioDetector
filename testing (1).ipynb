{
  "nbformat": 4,
  "nbformat_minor": 0,
  "metadata": {
    "colab": {
      "provenance": []
    },
    "kernelspec": {
      "name": "python3",
      "display_name": "Python 3"
    },
    "language_info": {
      "name": "python"
    }
  },
  "cells": [
    {
      "cell_type": "code",
      "source": [
        "from google.colab import drive\n",
        "drive.mount('/content/drive')"
      ],
      "metadata": {
        "colab": {
          "base_uri": "https://localhost:8080/"
        },
        "id": "1jkXGlzEXfRZ",
        "outputId": "a7fd3689-7dc4-4548-b90a-62de5f534a38"
      },
      "execution_count": null,
      "outputs": [
        {
          "output_type": "stream",
          "name": "stdout",
          "text": [
            "Mounted at /content/drive\n"
          ]
        }
      ]
    },
    {
      "cell_type": "markdown",
      "source": [
        "**Generating test data**"
      ],
      "metadata": {
        "id": "2Z3qRhztEWQ4"
      }
    },
    {
      "cell_type": "code",
      "source": [
        "import os\n",
        "# Define path\n",
        "test_data_path = \"/content/drive/MyDrive/test_data\"\n",
        "\n",
        "# Create the directory if it doesn't exist\n",
        "os.makedirs(test_data_path, exist_ok=True)\n",
        "\n",
        "print(f\"✅ Directory created or already exists at: {test_data_path}\")\n"
      ],
      "metadata": {
        "colab": {
          "base_uri": "https://localhost:8080/"
        },
        "id": "AyjihJEYEUu_",
        "outputId": "a8a9a7c8-c4d9-47fd-83af-ff787328f1c7"
      },
      "execution_count": null,
      "outputs": [
        {
          "output_type": "stream",
          "name": "stdout",
          "text": [
            "✅ Directory created or already exists at: /content/drive/MyDrive/test_data\n"
          ]
        }
      ]
    },
    {
      "cell_type": "code",
      "source": [
        "import os\n",
        "import numpy as np\n",
        "import librosa\n",
        "import tensorflow as tf\n",
        "import tensorflow_hub as hub\n",
        "\n",
        "# Load YAMNet model\n",
        "yamnet_model_handle = 'https://tfhub.dev/google/yamnet/1'\n",
        "yamnet_model = hub.load(yamnet_model_handle)\n",
        "\n",
        "# Load your fine-tuned classifier model\n",
        "classifier = tf.keras.models.load_model('/content/drive/MyDrive/fine_tuned_yamnet_classifier1.keras')\n",
        "\n",
        "# Label map\n",
        "label_map = {0: \"non-emergency\", 1: \"emergency\"}\n",
        "\n",
        "# Directory containing test .wav files\n",
        "test_dir = \"/content/drive/MyDrive/test_data_wav\"\n",
        "\n",
        "# results = []\n",
        "\n",
        "# for file_name in os.listdir(test_dir):\n",
        "#     if not file_name.endswith(\".wav\"):\n",
        "#         continue\n",
        "\n",
        "#     file_path = os.path.join(test_dir, file_name)\n",
        "\n",
        "#     try:\n",
        "#         # Load waveform\n",
        "#         waveform, sr = librosa.load(file_path, sr=16000, mono=True)\n",
        "#         waveform = waveform.astype(np.float32)\n",
        "\n",
        "#         # Get embeddings from YAMNet\n",
        "#         scores, embeddings, spectrogram = yamnet_model(waveform)\n",
        "#         embedding = tf.reduce_mean(embeddings, axis=0).numpy().reshape(1, -1)  # Shape: (1, 1024)\n",
        "\n",
        "#         # Predict using your classifier\n",
        "#         pred = classifier.predict(embedding, verbose=0)\n",
        "#         class_idx = int(np.argmax(pred[0]))\n",
        "#         confidence = float(pred[0][class_idx])\n",
        "#         label = label_map[class_idx]\n",
        "\n",
        "#         results.append((file_name, label, confidence))\n",
        "\n",
        "#     except Exception as e:\n",
        "#         print(f\"❌ Error with {file_name}: {e}\")\n",
        "\n",
        "def predict_emergency(file_path, model, yamnet_model, label_map, threshold=0.85):\n",
        "    try:\n",
        "        # Step 1: Load and preprocess audio\n",
        "        waveform, sr = librosa.load(file_path, sr=16000, mono=True)\n",
        "\n",
        "        # Step 2: Get embeddings from YAMNet\n",
        "        _, embeddings, _ = yamnet_model(waveform)\n",
        "\n",
        "        # Step 3: Average the embeddings\n",
        "        avg_embedding = tf.reduce_mean(embeddings, axis=0)\n",
        "        avg_embedding = tf.expand_dims(avg_embedding, axis=0)\n",
        "\n",
        "        # Step 4: Predict with your classifier\n",
        "        pred = model.predict(avg_embedding)\n",
        "        class_idx = np.argmax(pred)\n",
        "        confidence = float(pred[0][class_idx])\n",
        "\n",
        "        # Step 5: Apply confidence threshold\n",
        "        if confidence < threshold:\n",
        "            return \"uncertain\", confidence\n",
        "        else:\n",
        "            return label_map[class_idx], confidence\n",
        "\n",
        "    except Exception as e:\n",
        "        return f\"Error: {e}\", 0.0\n",
        "\n",
        "\n",
        "# Show predictions\n",
        "# for single file\n",
        "# file_path = \"/content/drive/MyDrive/test_data/help_example.wav\"\n",
        "# label, confidence = predict_emergency(file_path, model, yamnet_model, label_map)\n",
        "# print(f\"🔍 Predicted: {label} (Confidence: {confidence:.2f})\")\n",
        "\n",
        "#for batch\n",
        "for file in os.listdir(test_dir):\n",
        "    if file.endswith('.wav'):\n",
        "        file_path = os.path.join(test_dir, file)\n",
        "        label, confidence = predict_emergency(file_path, classifier, yamnet_model, label_map)\n",
        "        print(f\"{file} → {label} ({confidence:.2f})\")\n",
        "\n",
        "# print(\"\\n📊 Prediction Results:\")\n",
        "# for fname, label, conf in results:\n",
        "#     print(f\"🔍 {fname} → {label} (Confidence: {conf:.2f})\")\n"
      ],
      "metadata": {
        "colab": {
          "base_uri": "https://localhost:8080/"
        },
        "id": "EjBMmNA8G3xo",
        "outputId": "de55378a-a46f-40b9-f6c7-97d10a573ec5"
      },
      "execution_count": null,
      "outputs": [
        {
          "output_type": "stream",
          "name": "stdout",
          "text": [
            "\u001b[1m1/1\u001b[0m \u001b[32m━━━━━━━━━━━━━━━━━━━━\u001b[0m\u001b[37m\u001b[0m \u001b[1m0s\u001b[0m 94ms/step\n",
            "human-walking-80552.wav → uncertain (0.67)\n",
            "\u001b[1m1/1\u001b[0m \u001b[32m━━━━━━━━━━━━━━━━━━━━\u001b[0m\u001b[37m\u001b[0m \u001b[1m0s\u001b[0m 79ms/step\n",
            "human-voice-saying-oh-no-301694.wav → emergency (1.00)\n",
            "\u001b[1m1/1\u001b[0m \u001b[32m━━━━━━━━━━━━━━━━━━━━\u001b[0m\u001b[37m\u001b[0m \u001b[1m0s\u001b[0m 88ms/step\n",
            "human-snore-type-1-265473.wav → non-emergency (1.00)\n",
            "\u001b[1m1/1\u001b[0m \u001b[32m━━━━━━━━━━━━━━━━━━━━\u001b[0m\u001b[37m\u001b[0m \u001b[1m0s\u001b[0m 66ms/step\n",
            "15-human-body-97360.wav → uncertain (0.55)\n",
            "\u001b[1m1/1\u001b[0m \u001b[32m━━━━━━━━━━━━━━━━━━━━\u001b[0m\u001b[37m\u001b[0m \u001b[1m0s\u001b[0m 77ms/step\n",
            "medical-ambulance-siren-290716.wav → emergency (1.00)\n",
            "\u001b[1m1/1\u001b[0m \u001b[32m━━━━━━━━━━━━━━━━━━━━\u001b[0m\u001b[37m\u001b[0m \u001b[1m0s\u001b[0m 104ms/step\n",
            "air-raid-siren-sound-effect-241383.wav → emergency (0.96)\n",
            "\u001b[1m1/1\u001b[0m \u001b[32m━━━━━━━━━━━━━━━━━━━━\u001b[0m\u001b[37m\u001b[0m \u001b[1m0s\u001b[0m 82ms/step\n",
            "police-siren-21498.wav → emergency (0.95)\n",
            "\u001b[1m1/1\u001b[0m \u001b[32m━━━━━━━━━━━━━━━━━━━━\u001b[0m\u001b[37m\u001b[0m \u001b[1m0s\u001b[0m 93ms/step\n",
            "fire-truck-siren-307510.wav → emergency (1.00)\n",
            "\u001b[1m1/1\u001b[0m \u001b[32m━━━━━━━━━━━━━━━━━━━━\u001b[0m\u001b[37m\u001b[0m \u001b[1m0s\u001b[0m 111ms/step\n",
            "woman-screaming-sfx-screaming-sound-effect-320169.wav → uncertain (0.75)\n",
            "\u001b[1m1/1\u001b[0m \u001b[32m━━━━━━━━━━━━━━━━━━━━\u001b[0m\u001b[37m\u001b[0m \u001b[1m0s\u001b[0m 83ms/step\n",
            "girl-scream-45657.wav → emergency (1.00)\n",
            "\u001b[1m1/1\u001b[0m \u001b[32m━━━━━━━━━━━━━━━━━━━━\u001b[0m\u001b[37m\u001b[0m \u001b[1m0s\u001b[0m 86ms/step\n",
            "help-help-322552.wav → emergency (0.99)\n"
          ]
        }
      ]
    },
    {
      "cell_type": "markdown",
      "source": [
        "**Testing after adding more data in the fine_tune_data and doing some changes in fine tuning of YAMNet**"
      ],
      "metadata": {
        "id": "Boa6A5AbHc8D"
      }
    },
    {
      "cell_type": "code",
      "source": [],
      "metadata": {
        "id": "OEGvQTRgIK-U"
      },
      "execution_count": null,
      "outputs": []
    },
    {
      "cell_type": "markdown",
      "source": [
        "*Converting .aac files to .wav form*"
      ],
      "metadata": {
        "id": "P926iG8uIZMX"
      }
    },
    {
      "cell_type": "code",
      "source": [
        "from pydub import AudioSegment\n",
        "import os\n",
        "\n",
        "# Your input and output paths\n",
        "aac_dir = \"/content/drive/MyDrive/Recordings\"\n",
        "wav_dir = \"/content/drive/MyDrive/test2_data\"\n",
        "\n",
        "# Create output directory if it doesn't exist\n",
        "os.makedirs(wav_dir, exist_ok=True)\n",
        "\n",
        "# Convert each .aac file\n",
        "for filename in os.listdir(aac_dir):\n",
        "    if filename.endswith(\".aac\"):\n",
        "        aac_path = os.path.join(aac_dir, filename)\n",
        "        wav_path = os.path.join(wav_dir, filename.replace(\".aac\", \".wav\"))\n",
        "\n",
        "        try:\n",
        "            audio = AudioSegment.from_file(aac_path, format=\"aac\")\n",
        "            audio = audio.set_channels(1)        # mono\n",
        "            audio = audio.set_frame_rate(16000)  # 16 kHz\n",
        "            audio.export(wav_path, format=\"wav\")\n",
        "            print(f\"✅ Converted: {filename} → {wav_path}\")\n",
        "        except Exception as e:\n",
        "            print(f\"❌ Failed to convert {filename}: {e}\")\n"
      ],
      "metadata": {
        "colab": {
          "base_uri": "https://localhost:8080/"
        },
        "id": "Z4GWc75CoeIh",
        "outputId": "2c15a45e-0df8-4260-8f63-37c29ec93dfe"
      },
      "execution_count": null,
      "outputs": [
        {
          "output_type": "stream",
          "name": "stdout",
          "text": [
            "✅ Converted: scream_girl.aac → /content/drive/MyDrive/test2_data/scream_girl.wav\n",
            "✅ Converted: traffic.aac → /content/drive/MyDrive/test2_data/traffic.wav\n",
            "✅ Converted: cough.aac → /content/drive/MyDrive/test2_data/cough.wav\n",
            "✅ Converted: convo.aac → /content/drive/MyDrive/test2_data/convo.wav\n",
            "✅ Converted: help_male.aac → /content/drive/MyDrive/test2_data/help_male.wav\n",
            "✅ Converted: scream_female.aac → /content/drive/MyDrive/test2_data/scream_female.wav\n",
            "✅ Converted: fart_sound.aac → /content/drive/MyDrive/test2_data/fart_sound.wav\n",
            "✅ Converted: concert.aac → /content/drive/MyDrive/test2_data/concert.wav\n",
            "✅ Converted: scream male.aac → /content/drive/MyDrive/test2_data/scream male.wav\n",
            "✅ Converted: help.aac → /content/drive/MyDrive/test2_data/help.wav\n",
            "✅ Converted: thunder.aac → /content/drive/MyDrive/test2_data/thunder.wav\n",
            "✅ Converted: convo2.aac → /content/drive/MyDrive/test2_data/convo2.wav\n",
            "✅ Converted: ambulance.aac → /content/drive/MyDrive/test2_data/ambulance.wav\n",
            "✅ Converted: ambulance 2.aac → /content/drive/MyDrive/test2_data/ambulance 2.wav\n",
            "✅ Converted: breath.aac → /content/drive/MyDrive/test2_data/breath.wav\n"
          ]
        }
      ]
    },
    {
      "cell_type": "markdown",
      "source": [
        "*Testing the data after introducing the threshhold of 0.85 and third label called 'uncertain'*"
      ],
      "metadata": {
        "id": "9f3I9PD4IpW-"
      }
    },
    {
      "cell_type": "code",
      "source": [],
      "metadata": {
        "id": "X9QJrmIEIAw3"
      },
      "execution_count": null,
      "outputs": []
    },
    {
      "cell_type": "code",
      "source": [
        "import os\n",
        "import numpy as np\n",
        "import librosa\n",
        "import tensorflow as tf\n",
        "import tensorflow_hub as hub\n",
        "\n",
        "# Load YAMNet model\n",
        "yamnet_model_handle = 'https://tfhub.dev/google/yamnet/1'\n",
        "yamnet_model = hub.load(yamnet_model_handle)\n",
        "\n",
        "# Load your fine-tuned classifier model\n",
        "classifier = tf.keras.models.load_model('/content/drive/MyDrive/fine_tuned_yamnet_classifier1.keras')\n",
        "\n",
        "# Label map\n",
        "label_map = {0: \"non-emergency\", 1: \"emergency\"}\n",
        "\n",
        "# Directory containing test .wav files\n",
        "test_dir = \"/content/drive/MyDrive/test2_data\"\n",
        "\n",
        "\n",
        "def predict_emergency(file_path, model, yamnet_model, label_map, threshold=0.85):\n",
        "    try:\n",
        "        # Step 1: Load and preprocess audio\n",
        "        waveform, sr = librosa.load(file_path, sr=16000, mono=True)\n",
        "\n",
        "        # Step 2: Get embeddings from YAMNet\n",
        "        _, embeddings, _ = yamnet_model(waveform)\n",
        "\n",
        "        # Step 3: Average the embeddings\n",
        "        avg_embedding = tf.reduce_mean(embeddings, axis=0)\n",
        "        avg_embedding = tf.expand_dims(avg_embedding, axis=0)\n",
        "\n",
        "        # Step 4: Predict with your classifier\n",
        "        pred = model.predict(avg_embedding)\n",
        "        class_idx = np.argmax(pred)\n",
        "        confidence = float(pred[0][class_idx])\n",
        "\n",
        "        # Step 5: Apply confidence threshold\n",
        "        if confidence < threshold:\n",
        "            return \"uncertain\", confidence\n",
        "        else:\n",
        "            return label_map[class_idx], confidence\n",
        "\n",
        "        #return label_map[class_idx], confidence # Return the label and confidence\n",
        "\n",
        "\n",
        "    except Exception as e:\n",
        "        return f\"Error: {e}\", 0.0 # Return error message and 0.0 confidence\n",
        "\n",
        "\n",
        "# Show predictions\n",
        "# for single file\n",
        "# file_path = \"/content/drive/MyDrive/test_data/help_example.wav\"\n",
        "# label, confidence = predict_emergency(file_path, model, yamnet_model, label_map)\n",
        "# print(f\"🔍 Predicted: {label} (Confidence: {confidence:.2f})\")\n",
        "\n",
        "#for batch\n",
        "for file in os.listdir(test_dir):\n",
        "    if file.endswith('.wav'):\n",
        "        file_path = os.path.join(test_dir, file)\n",
        "        label, confidence = predict_emergency(file_path, classifier, yamnet_model, label_map)\n",
        "        print(f\"{file} → {label} ({confidence:.2f})\")"
      ],
      "metadata": {
        "colab": {
          "base_uri": "https://localhost:8080/"
        },
        "outputId": "9b97bcb9-d340-410b-c099-4f58b5b831e1",
        "id": "r3_vOvn7I3dd"
      },
      "execution_count": null,
      "outputs": [
        {
          "output_type": "stream",
          "name": "stdout",
          "text": [
            "\u001b[1m1/1\u001b[0m \u001b[32m━━━━━━━━━━━━━━━━━━━━\u001b[0m\u001b[37m\u001b[0m \u001b[1m0s\u001b[0m 64ms/step\n",
            "scream_girl.wav → uncertain (0.84)\n",
            "\u001b[1m1/1\u001b[0m \u001b[32m━━━━━━━━━━━━━━━━━━━━\u001b[0m\u001b[37m\u001b[0m \u001b[1m0s\u001b[0m 36ms/step\n",
            "traffic.wav → non-emergency (1.00)\n",
            "\u001b[1m1/1\u001b[0m \u001b[32m━━━━━━━━━━━━━━━━━━━━\u001b[0m\u001b[37m\u001b[0m \u001b[1m0s\u001b[0m 38ms/step\n",
            "cough.wav → non-emergency (1.00)\n",
            "\u001b[1m1/1\u001b[0m \u001b[32m━━━━━━━━━━━━━━━━━━━━\u001b[0m\u001b[37m\u001b[0m \u001b[1m0s\u001b[0m 36ms/step\n",
            "convo.wav → uncertain (0.69)\n",
            "\u001b[1m1/1\u001b[0m \u001b[32m━━━━━━━━━━━━━━━━━━━━\u001b[0m\u001b[37m\u001b[0m \u001b[1m0s\u001b[0m 37ms/step\n",
            "help_male.wav → uncertain (0.54)\n",
            "\u001b[1m1/1\u001b[0m \u001b[32m━━━━━━━━━━━━━━━━━━━━\u001b[0m\u001b[37m\u001b[0m \u001b[1m0s\u001b[0m 37ms/step\n",
            "scream_female.wav → non-emergency (0.86)\n",
            "\u001b[1m1/1\u001b[0m \u001b[32m━━━━━━━━━━━━━━━━━━━━\u001b[0m\u001b[37m\u001b[0m \u001b[1m0s\u001b[0m 37ms/step\n",
            "fart_sound.wav → non-emergency (1.00)\n",
            "\u001b[1m1/1\u001b[0m \u001b[32m━━━━━━━━━━━━━━━━━━━━\u001b[0m\u001b[37m\u001b[0m \u001b[1m0s\u001b[0m 36ms/step\n",
            "concert.wav → non-emergency (0.92)\n",
            "\u001b[1m1/1\u001b[0m \u001b[32m━━━━━━━━━━━━━━━━━━━━\u001b[0m\u001b[37m\u001b[0m \u001b[1m0s\u001b[0m 51ms/step\n",
            "scream male.wav → uncertain (0.78)\n",
            "\u001b[1m1/1\u001b[0m \u001b[32m━━━━━━━━━━━━━━━━━━━━\u001b[0m\u001b[37m\u001b[0m \u001b[1m0s\u001b[0m 49ms/step\n",
            "help.wav → non-emergency (0.94)\n",
            "\u001b[1m1/1\u001b[0m \u001b[32m━━━━━━━━━━━━━━━━━━━━\u001b[0m\u001b[37m\u001b[0m \u001b[1m0s\u001b[0m 53ms/step\n",
            "thunder.wav → non-emergency (1.00)\n",
            "\u001b[1m1/1\u001b[0m \u001b[32m━━━━━━━━━━━━━━━━━━━━\u001b[0m\u001b[37m\u001b[0m \u001b[1m0s\u001b[0m 51ms/step\n",
            "convo2.wav → uncertain (0.51)\n",
            "\u001b[1m1/1\u001b[0m \u001b[32m━━━━━━━━━━━━━━━━━━━━\u001b[0m\u001b[37m\u001b[0m \u001b[1m0s\u001b[0m 51ms/step\n",
            "ambulance.wav → emergency (0.99)\n",
            "\u001b[1m1/1\u001b[0m \u001b[32m━━━━━━━━━━━━━━━━━━━━\u001b[0m\u001b[37m\u001b[0m \u001b[1m0s\u001b[0m 71ms/step\n",
            "ambulance 2.wav → emergency (0.86)\n",
            "\u001b[1m1/1\u001b[0m \u001b[32m━━━━━━━━━━━━━━━━━━━━\u001b[0m\u001b[37m\u001b[0m \u001b[1m0s\u001b[0m 57ms/step\n",
            "breath.wav → non-emergency (0.89)\n"
          ]
        }
      ]
    },
    {
      "cell_type": "code",
      "source": [
        "import matplotlib.pyplot as plt\n",
        "import seaborn as sns\n",
        "import numpy as np\n",
        "from sklearn.metrics import confusion_matrix, ConfusionMatrixDisplay\n",
        "\n",
        "# ---------- BEFORE THRESHOLD ----------\n",
        "y_true_before = ['emergency']*7 + ['non-emergency']*8\n",
        "y_pred_before = [\n",
        "    'non-emergency',  # scream_girl.wav ❌\n",
        "    'non-emergency',  # traffic ✅\n",
        "    'non-emergency',  # cough ✅\n",
        "    'emergency',      # convo ❌\n",
        "    'non-emergency',  # help_male ❌\n",
        "    'non-emergency',  # scream_female ❌\n",
        "    'non-emergency',  # fart ✅\n",
        "    'non-emergency',  # concert ✅\n",
        "    'non-emergency',  # scream male ❌\n",
        "    'non-emergency',  # help ❌\n",
        "    'non-emergency',  # thunder ✅\n",
        "    'non-emergency',  # convo2 ✅\n",
        "    'emergency',      # ambulance ✅\n",
        "    'emergency',      # ambulance 2 ✅\n",
        "    'non-emergency',  # breath ✅\n",
        "]\n",
        "\n",
        "cm_before = confusion_matrix(y_true_before, y_pred_before, labels=['emergency', 'non-emergency'])\n",
        "\n",
        "# ---------- AFTER THRESHOLD ----------\n",
        "labels_after = [\n",
        "    'uncertain', 'non-emergency', 'non-emergency', 'uncertain', 'uncertain',\n",
        "    'non-emergency', 'non-emergency', 'non-emergency', 'uncertain',\n",
        "    'non-emergency', 'non-emergency', 'uncertain', 'emergency',\n",
        "    'emergency', 'non-emergency'\n",
        "]\n",
        "\n",
        "# Count each class for bar plot\n",
        "from collections import Counter\n",
        "after_counts = Counter(labels_after)\n",
        "\n",
        "# ---------- PLOTTING ----------\n",
        "fig, axs = plt.subplots(1, 2, figsize=(14, 5))\n",
        "\n",
        "# Confusion Matrix Before Threshold\n",
        "sns.heatmap(cm_before, annot=True, fmt=\"d\", cmap=\"Blues\", xticklabels=['emergency', 'non-emergency'], yticklabels=['emergency', 'non-emergency'], ax=axs[0])\n",
        "axs[0].set_title(\"Confusion Matrix (Before Threshold)\")\n",
        "axs[0].set_xlabel(\"Predicted\")\n",
        "axs[0].set_ylabel(\"Actual\")\n",
        "\n",
        "# Bar Plot After Threshold\n",
        "axs[1].bar(after_counts.keys(), after_counts.values(), color=['orange', 'green', 'red'])\n",
        "axs[1].set_title(\"Prediction Types (After Threshold)\")\n",
        "axs[1].set_ylabel(\"Count\")\n",
        "axs[1].set_xlabel(\"Prediction Type\")\n",
        "\n",
        "plt.tight_layout()\n",
        "plt.show()\n"
      ],
      "metadata": {
        "id": "DHgsyMPdJD4v",
        "colab": {
          "base_uri": "https://localhost:8080/",
          "height": 455
        },
        "outputId": "886d954b-e797-48dd-fa83-7e1b75e77654"
      },
      "execution_count": null,
      "outputs": [
        {
          "output_type": "display_data",
          "data": {
            "text/plain": [
              "<Figure size 1400x500 with 3 Axes>"
            ],
            "image/png": "[encoded data removed]"
          },
          "metadata": {}
        }
      ]
    },
    {
      "cell_type": "code",
      "source": [
        "train_acc = classifier.evaluate(train_X, train_y)\n",
        "val_acc = classifier.evaluate(val_X, val_y)\n",
        "test_acc = classifier.evaluate(test_X, test_y)\n"
      ],
      "metadata": {
        "colab": {
          "base_uri": "https://localhost:8080/",
          "height": 176
        },
        "id": "QO9GOMpnNjtH",
        "outputId": "b1e18855-69e3-4b1e-81c5-2a9820825163"
      },
      "execution_count": null,
      "outputs": [
        {
          "output_type": "error",
          "ename": "NameError",
          "evalue": "name 'train_X' is not defined",
          "traceback": [
            "\u001b[0;31m---------------------------------------------------------------------------\u001b[0m",
            "\u001b[0;31mNameError\u001b[0m                                 Traceback (most recent call last)",
            "\u001b[0;32m/tmp/ipython-input-9-2434465490.py\u001b[0m in \u001b[0;36m<cell line: 0>\u001b[0;34m()\u001b[0m\n\u001b[0;32m----> 1\u001b[0;31m \u001b[0mtrain_acc\u001b[0m \u001b[0;34m=\u001b[0m \u001b[0mclassifier\u001b[0m\u001b[0;34m.\u001b[0m\u001b[0mevaluate\u001b[0m\u001b[0;34m(\u001b[0m\u001b[0mtrain_X\u001b[0m\u001b[0;34m,\u001b[0m \u001b[0mtrain_y\u001b[0m\u001b[0;34m)\u001b[0m\u001b[0;34m\u001b[0m\u001b[0;34m\u001b[0m\u001b[0m\n\u001b[0m\u001b[1;32m      2\u001b[0m \u001b[0mval_acc\u001b[0m \u001b[0;34m=\u001b[0m \u001b[0mclassifier\u001b[0m\u001b[0;34m.\u001b[0m\u001b[0mevaluate\u001b[0m\u001b[0;34m(\u001b[0m\u001b[0mval_X\u001b[0m\u001b[0;34m,\u001b[0m \u001b[0mval_y\u001b[0m\u001b[0;34m)\u001b[0m\u001b[0;34m\u001b[0m\u001b[0;34m\u001b[0m\u001b[0m\n\u001b[1;32m      3\u001b[0m \u001b[0mtest_acc\u001b[0m \u001b[0;34m=\u001b[0m \u001b[0mclassifier\u001b[0m\u001b[0;34m.\u001b[0m\u001b[0mevaluate\u001b[0m\u001b[0;34m(\u001b[0m\u001b[0mtest_X\u001b[0m\u001b[0;34m,\u001b[0m \u001b[0mtest_y\u001b[0m\u001b[0;34m)\u001b[0m\u001b[0;34m\u001b[0m\u001b[0;34m\u001b[0m\u001b[0m\n",
            "\u001b[0;31mNameError\u001b[0m: name 'train_X' is not defined"
          ]
        }
      ]
    },
    {
      "cell_type": "markdown",
      "source": [
        "From all the testing we done, conclusion is coming out that because of smaller dataset fine tuning of the YAMNet is not an effective technique as the case of **Overfiting** is occuring. So, we are switching from **Fine Tuning** to **Transfer Learning**"
      ],
      "metadata": {
        "id": "yGmquddWigy4"
      }
    },
    {
      "cell_type": "markdown",
      "source": [
        "**Testing of the  model prepared using Transfer Learning**"
      ],
      "metadata": {
        "id": "Oo2KLUy-jS3a"
      }
    },
    {
      "cell_type": "code",
      "source": [
        "!pip install tensorflow_io soundfile"
      ],
      "metadata": {
        "id": "-oJshlArkaL8",
        "colab": {
          "base_uri": "https://localhost:8080/"
        },
        "outputId": "c3725dae-3153-40a8-ca65-376377e4bdd3"
      },
      "execution_count": null,
      "outputs": [
        {
          "output_type": "stream",
          "name": "stdout",
          "text": [
            "Collecting tensorflow_io\n",
            "  Downloading tensorflow_io-0.37.1-cp311-cp311-manylinux_2_17_x86_64.manylinux2014_x86_64.whl.metadata (14 kB)\n",
            "Requirement already satisfied: soundfile in /usr/local/lib/python3.11/dist-packages (0.13.1)\n",
            "Requirement already satisfied: tensorflow-io-gcs-filesystem==0.37.1 in /usr/local/lib/python3.11/dist-packages (from tensorflow_io) (0.37.1)\n",
            "Requirement already satisfied: cffi>=1.0 in /usr/local/lib/python3.11/dist-packages (from soundfile) (1.17.1)\n",
            "Requirement already satisfied: numpy in /usr/local/lib/python3.11/dist-packages (from soundfile) (2.0.2)\n",
            "Requirement already satisfied: pycparser in /usr/local/lib/python3.11/dist-packages (from cffi>=1.0->soundfile) (2.22)\n",
            "Downloading tensorflow_io-0.37.1-cp311-cp311-manylinux_2_17_x86_64.manylinux2014_x86_64.whl (49.6 MB)\n",
            "\u001b[2K   \u001b[90m━━━━━━━━━━━━━━━━━━━━━━━━━━━━━━━━━━━━━━━━\u001b[0m \u001b[32m49.6/49.6 MB\u001b[0m \u001b[31m19.6 MB/s\u001b[0m eta \u001b[36m0:00:00\u001b[0m\n",
            "\u001b[?25hInstalling collected packages: tensorflow_io\n",
            "Successfully installed tensorflow_io-0.37.1\n"
          ]
        }
      ]
    },
    {
      "cell_type": "code",
      "source": [
        "import os\n",
        "import numpy as np\n",
        "import tensorflow as tf\n",
        "import tensorflow_hub as hub\n",
        "import tensorflow_io as tfio\n",
        "import soundfile as sf\n",
        "from tensorflow.keras.models import load_model\n",
        "from sklearn.metrics import accuracy_score\n",
        "import pandas as pd"
      ],
      "metadata": {
        "colab": {
          "base_uri": "https://localhost:8080/"
        },
        "id": "26VZbZJtpF4t",
        "outputId": "953dbd56-b0c4-4ee9-8910-053c7e667b5e"
      },
      "execution_count": null,
      "outputs": [
        {
          "output_type": "stream",
          "name": "stderr",
          "text": [
            "/usr/local/lib/python3.11/dist-packages/tensorflow_io/python/ops/__init__.py:98: UserWarning: unable to load libtensorflow_io_plugins.so: unable to open file: libtensorflow_io_plugins.so, from paths: ['/usr/local/lib/python3.11/dist-packages/tensorflow_io/python/ops/libtensorflow_io_plugins.so']\n",
            "caused by: ['/usr/local/lib/python3.11/dist-packages/tensorflow_io/python/ops/libtensorflow_io_plugins.so: undefined symbol: _ZN3tsl8str_util8EndsWithESt17basic_string_viewIcSt11char_traitsIcEES4_']\n",
            "  warnings.warn(f\"unable to load libtensorflow_io_plugins.so: {e}\")\n",
            "/usr/local/lib/python3.11/dist-packages/tensorflow_io/python/ops/__init__.py:104: UserWarning: file system plugins are not loaded: unable to open file: libtensorflow_io.so, from paths: ['/usr/local/lib/python3.11/dist-packages/tensorflow_io/python/ops/libtensorflow_io.so']\n",
            "caused by: ['/usr/local/lib/python3.11/dist-packages/tensorflow_io/python/ops/libtensorflow_io.so: undefined symbol: _ZN3tsl8str_util9LowercaseB5cxx11ESt17basic_string_viewIcSt11char_traitsIcEE']\n",
            "  warnings.warn(f\"file system plugins are not loaded: {e}\")\n"
          ]
        }
      ]
    },
    {
      "cell_type": "code",
      "source": [
        "# Loading models\n",
        "yamnet_model = hub.load('https://tfhub.dev/google/yamnet/1')\n",
        "model = load_model('/content/drive/MyDrive/best_emergency_model.h5')"
      ],
      "metadata": {
        "colab": {
          "base_uri": "https://localhost:8080/"
        },
        "id": "vZQ4NcuxqC1e",
        "outputId": "47fbe841-5732-4013-fb64-a3017ee6bd39"
      },
      "execution_count": null,
      "outputs": [
        {
          "output_type": "stream",
          "name": "stderr",
          "text": [
            "WARNING:absl:Compiled the loaded model, but the compiled metrics have yet to be built. `model.compile_metrics` will be empty until you train or evaluate the model.\n",
            "WARNING:absl:Error in loading the saved optimizer state. As a result, your model is starting with a freshly initialized optimizer.\n"
          ]
        }
      ]
    },
    {
      "cell_type": "code",
      "source": [
        "# Defining Audio-to_Embedding Function\n",
        "\n",
        "def load_audio_and_embed(filepath):\n",
        "  try:\n",
        "    audio, sr = sf.read(filepath)\n",
        "    if len(audio.shape) > 1:\n",
        "      audio = np.mean(audio, axis=1)\n",
        "    waveform = tf.convert_to_tensor(audio, dtype=tf.float32)\n",
        "    if sr != 16000:\n",
        "      waveform = tfio.audio.resample(waveform, rate_in=sr, rate_out=16000)\n",
        "    _, embeddings, _ = yamnet_model(waveform)\n",
        "    return tf.reduce_mean(embeddings, axis=0)\n",
        "  except Exception as e:\n",
        "    print(f\"Error processing {filepath}: {e}\")\n",
        "    return None"
      ],
      "metadata": {
        "id": "CHeKvxBpqTQm"
      },
      "execution_count": null,
      "outputs": []
    },
    {
      "cell_type": "code",
      "source": [
        "# Preparing Test set + True Labels\n",
        "folder_path = '/content/drive/MyDrive/test2_data'\n",
        "true_labels_dict = {\n",
        "    'traffic.wav': 0,\n",
        "    'thunder.wav': 0,\n",
        "    'scream_girl.wav': 1,\n",
        "    'scream_female.wav': 1,\n",
        "    'scream_male.wav': 1,\n",
        "    'help.wav': 0,\n",
        "    'help_male.wav': 1,\n",
        "    'fart.wav': 0,\n",
        "    'cough.wav': 0,\n",
        "    'convo2.wav': 0,\n",
        "    'convo.wav': 0,\n",
        "    'concert.wav': 0,\n",
        "    'breath.wav': 0,\n",
        "    'ambulance.wav': 1,\n",
        "    'ambulance2.wav': 1,\n",
        "}\n",
        "X_test2, y_true, file_names = [], [], []\n",
        "for file in os.listdir(folder_path):\n",
        "  if file.endswith('.wav') and file in true_labels_dict:\n",
        "    path = os.path.join(folder_path, file)\n",
        "    embedding = load_audio_and_embed(path)\n",
        "    if embedding is not None:\n",
        "      X_test2.append(embedding.numpy())\n",
        "      y_true.append(true_labels_dict[file])\n",
        "      file_names.append(file)\n",
        "X_test2, y_true = np.array(X_test2), np.array(y_true)\n"
      ],
      "metadata": {
        "id": "cuI9s8L6rTZs"
      },
      "execution_count": null,
      "outputs": []
    },
    {
      "cell_type": "code",
      "source": [
        "# Making prediction and showing result\n",
        "\n",
        "#prediction\n",
        "y_pred_probs = model.predict(X_test2)\n",
        "y_pred = (y_pred_probs>0.5).astype(int).flatten()\n",
        "# Accuracy\n",
        "acc = accuracy_score(y_true, y_pred)\n",
        "print(f\"\\n✅ Test Accuracy: {acc*100:.2f}%\")\n",
        "\n",
        "# Displaying in table\n",
        "results_df = pd.DataFrame({\n",
        "    'File Name': file_names,\n",
        "    'True Label': y_true,\n",
        "    'Predicted Label': y_pred,\n",
        "    'Category': ['Emergency' if pred else 'Non-Emergency' for pred in y_pred]\n",
        "  })\n",
        "#results_df = results_df.sort_values(by= \"File Name\")\n",
        "display(results_df)"
      ],
      "metadata": {
        "colab": {
          "base_uri": "https://localhost:8080/",
          "height": 478
        },
        "id": "EzSzuEyptzf0",
        "outputId": "72359e15-758f-4437-a9f8-4704c49f2edd"
      },
      "execution_count": null,
      "outputs": [
        {
          "output_type": "stream",
          "name": "stdout",
          "text": [
            "\u001b[1m1/1\u001b[0m \u001b[32m━━━━━━━━━━━━━━━━━━━━\u001b[0m\u001b[37m\u001b[0m \u001b[1m0s\u001b[0m 45ms/step\n",
            "\n",
            "✅ Test Accuracy: 66.67%\n"
          ]
        },
        {
          "output_type": "display_data",
          "data": {
            "text/plain": [
              "            File Name  True Label  Predicted Label       Category\n",
              "0     scream_girl.wav           1                0  Non-Emergency\n",
              "1         traffic.wav           0                1      Emergency\n",
              "2           cough.wav           0                1      Emergency\n",
              "3           convo.wav           0                0  Non-Emergency\n",
              "4       help_male.wav           1                1      Emergency\n",
              "5   scream_female.wav           1                1      Emergency\n",
              "6         concert.wav           0                1      Emergency\n",
              "7            help.wav           0                0  Non-Emergency\n",
              "8         thunder.wav           0                0  Non-Emergency\n",
              "9          convo2.wav           0                0  Non-Emergency\n",
              "10      ambulance.wav           1                1      Emergency\n",
              "11         breath.wav           0                0  Non-Emergency"
            ],
            "text/html": [
              "\n",
              "  <div id=\"df-2e189a92-1fa6-498a-9859-6fcecf85fc95\" class=\"colab-df-container\">\n",
              "    <div>\n",
              "<style scoped>\n",
              "    .dataframe tbody tr th:only-of-type {\n",
              "        vertical-align: middle;\n",
              "    }\n",
              "\n",
              "    .dataframe tbody tr th {\n",
              "        vertical-align: top;\n",
              "    }\n",
              "\n",
              "    .dataframe thead th {\n",
              "        text-align: right;\n",
              "    }\n",
              "</style>\n",
              "<table border=\"1\" class=\"dataframe\">\n",
              "  <thead>\n",
              "    <tr style=\"text-align: right;\">\n",
              "      <th></th>\n",
              "      <th>File Name</th>\n",
              "      <th>True Label</th>\n",
              "      <th>Predicted Label</th>\n",
              "      <th>Category</th>\n",
              "    </tr>\n",
              "  </thead>\n",
              "  <tbody>\n",
              "    <tr>\n",
              "      <th>0</th>\n",
              "      <td>scream_girl.wav</td>\n",
              "      <td>1</td>\n",
              "      <td>0</td>\n",
              "      <td>Non-Emergency</td>\n",
              "    </tr>\n",
              "    <tr>\n",
              "      <th>1</th>\n",
              "      <td>traffic.wav</td>\n",
              "      <td>0</td>\n",
              "      <td>1</td>\n",
              "      <td>Emergency</td>\n",
              "    </tr>\n",
              "    <tr>\n",
              "      <th>2</th>\n",
              "      <td>cough.wav</td>\n",
              "      <td>0</td>\n",
              "      <td>1</td>\n",
              "      <td>Emergency</td>\n",
              "    </tr>\n",
              "    <tr>\n",
              "      <th>3</th>\n",
              "      <td>convo.wav</td>\n",
              "      <td>0</td>\n",
              "      <td>0</td>\n",
              "      <td>Non-Emergency</td>\n",
              "    </tr>\n",
              "    <tr>\n",
              "      <th>4</th>\n",
              "      <td>help_male.wav</td>\n",
              "      <td>1</td>\n",
              "      <td>1</td>\n",
              "      <td>Emergency</td>\n",
              "    </tr>\n",
              "    <tr>\n",
              "      <th>5</th>\n",
              "      <td>scream_female.wav</td>\n",
              "      <td>1</td>\n",
              "      <td>1</td>\n",
              "      <td>Emergency</td>\n",
              "    </tr>\n",
              "    <tr>\n",
              "      <th>6</th>\n",
              "      <td>concert.wav</td>\n",
              "      <td>0</td>\n",
              "      <td>1</td>\n",
              "      <td>Emergency</td>\n",
              "    </tr>\n",
              "    <tr>\n",
              "      <th>7</th>\n",
              "      <td>help.wav</td>\n",
              "      <td>0</td>\n",
              "      <td>0</td>\n",
              "      <td>Non-Emergency</td>\n",
              "    </tr>\n",
              "    <tr>\n",
              "      <th>8</th>\n",
              "      <td>thunder.wav</td>\n",
              "      <td>0</td>\n",
              "      <td>0</td>\n",
              "      <td>Non-Emergency</td>\n",
              "    </tr>\n",
              "    <tr>\n",
              "      <th>9</th>\n",
              "      <td>convo2.wav</td>\n",
              "      <td>0</td>\n",
              "      <td>0</td>\n",
              "      <td>Non-Emergency</td>\n",
              "    </tr>\n",
              "    <tr>\n",
              "      <th>10</th>\n",
              "      <td>ambulance.wav</td>\n",
              "      <td>1</td>\n",
              "      <td>1</td>\n",
              "      <td>Emergency</td>\n",
              "    </tr>\n",
              "    <tr>\n",
              "      <th>11</th>\n",
              "      <td>breath.wav</td>\n",
              "      <td>0</td>\n",
              "      <td>0</td>\n",
              "      <td>Non-Emergency</td>\n",
              "    </tr>\n",
              "  </tbody>\n",
              "</table>\n",
              "</div>\n",
              "    <div class=\"colab-df-buttons\">\n",
              "\n",
              "  <div class=\"colab-df-container\">\n",
              "    <button class=\"colab-df-convert\" onclick=\"convertToInteractive('df-2e189a92-1fa6-498a-9859-6fcecf85fc95')\"\n",
              "            title=\"Convert this dataframe to an interactive table.\"\n",
              "            style=\"display:none;\">\n",
              "\n",
              "  <svg xmlns=\"http://www.w3.org/2000/svg\" height=\"24px\" viewBox=\"0 -960 960 960\">\n",
              "    <path d=\"M120-120v-720h720v720H120Zm60-500h600v-160H180v160Zm220 220h160v-160H400v160Zm0 220h160v-160H400v160ZM180-400h160v-160H180v160Zm440 0h160v-160H620v160ZM180-180h160v-160H180v160Zm440 0h160v-160H620v160Z\"/>\n",
              "  </svg>\n",
              "    </button>\n",
              "\n",
              "  <style>\n",
              "    .colab-df-container {\n",
              "      display:flex;\n",
              "      gap: 12px;\n",
              "    }\n",
              "\n",
              "    .colab-df-convert {\n",
              "      background-color: #E8F0FE;\n",
              "      border: none;\n",
              "      border-radius: 50%;\n",
              "      cursor: pointer;\n",
              "      display: none;\n",
              "      fill: #1967D2;\n",
              "      height: 32px;\n",
              "      padding: 0 0 0 0;\n",
              "      width: 32px;\n",
              "    }\n",
              "\n",
              "    .colab-df-convert:hover {\n",
              "      background-color: #E2EBFA;\n",
              "      box-shadow: 0px 1px 2px rgba(60, 64, 67, 0.3), 0px 1px 3px 1px rgba(60, 64, 67, 0.15);\n",
              "      fill: #174EA6;\n",
              "    }\n",
              "\n",
              "    .colab-df-buttons div {\n",
              "      margin-bottom: 4px;\n",
              "    }\n",
              "\n",
              "    [theme=dark] .colab-df-convert {\n",
              "      background-color: #3B4455;\n",
              "      fill: #D2E3FC;\n",
              "    }\n",
              "\n",
              "    [theme=dark] .colab-df-convert:hover {\n",
              "      background-color: #434B5C;\n",
              "      box-shadow: 0px 1px 3px 1px rgba(0, 0, 0, 0.15);\n",
              "      filter: drop-shadow(0px 1px 2px rgba(0, 0, 0, 0.3));\n",
              "      fill: #FFFFFF;\n",
              "    }\n",
              "  </style>\n",
              "\n",
              "    <script>\n",
              "      const buttonEl =\n",
              "        document.querySelector('#df-2e189a92-1fa6-498a-9859-6fcecf85fc95 button.colab-df-convert');\n",
              "      buttonEl.style.display =\n",
              "        google.colab.kernel.accessAllowed ? 'block' : 'none';\n",
              "\n",
              "      async function convertToInteractive(key) {\n",
              "        const element = document.querySelector('#df-2e189a92-1fa6-498a-9859-6fcecf85fc95');\n",
              "        const dataTable =\n",
              "          await google.colab.kernel.invokeFunction('convertToInteractive',\n",
              "                                                    [key], {});\n",
              "        if (!dataTable) return;\n",
              "\n",
              "        const docLinkHtml = 'Like what you see? Visit the ' +\n",
              "          '<a target=\"_blank\" href=https://colab.research.google.com/notebooks/data_table.ipynb>data table notebook</a>'\n",
              "          + ' to learn more about interactive tables.';\n",
              "        element.innerHTML = '';\n",
              "        dataTable['output_type'] = 'display_data';\n",
              "        await google.colab.output.renderOutput(dataTable, element);\n",
              "        const docLink = document.createElement('div');\n",
              "        docLink.innerHTML = docLinkHtml;\n",
              "        element.appendChild(docLink);\n",
              "      }\n",
              "    </script>\n",
              "  </div>\n",
              "\n",
              "\n",
              "    <div id=\"df-967f29da-83a9-4110-91a5-98d500c9d521\">\n",
              "      <button class=\"colab-df-quickchart\" onclick=\"quickchart('df-967f29da-83a9-4110-91a5-98d500c9d521')\"\n",
              "                title=\"Suggest charts\"\n",
              "                style=\"display:none;\">\n",
              "\n",
              "<svg xmlns=\"http://www.w3.org/2000/svg\" height=\"24px\"viewBox=\"0 0 24 24\"\n",
              "     width=\"24px\">\n",
              "    <g>\n",
              "        <path d=\"M19 3H5c-1.1 0-2 .9-2 2v14c0 1.1.9 2 2 2h14c1.1 0 2-.9 2-2V5c0-1.1-.9-2-2-2zM9 17H7v-7h2v7zm4 0h-2V7h2v10zm4 0h-2v-4h2v4z\"/>\n",
              "    </g>\n",
              "</svg>\n",
              "      </button>\n",
              "\n",
              "<style>\n",
              "  .colab-df-quickchart {\n",
              "      --bg-color: #E8F0FE;\n",
              "      --fill-color: #1967D2;\n",
              "      --hover-bg-color: #E2EBFA;\n",
              "      --hover-fill-color: #174EA6;\n",
              "      --disabled-fill-color: #AAA;\n",
              "      --disabled-bg-color: #DDD;\n",
              "  }\n",
              "\n",
              "  [theme=dark] .colab-df-quickchart {\n",
              "      --bg-color: #3B4455;\n",
              "      --fill-color: #D2E3FC;\n",
              "      --hover-bg-color: #434B5C;\n",
              "      --hover-fill-color: #FFFFFF;\n",
              "      --disabled-bg-color: #3B4455;\n",
              "      --disabled-fill-color: #666;\n",
              "  }\n",
              "\n",
              "  .colab-df-quickchart {\n",
              "    background-color: var(--bg-color);\n",
              "    border: none;\n",
              "    border-radius: 50%;\n",
              "    cursor: pointer;\n",
              "    display: none;\n",
              "    fill: var(--fill-color);\n",
              "    height: 32px;\n",
              "    padding: 0;\n",
              "    width: 32px;\n",
              "  }\n",
              "\n",
              "  .colab-df-quickchart:hover {\n",
              "    background-color: var(--hover-bg-color);\n",
              "    box-shadow: 0 1px 2px rgba(60, 64, 67, 0.3), 0 1px 3px 1px rgba(60, 64, 67, 0.15);\n",
              "    fill: var(--button-hover-fill-color);\n",
              "  }\n",
              "\n",
              "  .colab-df-quickchart-complete:disabled,\n",
              "  .colab-df-quickchart-complete:disabled:hover {\n",
              "    background-color: var(--disabled-bg-color);\n",
              "    fill: var(--disabled-fill-color);\n",
              "    box-shadow: none;\n",
              "  }\n",
              "\n",
              "  .colab-df-spinner {\n",
              "    border: 2px solid var(--fill-color);\n",
              "    border-color: transparent;\n",
              "    border-bottom-color: var(--fill-color);\n",
              "    animation:\n",
              "      spin 1s steps(1) infinite;\n",
              "  }\n",
              "\n",
              "  @keyframes spin {\n",
              "    0% {\n",
              "      border-color: transparent;\n",
              "      border-bottom-color: var(--fill-color);\n",
              "      border-left-color: var(--fill-color);\n",
              "    }\n",
              "    20% {\n",
              "      border-color: transparent;\n",
              "      border-left-color: var(--fill-color);\n",
              "      border-top-color: var(--fill-color);\n",
              "    }\n",
              "    30% {\n",
              "      border-color: transparent;\n",
              "      border-left-color: var(--fill-color);\n",
              "      border-top-color: var(--fill-color);\n",
              "      border-right-color: var(--fill-color);\n",
              "    }\n",
              "    40% {\n",
              "      border-color: transparent;\n",
              "      border-right-color: var(--fill-color);\n",
              "      border-top-color: var(--fill-color);\n",
              "    }\n",
              "    60% {\n",
              "      border-color: transparent;\n",
              "      border-right-color: var(--fill-color);\n",
              "    }\n",
              "    80% {\n",
              "      border-color: transparent;\n",
              "      border-right-color: var(--fill-color);\n",
              "      border-bottom-color: var(--fill-color);\n",
              "    }\n",
              "    90% {\n",
              "      border-color: transparent;\n",
              "      border-bottom-color: var(--fill-color);\n",
              "    }\n",
              "  }\n",
              "</style>\n",
              "\n",
              "      <script>\n",
              "        async function quickchart(key) {\n",
              "          const quickchartButtonEl =\n",
              "            document.querySelector('#' + key + ' button');\n",
              "          quickchartButtonEl.disabled = true;  // To prevent multiple clicks.\n",
              "          quickchartButtonEl.classList.add('colab-df-spinner');\n",
              "          try {\n",
              "            const charts = await google.colab.kernel.invokeFunction(\n",
              "                'suggestCharts', [key], {});\n",
              "          } catch (error) {\n",
              "            console.error('Error during call to suggestCharts:', error);\n",
              "          }\n",
              "          quickchartButtonEl.classList.remove('colab-df-spinner');\n",
              "          quickchartButtonEl.classList.add('colab-df-quickchart-complete');\n",
              "        }\n",
              "        (() => {\n",
              "          let quickchartButtonEl =\n",
              "            document.querySelector('#df-967f29da-83a9-4110-91a5-98d500c9d521 button');\n",
              "          quickchartButtonEl.style.display =\n",
              "            google.colab.kernel.accessAllowed ? 'block' : 'none';\n",
              "        })();\n",
              "      </script>\n",
              "    </div>\n",
              "\n",
              "  <div id=\"id_79727173-56da-491d-9584-cb7194d51c52\">\n",
              "    <style>\n",
              "      .colab-df-generate {\n",
              "        background-color: #E8F0FE;\n",
              "        border: none;\n",
              "        border-radius: 50%;\n",
              "        cursor: pointer;\n",
              "        display: none;\n",
              "        fill: #1967D2;\n",
              "        height: 32px;\n",
              "        padding: 0 0 0 0;\n",
              "        width: 32px;\n",
              "      }\n",
              "\n",
              "      .colab-df-generate:hover {\n",
              "        background-color: #E2EBFA;\n",
              "        box-shadow: 0px 1px 2px rgba(60, 64, 67, 0.3), 0px 1px 3px 1px rgba(60, 64, 67, 0.15);\n",
              "        fill: #174EA6;\n",
              "      }\n",
              "\n",
              "      [theme=dark] .colab-df-generate {\n",
              "        background-color: #3B4455;\n",
              "        fill: #D2E3FC;\n",
              "      }\n",
              "\n",
              "      [theme=dark] .colab-df-generate:hover {\n",
              "        background-color: #434B5C;\n",
              "        box-shadow: 0px 1px 3px 1px rgba(0, 0, 0, 0.15);\n",
              "        filter: drop-shadow(0px 1px 2px rgba(0, 0, 0, 0.3));\n",
              "        fill: #FFFFFF;\n",
              "      }\n",
              "    </style>\n",
              "    <button class=\"colab-df-generate\" onclick=\"generateWithVariable('results_df')\"\n",
              "            title=\"Generate code using this dataframe.\"\n",
              "            style=\"display:none;\">\n",
              "\n",
              "  <svg xmlns=\"http://www.w3.org/2000/svg\" height=\"24px\"viewBox=\"0 0 24 24\"\n",
              "       width=\"24px\">\n",
              "    <path d=\"M7,19H8.4L18.45,9,17,7.55,7,17.6ZM5,21V16.75L18.45,3.32a2,2,0,0,1,2.83,0l1.4,1.43a1.91,1.91,0,0,1,.58,1.4,1.91,1.91,0,0,1-.58,1.4L9.25,21ZM18.45,9,17,7.55Zm-12,3A5.31,5.31,0,0,0,4.9,8.1,5.31,5.31,0,0,0,1,6.5,5.31,5.31,0,0,0,4.9,4.9,5.31,5.31,0,0,0,6.5,1,5.31,5.31,0,0,0,8.1,4.9,5.31,5.31,0,0,0,12,6.5,5.46,5.46,0,0,0,6.5,12Z\"/>\n",
              "  </svg>\n",
              "    </button>\n",
              "    <script>\n",
              "      (() => {\n",
              "      const buttonEl =\n",
              "        document.querySelector('#id_79727173-56da-491d-9584-cb7194d51c52 button.colab-df-generate');\n",
              "      buttonEl.style.display =\n",
              "        google.colab.kernel.accessAllowed ? 'block' : 'none';\n",
              "\n",
              "      buttonEl.onclick = () => {\n",
              "        google.colab.notebook.generateWithVariable('results_df');\n",
              "      }\n",
              "      })();\n",
              "    </script>\n",
              "  </div>\n",
              "\n",
              "    </div>\n",
              "  </div>\n"
            ],
            "application/vnd.google.colaboratory.intrinsic+json": {
              "type": "dataframe",
              "variable_name": "results_df",
              "summary": "{\n  \"name\": \"results_df\",\n  \"rows\": 12,\n  \"fields\": [\n    {\n      \"column\": \"File Name\",\n      \"properties\": {\n        \"dtype\": \"string\",\n        \"num_unique_values\": 12,\n        \"samples\": [\n          \"ambulance.wav\",\n          \"convo2.wav\",\n          \"scream_girl.wav\"\n        ],\n        \"semantic_type\": \"\",\n        \"description\": \"\"\n      }\n    },\n    {\n      \"column\": \"True Label\",\n      \"properties\": {\n        \"dtype\": \"number\",\n        \"std\": 0,\n        \"min\": 0,\n        \"max\": 1,\n        \"num_unique_values\": 2,\n        \"samples\": [\n          0,\n          1\n        ],\n        \"semantic_type\": \"\",\n        \"description\": \"\"\n      }\n    },\n    {\n      \"column\": \"Predicted Label\",\n      \"properties\": {\n        \"dtype\": \"number\",\n        \"std\": 0,\n        \"min\": 0,\n        \"max\": 1,\n        \"num_unique_values\": 2,\n        \"samples\": [\n          1,\n          0\n        ],\n        \"semantic_type\": \"\",\n        \"description\": \"\"\n      }\n    },\n    {\n      \"column\": \"Category\",\n      \"properties\": {\n        \"dtype\": \"category\",\n        \"num_unique_values\": 2,\n        \"samples\": [\n          \"Emergency\",\n          \"Non-Emergency\"\n        ],\n        \"semantic_type\": \"\",\n        \"description\": \"\"\n      }\n    }\n  ]\n}"
            }
          },
          "metadata": {}
        }
      ]
    },
    {
      "cell_type": "code",
      "source": [
        "# confusion matrix\n",
        "from sklearn.metrics import confusion_matrix, ConfusionMatrixDisplay\n",
        "import matplotlib.pyplot as plt\n",
        "\n",
        "\n",
        "cm = confusion_matrix(y_true, y_pred)\n",
        "disp = ConfusionMatrixDisplay(confusion_matrix=cm, display_labels=['Non-Emergency', 'Emergency'])\n",
        "disp.plot(cmap=plt.cm.Blues)\n",
        "plt.title(\"Confusion Matrix\")\n",
        "plt.grid(False)\n",
        "plt.show()"
      ],
      "metadata": {
        "colab": {
          "base_uri": "https://localhost:8080/",
          "height": 472
        },
        "id": "81k_RrETvVKZ",
        "outputId": "50f8d364-d5e0-4568-f1be-31f9edf8d46e"
      },
      "execution_count": null,
      "outputs": [
        {
          "output_type": "display_data",
          "data": {
            "text/plain": [
              "<Figure size 640x480 with 2 Axes>"
            ],
            "image/png": "[encoded data removed]"
          },
          "metadata": {}
        }
      ]
    },
    {
      "cell_type": "code",
      "source": [],
      "metadata": {
        "id": "E29qr9b6wnws"
      },
      "execution_count": null,
      "outputs": []
    }
  ]
}