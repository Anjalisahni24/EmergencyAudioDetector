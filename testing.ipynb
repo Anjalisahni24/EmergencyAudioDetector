{
  "nbformat": 4,
  "nbformat_minor": 0,
  "metadata": {
    "colab": {
      "provenance": []
    },
    "kernelspec": {
      "name": "python3",
      "display_name": "Python 3"
    },
    "language_info": {
      "name": "python"
    }
  },
  "cells": [
    {
      "cell_type": "code",
      "source": [
        "from google.colab import drive\n",
        "drive.mount('/content/drive')"
      ],
      "metadata": {
        "colab": {
          "base_uri": "https://localhost:8080/"
        },
        "id": "1jkXGlzEXfRZ",
        "outputId": "c0d1d909-a226-4560-b1fe-e22305010e89"
      },
      "execution_count": null,
      "outputs": [
        {
          "output_type": "stream",
          "name": "stdout",
          "text": [
            "Mounted at /content/drive\n"
          ]
        }
      ]
    },
    {
      "cell_type": "markdown",
      "source": [
        "**Generating test data**"
      ],
      "metadata": {
        "id": "2Z3qRhztEWQ4"
      }
    },
    {
      "cell_type": "code",
      "source": [
        "import os\n",
        "# Define path\n",
        "test_data_path = \"/content/drive/MyDrive/test_data\"\n",
        "\n",
        "# Create the directory if it doesn't exist\n",
        "os.makedirs(test_data_path, exist_ok=True)\n",
        "\n",
        "print(f\"✅ Directory created or already exists at: {test_data_path}\")\n"
      ],
      "metadata": {
        "colab": {
          "base_uri": "https://localhost:8080/"
        },
        "id": "AyjihJEYEUu_",
        "outputId": "e01a1769-be93-4fef-fa33-e3b5769fc434"
      },
      "execution_count": null,
      "outputs": [
        {
          "output_type": "stream",
          "name": "stdout",
          "text": [
            "✅ Directory created or already exists at: /content/drive/MyDrive/test_data\n"
          ]
        }
      ]
    },
    {
      "cell_type": "code",
      "source": [
        "import os\n",
        "import numpy as np\n",
        "import librosa\n",
        "import tensorflow as tf\n",
        "import tensorflow_hub as hub\n",
        "\n",
        "# Load YAMNet model\n",
        "yamnet_model_handle = 'https://tfhub.dev/google/yamnet/1'\n",
        "yamnet_model = hub.load(yamnet_model_handle)\n",
        "\n",
        "# Load your fine-tuned classifier model\n",
        "classifier = tf.keras.models.load_model('/content/drive/MyDrive/fine_tuned_yamnet_classifier1.keras')\n",
        "\n",
        "# Label map\n",
        "label_map = {0: \"non-emergency\", 1: \"emergency\"}\n",
        "\n",
        "# Directory containing test .wav files\n",
        "test_dir = \"/content/drive/MyDrive/test_data_wav\"\n",
        "\n",
        "results = []\n",
        "\n",
        "for file_name in os.listdir(test_dir):\n",
        "    if not file_name.endswith(\".wav\"):\n",
        "        continue\n",
        "\n",
        "    file_path = os.path.join(test_dir, file_name)\n",
        "\n",
        "    try:\n",
        "        # Load waveform\n",
        "        waveform, sr = librosa.load(file_path, sr=16000, mono=True)\n",
        "        waveform = waveform.astype(np.float32)\n",
        "\n",
        "        # Get embeddings from YAMNet\n",
        "        scores, embeddings, spectrogram = yamnet_model(waveform)\n",
        "        embedding = tf.reduce_mean(embeddings, axis=0).numpy().reshape(1, -1)  # Shape: (1, 1024)\n",
        "\n",
        "        # Predict using your classifier\n",
        "        pred = classifier.predict(embedding, verbose=0)\n",
        "        class_idx = int(np.argmax(pred[0]))\n",
        "        confidence = float(pred[0][class_idx])\n",
        "        label = label_map[class_idx]\n",
        "\n",
        "        results.append((file_name, label, confidence))\n",
        "\n",
        "    except Exception as e:\n",
        "        print(f\"❌ Error with {file_name}: {e}\")\n",
        "\n",
        "# Show predictions\n",
        "print(\"\\n📊 Prediction Results:\")\n",
        "for fname, label, conf in results:\n",
        "    print(f\"🔍 {fname} → {label} (Confidence: {conf:.2f})\")\n"
      ],
      "metadata": {
        "colab": {
          "base_uri": "https://localhost:8080/"
        },
        "id": "EjBMmNA8G3xo",
        "outputId": "4ad8fc03-5074-4889-a8a7-940e2d246178"
      },
      "execution_count": null,
      "outputs": [
        {
          "output_type": "stream",
          "name": "stdout",
          "text": [
            "\n",
            "📊 Prediction Results:\n",
            "🔍 girl-scream-45657.wav → emergency (Confidence: 1.00)\n",
            "🔍 help-help-322552.wav → non-emergency (Confidence: 0.89)\n",
            "🔍 fire-truck-siren-307510.wav → emergency (Confidence: 1.00)\n",
            "🔍 woman-screaming-sfx-screaming-sound-effect-320169.wav → emergency (Confidence: 1.00)\n",
            "🔍 police-siren-21498.wav → emergency (Confidence: 0.98)\n",
            "🔍 air-raid-siren-sound-effect-241383.wav → emergency (Confidence: 0.99)\n",
            "🔍 medical-ambulance-siren-290716.wav → emergency (Confidence: 1.00)\n",
            "🔍 human-snore-type-1-265473.wav → non-emergency (Confidence: 1.00)\n",
            "🔍 human-voice-saying-oh-no-301694.wav → emergency (Confidence: 1.00)\n",
            "🔍 15-human-body-97360.wav → emergency (Confidence: 0.58)\n",
            "🔍 human-walking-80552.wav → emergency (Confidence: 0.83)\n"
          ]
        }
      ]
    },
    {
      "cell_type": "code",
      "source": [],
      "metadata": {
        "id": "OEGvQTRgIK-U"
      },
      "execution_count": null,
      "outputs": []
    }
  ]
}