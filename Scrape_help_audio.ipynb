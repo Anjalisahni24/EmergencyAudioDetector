{
  "nbformat": 4,
  "nbformat_minor": 0,
  "metadata": {
    "colab": {
      "provenance": []
    },
    "kernelspec": {
      "name": "python3",
      "display_name": "Python 3"
    },
    "language_info": {
      "name": "python"
    }
  },
  "cells": [
    {
      "cell_type": "code",
      "source": [
        "import os"
      ],
      "metadata": {
        "id": "yf4dAM8kceJq"
      },
      "execution_count": 33,
      "outputs": []
    },
    {
      "cell_type": "code",
      "source": [
        "save_dir = \"/content/help_audio_scraped\"\n",
        "os.makedirs(save_dir, exist_ok=True)"
      ],
      "metadata": {
        "id": "CTmyFvfGi0Cw"
      },
      "execution_count": null,
      "outputs": []
    },
    {
      "cell_type": "code",
      "source": [
        "help_sound_urls = {\"scream_help_fabrizio84.wav\": \"https://freesound.org/data/previews/340/340591_3248244-hq.wav\",\n",
        "                   \"cry_for_help_man.wav\": \"https://freesound.org/data/previews/456/456673_6883337-hq.wav\",\n",
        "                   \"help_me_ingsey101.wav\": \"https://freesound.org/data/previews/50/50617_263661-hq.wav\",\n",
        "                   \"female_help_ameangelofsin.wav\": \"https://freesound.org/data/previews/326/326893_2771235-hq.wav\",\n",
        "                   \"child_help_brandonreese.wav\": \"https://freesound.org/data/previews/263/263133_3276450-hq.ogg\"}"
      ],
      "metadata": {
        "id": "snwHzzTglfXh"
      },
      "execution_count": null,
      "outputs": []
    },
    {
      "cell_type": "code",
      "source": [
        "import requests\n",
        "for filename, url in help_sound_urls.items():\n",
        "  path = os.path.join(save_dir, filename)\n",
        "  try:\n",
        "    print(f\"Downloading {filename}...\")\n",
        "    response = requests.get(url)\n",
        "    with open(path, \"wb\") as f:\n",
        "      f.write(response.content)\n",
        "    print(\"✔Downloaded: \", filename)\n",
        "  except Exception as e:\n",
        "    print(\"✘Error downloading: \", filename)\n",
        "    print(e)"
      ],
      "metadata": {
        "colab": {
          "base_uri": "https://localhost:8080/"
        },
        "id": "hdXaGN6Bnqo9",
        "outputId": "9d39536d-3d25-4bb7-8ed6-387250618be6"
      },
      "execution_count": null,
      "outputs": [
        {
          "output_type": "stream",
          "name": "stdout",
          "text": [
            "Downloading scream_help_fabrizio84.wav...\n",
            "✔Downloaded:  scream_help_fabrizio84.wav\n",
            "Downloading cry_for_help_man.wav...\n",
            "✔Downloaded:  cry_for_help_man.wav\n",
            "Downloading help_me_ingsey101.wav...\n",
            "✔Downloaded:  help_me_ingsey101.wav\n",
            "Downloading female_help_ameangelofsin.wav...\n",
            "✔Downloaded:  female_help_ameangelofsin.wav\n",
            "Downloading child_help_brandonreese.wav...\n",
            "✔Downloaded:  child_help_brandonreese.wav\n"
          ]
        }
      ]
    },
    {
      "cell_type": "code",
      "source": [
        "from google.colab import drive\n",
        "drive.mount('/content/drive')"
      ],
      "metadata": {
        "id": "6E_4Edogoqc7",
        "colab": {
          "base_uri": "https://localhost:8080/"
        },
        "outputId": "2f3f2b14-8081-4b7f-b20c-5e24c1c61bd8"
      },
      "execution_count": null,
      "outputs": [
        {
          "output_type": "stream",
          "name": "stdout",
          "text": [
            "Mounted at /content/drive\n"
          ]
        }
      ]
    },
    {
      "cell_type": "code",
      "source": [
        "# Moving the help_audio_scraped into the drive\n",
        "!cp -r /content/help_audio_scraped /content/drive/MyDrive/help_audio_scraped"
      ],
      "metadata": {
        "id": "xOv_R5g4uiP1"
      },
      "execution_count": null,
      "outputs": []
    },
    {
      "cell_type": "code",
      "source": [],
      "metadata": {
        "id": "-P_NWJnBu6yW"
      },
      "execution_count": null,
      "outputs": []
    }
  ]
}