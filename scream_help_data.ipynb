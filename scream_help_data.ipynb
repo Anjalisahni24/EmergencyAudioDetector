{
  "nbformat": 4,
  "nbformat_minor": 0,
  "metadata": {
    "colab": {
      "provenance": []
    },
    "kernelspec": {
      "name": "python3",
      "display_name": "Python 3"
    },
    "language_info": {
      "name": "python"
    }
  },
  "cells": [
    {
      "cell_type": "code",
      "source": [
        "from google.colab import drive\n",
        "drive.mount('/content/drive')"
      ],
      "metadata": {
        "colab": {
          "base_uri": "https://localhost:8080/"
        },
        "id": "OWgd8rekj7pH",
        "outputId": "4832f8d3-4cac-4a65-d291-197b9396b6e7"
      },
      "execution_count": null,
      "outputs": [
        {
          "output_type": "stream",
          "name": "stdout",
          "text": [
            "Mounted at /content/drive\n"
          ]
        }
      ]
    },
    {
      "cell_type": "markdown",
      "source": [
        "**Converting all .mp3 scream audio files into .wav**"
      ],
      "metadata": {
        "id": "wqWrCMqHn6LO"
      }
    },
    {
      "cell_type": "code",
      "execution_count": null,
      "metadata": {
        "colab": {
          "base_uri": "https://localhost:8080/"
        },
        "id": "jwWQTl89jZP-",
        "outputId": "9fcf6187-6731-4a09-9c0f-8114a3d99937"
      },
      "outputs": [
        {
          "output_type": "stream",
          "name": "stdout",
          "text": [
            "✅ Converted: girl-scream-45657.mp3 → /content/drive/MyDrive/fine_tune_data/scream_wav/girl-scream-45657.wav\n",
            "✅ Converted: male-death-scream-horror-352706.mp3 → /content/drive/MyDrive/fine_tune_data/scream_wav/male-death-scream-horror-352706.wav\n",
            "✅ Converted: male-death-scream-horror-352706 (1).mp3 → /content/drive/MyDrive/fine_tune_data/scream_wav/male-death-scream-horror-352706 (1).wav\n",
            "✅ Converted: man-scream-08-352438 (1).mp3 → /content/drive/MyDrive/fine_tune_data/scream_wav/man-scream-08-352438 (1).wav\n",
            "✅ Converted: 080167_female-scream-02-89290.mp3 → /content/drive/MyDrive/fine_tune_data/scream_wav/080167_female-scream-02-89290.wav\n",
            "✅ Converted: scream-104683.mp3 → /content/drive/MyDrive/fine_tune_data/scream_wav/scream-104683.wav\n",
            "✅ Converted: female-scream-short-251067.mp3 → /content/drive/MyDrive/fine_tune_data/scream_wav/female-scream-short-251067.wav\n",
            "✅ Converted: woman-enraged-fearful-scream-sound-effect-322706.mp3 → /content/drive/MyDrive/fine_tune_data/scream_wav/woman-enraged-fearful-scream-sound-effect-322706.wav\n",
            "✅ Converted: woman-scream-136558.mp3 → /content/drive/MyDrive/fine_tune_data/scream_wav/woman-scream-136558.wav\n",
            "✅ Converted: scream-81768.mp3 → /content/drive/MyDrive/fine_tune_data/scream_wav/scream-81768.wav\n",
            "✅ Converted: child-scream-96739.mp3 → /content/drive/MyDrive/fine_tune_data/scream_wav/child-scream-96739.wav\n",
            "✅ Converted: kid-screaming-329317 (1).mp3 → /content/drive/MyDrive/fine_tune_data/scream_wav/kid-screaming-329317 (1).wav\n",
            "✅ Converted: scream-of-terror-325532.mp3 → /content/drive/MyDrive/fine_tune_data/scream_wav/scream-of-terror-325532.wav\n",
            "✅ Converted: male-scream-in-fear-123079.mp3 → /content/drive/MyDrive/fine_tune_data/scream_wav/male-scream-in-fear-123079.wav\n",
            "✅ Converted: scared-and-then-scream-82622.mp3 → /content/drive/MyDrive/fine_tune_data/scream_wav/scared-and-then-scream-82622.wav\n"
          ]
        }
      ],
      "source": [
        "from pydub import AudioSegment\n",
        "import os\n",
        "\n",
        "# Path where your .mp3 files are stored\n",
        "mp3_dir = \"/content/drive/MyDrive/fine_tune_data/scream\"\n",
        "wav_dir = \"/content/drive/MyDrive/fine_tune_data/scream_wav\"\n",
        "\n",
        "# Create target folder if it doesn't exist\n",
        "os.makedirs(wav_dir, exist_ok=True)\n",
        "\n",
        "# Convert all mp3 files\n",
        "for file in os.listdir(mp3_dir):\n",
        "    if file.endswith(\".mp3\"):\n",
        "        mp3_path = os.path.join(mp3_dir, file)\n",
        "        wav_path = os.path.join(wav_dir, file.replace(\".mp3\", \".wav\"))\n",
        "\n",
        "        # Load and convert\n",
        "        audio = AudioSegment.from_mp3(mp3_path)\n",
        "        audio = audio.set_channels(1)        # mono\n",
        "        audio = audio.set_frame_rate(16000)  # 16kHz\n",
        "        audio.export(wav_path, format=\"wav\")\n",
        "        print(f\"✅ Converted: {file} → {wav_path}\")\n"
      ]
    },
    {
      "cell_type": "markdown",
      "source": [
        "**Augmenting the audio files**"
      ],
      "metadata": {
        "id": "A98ttrSpoL2a"
      }
    },
    {
      "cell_type": "code",
      "source": [
        "import librosa\n",
        "import numpy as np\n",
        "import soundfile as sf\n",
        "import random\n",
        "import os\n",
        "\n",
        "# Path to your original scream files\n",
        "input_dir = '/content/drive/MyDrive/fine_tune_data/scream_wav/'\n",
        "output_dir = '/content/drive/MyDrive/fine_tune_data/scream_augmented/'\n",
        "\n",
        "# Create output directory if doesn't exist\n",
        "os.makedirs(output_dir, exist_ok=True)\n",
        "\n",
        "# Function to apply volume change\n",
        "def change_volume(audio, factor):\n",
        "    return audio * factor\n",
        "\n",
        "# Function to apply pitch shift\n",
        "def shift_pitch(audio, sr, n_steps):\n",
        "    return librosa.effects.pitch_shift(y=audio, sr=sr, n_steps=n_steps)\n",
        "\n",
        "# Function to add background noise\n",
        "def add_noise(audio, noise_factor=0.005):\n",
        "    noise = np.random.randn(len(audio))\n",
        "    augmented_audio = audio + noise_factor * noise\n",
        "    return augmented_audio\n",
        "\n",
        "# Function to augment audio\n",
        "def augment_audio(file_path, output_path, sr=16000):\n",
        "    # Load original audio\n",
        "    audio, sr = librosa.load(file_path, sr=sr)\n",
        "\n",
        "    # Randomly apply augmentations\n",
        "    if random.random() > 0.5:  # Apply volume change with a random factor\n",
        "        audio = change_volume(audio, random.uniform(0.7, 1.5))\n",
        "\n",
        "    if random.random() > 0.5:  # Apply pitch shift\n",
        "        audio = shift_pitch(audio, sr, random.randint(-3, 3))\n",
        "\n",
        "    if random.random() > 0.5:  # Add background noise\n",
        "        audio = add_noise(audio)\n",
        "\n",
        "    # Save augmented file\n",
        "    sf.write(output_path, audio, sr)\n",
        "\n",
        "# Process each scream file\n",
        "for i, file_name in enumerate(os.listdir(input_dir)):\n",
        "    if file_name.endswith('.wav'):\n",
        "        file_path = os.path.join(input_dir, file_name)\n",
        "        for j in range(2):  # Create 2 augmented versions per original file\n",
        "            output_path = os.path.join(output_dir, f\"augmented_{i}_{j}.wav\")\n",
        "            augment_audio(file_path, output_path)\n",
        "            print(f\"✅ Augmented: {output_path}\")"
      ],
      "metadata": {
        "colab": {
          "base_uri": "https://localhost:8080/"
        },
        "id": "iwcrwiZ0jw2y",
        "outputId": "269c325f-0407-49ec-9fc6-bf4f860b58e0"
      },
      "execution_count": null,
      "outputs": [
        {
          "output_type": "stream",
          "name": "stdout",
          "text": [
            "✅ Augmented: /content/drive/MyDrive/fine_tune_data/scream_augmented/augmented_0_0.wav\n",
            "✅ Augmented: /content/drive/MyDrive/fine_tune_data/scream_augmented/augmented_0_1.wav\n",
            "✅ Augmented: /content/drive/MyDrive/fine_tune_data/scream_augmented/augmented_1_0.wav\n",
            "✅ Augmented: /content/drive/MyDrive/fine_tune_data/scream_augmented/augmented_1_1.wav\n",
            "✅ Augmented: /content/drive/MyDrive/fine_tune_data/scream_augmented/augmented_2_0.wav\n",
            "✅ Augmented: /content/drive/MyDrive/fine_tune_data/scream_augmented/augmented_2_1.wav\n",
            "✅ Augmented: /content/drive/MyDrive/fine_tune_data/scream_augmented/augmented_3_0.wav\n",
            "✅ Augmented: /content/drive/MyDrive/fine_tune_data/scream_augmented/augmented_3_1.wav\n",
            "✅ Augmented: /content/drive/MyDrive/fine_tune_data/scream_augmented/augmented_4_0.wav\n",
            "✅ Augmented: /content/drive/MyDrive/fine_tune_data/scream_augmented/augmented_4_1.wav\n",
            "✅ Augmented: /content/drive/MyDrive/fine_tune_data/scream_augmented/augmented_5_0.wav\n",
            "✅ Augmented: /content/drive/MyDrive/fine_tune_data/scream_augmented/augmented_5_1.wav\n",
            "✅ Augmented: /content/drive/MyDrive/fine_tune_data/scream_augmented/augmented_6_0.wav\n",
            "✅ Augmented: /content/drive/MyDrive/fine_tune_data/scream_augmented/augmented_6_1.wav\n",
            "✅ Augmented: /content/drive/MyDrive/fine_tune_data/scream_augmented/augmented_7_0.wav\n",
            "✅ Augmented: /content/drive/MyDrive/fine_tune_data/scream_augmented/augmented_7_1.wav\n",
            "✅ Augmented: /content/drive/MyDrive/fine_tune_data/scream_augmented/augmented_8_0.wav\n",
            "✅ Augmented: /content/drive/MyDrive/fine_tune_data/scream_augmented/augmented_8_1.wav\n",
            "✅ Augmented: /content/drive/MyDrive/fine_tune_data/scream_augmented/augmented_9_0.wav\n",
            "✅ Augmented: /content/drive/MyDrive/fine_tune_data/scream_augmented/augmented_9_1.wav\n",
            "✅ Augmented: /content/drive/MyDrive/fine_tune_data/scream_augmented/augmented_10_0.wav\n",
            "✅ Augmented: /content/drive/MyDrive/fine_tune_data/scream_augmented/augmented_10_1.wav\n",
            "✅ Augmented: /content/drive/MyDrive/fine_tune_data/scream_augmented/augmented_11_0.wav\n",
            "✅ Augmented: /content/drive/MyDrive/fine_tune_data/scream_augmented/augmented_11_1.wav\n",
            "✅ Augmented: /content/drive/MyDrive/fine_tune_data/scream_augmented/augmented_12_0.wav\n",
            "✅ Augmented: /content/drive/MyDrive/fine_tune_data/scream_augmented/augmented_12_1.wav\n",
            "✅ Augmented: /content/drive/MyDrive/fine_tune_data/scream_augmented/augmented_13_0.wav\n",
            "✅ Augmented: /content/drive/MyDrive/fine_tune_data/scream_augmented/augmented_13_1.wav\n",
            "✅ Augmented: /content/drive/MyDrive/fine_tune_data/scream_augmented/augmented_14_0.wav\n",
            "✅ Augmented: /content/drive/MyDrive/fine_tune_data/scream_augmented/augmented_14_1.wav\n"
          ]
        }
      ]
    },
    {
      "cell_type": "markdown",
      "source": [
        "**Help_audio_dataset**"
      ],
      "metadata": {
        "id": "Lq2ljat00jLo"
      }
    },
    {
      "cell_type": "code",
      "source": [
        "from pydub import AudioSegment\n",
        "import os\n",
        "\n",
        "# Your input and output paths\n",
        "aac_dir = \"/content/drive/MyDrive/fine_tune_data/help\"\n",
        "wav_dir = \"/content/drive/MyDrive/fine_tune_data/help_wav\"\n",
        "\n",
        "# Create output directory if it doesn't exist\n",
        "os.makedirs(wav_dir, exist_ok=True)\n",
        "\n",
        "# Convert each .aac file\n",
        "for filename in os.listdir(aac_dir):\n",
        "    if filename.endswith(\".aac\"):\n",
        "        aac_path = os.path.join(aac_dir, filename)\n",
        "        wav_path = os.path.join(wav_dir, filename.replace(\".aac\", \".wav\"))\n",
        "\n",
        "        try:\n",
        "            audio = AudioSegment.from_file(aac_path, format=\"aac\")\n",
        "            audio = audio.set_channels(1)        # mono\n",
        "            audio = audio.set_frame_rate(16000)  # 16 kHz\n",
        "            audio.export(wav_path, format=\"wav\")\n",
        "            print(f\"✅ Converted: {filename} → {wav_path}\")\n",
        "        except Exception as e:\n",
        "            print(f\"❌ Failed to convert {filename}: {e}\")\n"
      ],
      "metadata": {
        "colab": {
          "base_uri": "https://localhost:8080/"
        },
        "id": "Z4GWc75CoeIh",
        "outputId": "b306a54a-5669-4d87-ada1-db09da3cc237"
      },
      "execution_count": null,
      "outputs": [
        {
          "output_type": "stream",
          "name": "stdout",
          "text": [
            "✅ Converted: help_1.aac → /content/drive/MyDrive/fine_tune_data/help_wav/help_1.wav\n",
            "✅ Converted: help_3.aac → /content/drive/MyDrive/fine_tune_data/help_wav/help_3.wav\n",
            "✅ Converted: help_2.aac → /content/drive/MyDrive/fine_tune_data/help_wav/help_2.wav\n",
            "✅ Converted: help_5.aac → /content/drive/MyDrive/fine_tune_data/help_wav/help_5.wav\n",
            "✅ Converted: help_4.aac → /content/drive/MyDrive/fine_tune_data/help_wav/help_4.wav\n",
            "✅ Converted: help_8.aac → /content/drive/MyDrive/fine_tune_data/help_wav/help_8.wav\n",
            "✅ Converted: help_7.aac → /content/drive/MyDrive/fine_tune_data/help_wav/help_7.wav\n",
            "✅ Converted: help_6.aac → /content/drive/MyDrive/fine_tune_data/help_wav/help_6.wav\n",
            "✅ Converted: help_11.aac → /content/drive/MyDrive/fine_tune_data/help_wav/help_11.wav\n",
            "✅ Converted: help_10.aac → /content/drive/MyDrive/fine_tune_data/help_wav/help_10.wav\n",
            "✅ Converted: help_9.aac → /content/drive/MyDrive/fine_tune_data/help_wav/help_9.wav\n"
          ]
        }
      ]
    },
    {
      "cell_type": "markdown",
      "source": [
        "**Augmenting the help_audio**"
      ],
      "metadata": {
        "id": "-8JDvNA01VkJ"
      }
    },
    {
      "cell_type": "code",
      "source": [
        "import librosa\n",
        "import numpy as np\n",
        "import soundfile as sf\n",
        "import os\n",
        "import random\n",
        "\n",
        "# Input/output folders\n",
        "input_dir = \"/content/drive/MyDrive/fine_tune_data/help_wav\"\n",
        "output_dir = \"/content/drive/MyDrive/fine_tune_data/help_augmented\"\n",
        "\n",
        "# Make sure the output dir exists\n",
        "os.makedirs(output_dir, exist_ok=True)\n",
        "\n",
        "# Augmentation functions\n",
        "def change_volume(audio, factor):\n",
        "    return audio * factor\n",
        "\n",
        "def shift_pitch(audio, sr, n_steps):\n",
        "    return librosa.effects.pitch_shift(audio, sr, n_steps=n_steps)\n",
        "\n",
        "def add_noise(audio, noise_factor=0.005):\n",
        "    noise = np.random.randn(len(audio))\n",
        "    return audio + noise_factor * noise\n",
        "\n",
        "# Augment and save\n",
        "for i, filename in enumerate(os.listdir(input_dir)):\n",
        "    if filename.endswith('.wav'):\n",
        "        filepath = os.path.join(input_dir, filename)\n",
        "        try:\n",
        "            audio, sr = librosa.load(filepath, sr=16000)\n",
        "\n",
        "            for j in range(2):  # Create 2 augmented versions\n",
        "                aug_audio = audio.copy()\n",
        "\n",
        "                if random.random() > 0.5:\n",
        "                    aug_audio = change_volume(aug_audio, random.uniform(0.7, 1.3))\n",
        "                if random.random() > 0.5:\n",
        "                    aug_audio = librosa.effects.pitch_shift(aug_audio, sr=sr, n_steps=random.randint(-2, 2))\n",
        "\n",
        "                if random.random() > 0.5:\n",
        "                    aug_audio = add_noise(aug_audio)\n",
        "\n",
        "                out_path = os.path.join(output_dir, f\"help_aug_{i}_{j}.wav\")\n",
        "                sf.write(out_path, aug_audio, sr)\n",
        "                print(f\"✅ Augmented: {out_path}\")\n",
        "\n",
        "        except Exception as e:\n",
        "            print(f\"❌ Error processing {filename}: {e}\")"
      ],
      "metadata": {
        "colab": {
          "base_uri": "https://localhost:8080/"
        },
        "id": "KsWDtUYS043m",
        "outputId": "b21ee683-1e84-4f4b-d2f6-5bd1606ff2e3"
      },
      "execution_count": null,
      "outputs": [
        {
          "output_type": "stream",
          "name": "stdout",
          "text": [
            "✅ Augmented: /content/drive/MyDrive/fine_tune_data/help_augmented/help_aug_0_0.wav\n",
            "✅ Augmented: /content/drive/MyDrive/fine_tune_data/help_augmented/help_aug_0_1.wav\n",
            "✅ Augmented: /content/drive/MyDrive/fine_tune_data/help_augmented/help_aug_1_0.wav\n",
            "✅ Augmented: /content/drive/MyDrive/fine_tune_data/help_augmented/help_aug_1_1.wav\n",
            "✅ Augmented: /content/drive/MyDrive/fine_tune_data/help_augmented/help_aug_2_0.wav\n",
            "✅ Augmented: /content/drive/MyDrive/fine_tune_data/help_augmented/help_aug_2_1.wav\n",
            "✅ Augmented: /content/drive/MyDrive/fine_tune_data/help_augmented/help_aug_3_0.wav\n",
            "✅ Augmented: /content/drive/MyDrive/fine_tune_data/help_augmented/help_aug_3_1.wav\n",
            "✅ Augmented: /content/drive/MyDrive/fine_tune_data/help_augmented/help_aug_4_0.wav\n",
            "✅ Augmented: /content/drive/MyDrive/fine_tune_data/help_augmented/help_aug_4_1.wav\n",
            "✅ Augmented: /content/drive/MyDrive/fine_tune_data/help_augmented/help_aug_5_0.wav\n",
            "✅ Augmented: /content/drive/MyDrive/fine_tune_data/help_augmented/help_aug_5_1.wav\n",
            "✅ Augmented: /content/drive/MyDrive/fine_tune_data/help_augmented/help_aug_6_0.wav\n",
            "✅ Augmented: /content/drive/MyDrive/fine_tune_data/help_augmented/help_aug_6_1.wav\n",
            "✅ Augmented: /content/drive/MyDrive/fine_tune_data/help_augmented/help_aug_7_0.wav\n",
            "✅ Augmented: /content/drive/MyDrive/fine_tune_data/help_augmented/help_aug_7_1.wav\n",
            "✅ Augmented: /content/drive/MyDrive/fine_tune_data/help_augmented/help_aug_8_0.wav\n",
            "✅ Augmented: /content/drive/MyDrive/fine_tune_data/help_augmented/help_aug_8_1.wav\n",
            "✅ Augmented: /content/drive/MyDrive/fine_tune_data/help_augmented/help_aug_9_0.wav\n",
            "✅ Augmented: /content/drive/MyDrive/fine_tune_data/help_augmented/help_aug_9_1.wav\n",
            "✅ Augmented: /content/drive/MyDrive/fine_tune_data/help_augmented/help_aug_10_0.wav\n",
            "✅ Augmented: /content/drive/MyDrive/fine_tune_data/help_augmented/help_aug_10_1.wav\n"
          ]
        }
      ]
    },
    {
      "cell_type": "code",
      "source": [],
      "metadata": {
        "id": "j01CDC1w1tnd"
      },
      "execution_count": null,
      "outputs": []
    }
  ]
}