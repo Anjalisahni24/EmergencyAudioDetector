{
  "nbformat": 4,
  "nbformat_minor": 0,
  "metadata": {
    "colab": {
      "provenance": []
    },
    "kernelspec": {
      "name": "python3",
      "display_name": "Python 3"
    },
    "language_info": {
      "name": "python"
    }
  },
  "cells": [
    {
      "cell_type": "markdown",
      "source": [
        "**Setting the Environment**"
      ],
      "metadata": {
        "id": "mkb6rfihf0aq"
      }
    },
    {
      "cell_type": "code",
      "execution_count": null,
      "metadata": {
        "colab": {
          "base_uri": "https://localhost:8080/"
        },
        "id": "8YHKaIbcekIA",
        "outputId": "007f2c2d-7fd9-4a65-c73e-e147c240cd36"
      },
      "outputs": [
        {
          "output_type": "stream",
          "name": "stdout",
          "text": [
            "\u001b[33mWARNING: Skipping tensorflow-io as it is not installed.\u001b[0m\u001b[33m\n",
            "\u001b[0m"
          ]
        }
      ],
      "source": [
        "# Step 1: Force correct versions\n",
        "!pip uninstall -y tensorflow-io\n",
        "!pip install -q tensorflow==2.15.0 tensorflow-io==0.35.0 tensorflow-hub==0.15.0\n",
        "\n",
        "# Step 2: Restart runtime after install\n",
        "import os\n",
        "os.kill(os.getpid(), 9)\n"
      ]
    },
    {
      "cell_type": "code",
      "source": [
        "import tensorflow as tf\n",
        "import tensorflow_hub as hub\n",
        "import tensorflow_io as tfio\n",
        "\n",
        "print(tf.__version__)\n",
        "print(tfio.__version__)\n",
        "print(hub.__version__)"
      ],
      "metadata": {
        "colab": {
          "base_uri": "https://localhost:8080/"
        },
        "id": "uss4qpx0e6Gs",
        "outputId": "8dce17eb-8c04-4a0e-b90c-7e496c4cabfe"
      },
      "execution_count": null,
      "outputs": [
        {
          "output_type": "stream",
          "name": "stdout",
          "text": [
            "2.15.0\n",
            "0.35.0\n",
            "0.15.0\n"
          ]
        }
      ]
    },
    {
      "cell_type": "markdown",
      "source": [
        "**Mounting Google Drive**"
      ],
      "metadata": {
        "id": "Gt0W9V2ZgAzu"
      }
    },
    {
      "cell_type": "code",
      "source": [
        "from google.colab import drive\n",
        "drive.mount('/content/drive')"
      ],
      "metadata": {
        "colab": {
          "base_uri": "https://localhost:8080/"
        },
        "id": "gqQtuUdxfuNL",
        "outputId": "a2782ccd-99bc-4e39-d9bf-06b2173f66a7"
      },
      "execution_count": null,
      "outputs": [
        {
          "output_type": "stream",
          "name": "stdout",
          "text": [
            "Drive already mounted at /content/drive; to attempt to forcibly remount, call drive.mount(\"/content/drive\", force_remount=True).\n"
          ]
        }
      ]
    },
    {
      "cell_type": "markdown",
      "source": [
        "**Importing Modules**"
      ],
      "metadata": {
        "id": "wtelMT6QgZ0s"
      }
    },
    {
      "cell_type": "code",
      "source": [
        "import os\n",
        "import numpy as np\n",
        "import tensorflow as tf\n",
        "import tensorflow_hub as hub\n",
        "import tensorflow_io as tfio\n",
        "from sklearn.model_selection import train_test_split\n",
        "from tensorflow.keras import layers, models"
      ],
      "metadata": {
        "id": "fLTS12kPgOdJ"
      },
      "execution_count": null,
      "outputs": []
    },
    {
      "cell_type": "markdown",
      "source": [
        "**Loading Audio and Extracting Embeddings**"
      ],
      "metadata": {
        "id": "rbFpFahWhIIm"
      }
    },
    {
      "cell_type": "code",
      "source": [
        "yamnet_model = hub.load('https://tfhub.dev/google/yamnet/1')\n",
        "\n",
        "def load_audio_and_embed(filepath):\n",
        "  audio_tensor = tfio.audio.AudioIOTensor(filepath)\n",
        "  audio = tf.squeeze(audio_tensor.to_tensor(), axis=[-1])\n",
        "  sample_rate = audio_tensor.rate\n",
        "\n",
        "  if sample_rate != 16000:\n",
        "    audio = tfio.audio.resample(audio, rate_in=sample_rate, rate_out=16000)\n",
        "\n",
        "  # Cast audio to float32 as required by YAMNet\n",
        "  audio = tf.cast(audio, tf.float32)\n",
        "\n",
        "  # Extract embeddings (scores, embeddings, spectrogram)\n",
        "  _, embeddings, _ = yamnet_model(audio)\n",
        "  return tf.reduce_mean(embeddings, axis=0)    # average over time"
      ],
      "metadata": {
        "id": "A2_ABvJlg5uw"
      },
      "execution_count": null,
      "outputs": []
    },
    {
      "cell_type": "markdown",
      "source": [
        "**Preparing Dataset - Reading and Labeling files**"
      ],
      "metadata": {
        "id": "r8JLFit3i_4E"
      }
    },
    {
      "cell_type": "code",
      "source": [
        "import wave\n",
        "file = '/content/drive/MyDrive/fine_tune_data/siren/123688-8-1-5.wav'\n",
        "\n",
        "with wave.open(file, 'rb') as wav_file:\n",
        "  print(\"Channels:\", wav_file.getnchannels())\n",
        "  print(\"Sample Width:\", wav_file.getsampwidth())\n",
        "  print(\"Frame Rate(Sample rate): \", wav_file.getframerate())\n",
        "  print(\"Frames: \", wav_file.getnframes())"
      ],
      "metadata": {
        "colab": {
          "base_uri": "https://localhost:8080/"
        },
        "id": "HJT6SfeOv80n",
        "outputId": "52c551a3-3a21-4f2a-b980-31091fafdb2a"
      },
      "execution_count": null,
      "outputs": [
        {
          "output_type": "stream",
          "name": "stdout",
          "text": [
            "Channels: 1\n",
            "Sample Width: 2\n",
            "Frame Rate(Sample rate):  16000\n",
            "Frames:  64000\n"
          ]
        }
      ]
    },
    {
      "cell_type": "markdown",
      "source": [
        "As from the above result we can see that our files are not competible with YAMNet\n",
        "<br>\n",
        "Expected for YAMNet:\n",
        "<ol>\n",
        "<li> Mono = 1 channel\n",
        "<li> Sample rate = 16000\n",
        "<li> Non-zero frames\n",
        "</ol>"
      ],
      "metadata": {
        "id": "KyD73rnIxXSV"
      }
    },
    {
      "cell_type": "code",
      "source": [
        "# FIX : Converting Audio to YAMNet- Compatible Format\n",
        "!pip install pydub\n",
        "!apt-get install ffmpeg"
      ],
      "metadata": {
        "colab": {
          "base_uri": "https://localhost:8080/"
        },
        "id": "_tQ2glcMxL_H",
        "outputId": "62ddb852-ce7e-48c3-ecc1-705e077bb2c7"
      },
      "execution_count": null,
      "outputs": [
        {
          "output_type": "stream",
          "name": "stdout",
          "text": [
            "Requirement already satisfied: pydub in /usr/local/lib/python3.11/dist-packages (0.25.1)\n",
            "Reading package lists... Done\n",
            "Building dependency tree... Done\n",
            "Reading state information... Done\n",
            "ffmpeg is already the newest version (7:4.4.2-0ubuntu0.22.04.1).\n",
            "0 upgraded, 0 newly installed, 0 to remove and 35 not upgraded.\n"
          ]
        }
      ]
    },
    {
      "cell_type": "code",
      "source": [],
      "metadata": {
        "id": "PDmt5Ea3yyA-"
      },
      "execution_count": null,
      "outputs": []
    },
    {
      "cell_type": "code",
      "source": [
        "from pydub import AudioSegment\n",
        "import os\n",
        "\n",
        "input_root = \"/content/drive/MyDrive/fine_tune_data\"\n",
        "# tracking how many failed files\n",
        "fail_count = 0\n",
        "success_count = 0\n",
        "# Walk through all label folders\n",
        "for label in os.listdir(input_root):\n",
        "  label_path = os.path.join(input_root, label)\n",
        "  if not os.path.isdir(label_path):\n",
        "    continue\n",
        "  print(f\"🎧 Processing label: {label}\")\n",
        "\n",
        "  for filename in os.listdir(label_path):\n",
        "    file_path = os.path.join(label_path, filename)\n",
        "    if not (filename.endswith(\".wav\") or filename.endswith(\".ogg\")):\n",
        "      continue    # skip non-audio files\n",
        "    try:\n",
        "      audio = AudioSegment.from_file(file_path)\n",
        "      audio = audio.set_channels(1)        # Mono\n",
        "      audio = audio.set_frame_rate(16000)  # 16 kHz\n",
        "      # Overwrite with processed version\n",
        "      audio.export(file_path, format = 'wav')\n",
        "      success_count += 1\n",
        "    except Exception as e:\n",
        "      print(f\"❌ Failed: {filename} - Reason: {e}\")\n",
        "      fail_count += 1\n",
        "print(f\"\\n ✅ Done! Converted: {success_count} files | Skipped(corrupt or unsupported): {fail_count} files.\")"
      ],
      "metadata": {
        "colab": {
          "base_uri": "https://localhost:8080/"
        },
        "id": "p-eRWTFZHQpi",
        "outputId": "ac957333-f036-49dd-fa55-409dd2d75441"
      },
      "execution_count": null,
      "outputs": [
        {
          "output_type": "stream",
          "name": "stdout",
          "text": [
            "🎧 Processing label: gun_shot\n",
            "🎧 Processing label: scream_augmented\n",
            "🎧 Processing label: glass_break\n",
            "🎧 Processing label: normal\n",
            "❌ Failed: 19007-4-0-0.wav - Reason: Decoding failed. ffmpeg returned error code: 1\n",
            "\n",
            "Output from ffmpeg/avlib:\n",
            "\n",
            "ffmpeg version 4.4.2-0ubuntu0.22.04.1 Copyright (c) 2000-2021 the FFmpeg developers\n",
            "  built with gcc 11 (Ubuntu 11.2.0-19ubuntu1)\n",
            "  configuration: --prefix=/usr --extra-version=0ubuntu0.22.04.1 --toolchain=hardened --libdir=/usr/lib/x86_64-linux-gnu --incdir=/usr/include/x86_64-linux-gnu --arch=amd64 --enable-gpl --disable-stripping --enable-gnutls --enable-ladspa --enable-libaom --enable-libass --enable-libbluray --enable-libbs2b --enable-libcaca --enable-libcdio --enable-libcodec2 --enable-libdav1d --enable-libflite --enable-libfontconfig --enable-libfreetype --enable-libfribidi --enable-libgme --enable-libgsm --enable-libjack --enable-libmp3lame --enable-libmysofa --enable-libopenjpeg --enable-libopenmpt --enable-libopus --enable-libpulse --enable-librabbitmq --enable-librubberband --enable-libshine --enable-libsnappy --enable-libsoxr --enable-libspeex --enable-libsrt --enable-libssh --enable-libtheora --enable-libtwolame --enable-libvidstab --enable-libvorbis --enable-libvpx --enable-libwebp --enable-libx265 --enable-libxml2 --enable-libxvid --enable-libzimg --enable-libzmq --enable-libzvbi --enable-lv2 --enable-omx --enable-openal --enable-opencl --enable-opengl --enable-sdl2 --enable-pocketsphinx --enable-librsvg --enable-libmfx --enable-libdc1394 --enable-libdrm --enable-libiec61883 --enable-chromaprint --enable-frei0r --enable-libx264 --enable-shared\n",
            "  libavutil      56. 70.100 / 56. 70.100\n",
            "  libavcodec     58.134.100 / 58.134.100\n",
            "  libavformat    58. 76.100 / 58. 76.100\n",
            "  libavdevice    58. 13.100 / 58. 13.100\n",
            "  libavfilter     7.110.100 /  7.110.100\n",
            "  libswscale      5.  9.100 /  5.  9.100\n",
            "  libswresample   3.  9.100 /  3.  9.100\n",
            "  libpostproc    55.  9.100 / 55.  9.100\n",
            "Guessed Channel Layout for Input Stream #0.0 : mono\n",
            "Input #0, wav, from '/content/drive/MyDrive/fine_tune_data/normal/19007-4-0-0.wav':\n",
            "  Duration: 00:00:04.00, bitrate: 89 kb/s\n",
            "  Stream #0:0: Audio: adpcm_ima_wav ([17][0][0][0] / 0x0011), 22050 Hz, mono, s16p, 88 kb/s\n",
            "Unknown encoder 'pcm_s4le'\n",
            "\n",
            "❌ Failed: 36429-2-0-13.wav - Reason: Decoding failed. ffmpeg returned error code: 1\n",
            "\n",
            "Output from ffmpeg/avlib:\n",
            "\n",
            "ffmpeg version 4.4.2-0ubuntu0.22.04.1 Copyright (c) 2000-2021 the FFmpeg developers\n",
            "  built with gcc 11 (Ubuntu 11.2.0-19ubuntu1)\n",
            "  configuration: --prefix=/usr --extra-version=0ubuntu0.22.04.1 --toolchain=hardened --libdir=/usr/lib/x86_64-linux-gnu --incdir=/usr/include/x86_64-linux-gnu --arch=amd64 --enable-gpl --disable-stripping --enable-gnutls --enable-ladspa --enable-libaom --enable-libass --enable-libbluray --enable-libbs2b --enable-libcaca --enable-libcdio --enable-libcodec2 --enable-libdav1d --enable-libflite --enable-libfontconfig --enable-libfreetype --enable-libfribidi --enable-libgme --enable-libgsm --enable-libjack --enable-libmp3lame --enable-libmysofa --enable-libopenjpeg --enable-libopenmpt --enable-libopus --enable-libpulse --enable-librabbitmq --enable-librubberband --enable-libshine --enable-libsnappy --enable-libsoxr --enable-libspeex --enable-libsrt --enable-libssh --enable-libtheora --enable-libtwolame --enable-libvidstab --enable-libvorbis --enable-libvpx --enable-libwebp --enable-libx265 --enable-libxml2 --enable-libxvid --enable-libzimg --enable-libzmq --enable-libzvbi --enable-lv2 --enable-omx --enable-openal --enable-opencl --enable-opengl --enable-sdl2 --enable-pocketsphinx --enable-librsvg --enable-libmfx --enable-libdc1394 --enable-libdrm --enable-libiec61883 --enable-chromaprint --enable-frei0r --enable-libx264 --enable-shared\n",
            "  libavutil      56. 70.100 / 56. 70.100\n",
            "  libavcodec     58.134.100 / 58.134.100\n",
            "  libavformat    58. 76.100 / 58. 76.100\n",
            "  libavdevice    58. 13.100 / 58. 13.100\n",
            "  libavfilter     7.110.100 /  7.110.100\n",
            "  libswscale      5.  9.100 /  5.  9.100\n",
            "  libswresample   3.  9.100 /  3.  9.100\n",
            "  libpostproc    55.  9.100 / 55.  9.100\n",
            "Guessed Channel Layout for Input Stream #0.0 : mono\n",
            "Input #0, wav, from '/content/drive/MyDrive/fine_tune_data/normal/36429-2-0-13.wav':\n",
            "  Duration: 00:00:04.00, bitrate: 45 kb/s\n",
            "  Stream #0:0: Audio: adpcm_ms ([2][0][0][0] / 0x0002), 11024 Hz, mono, s16, 44 kb/s\n",
            "Unknown encoder 'pcm_s4le'\n",
            "\n",
            "❌ Failed: 36429-2-0-14.wav - Reason: Decoding failed. ffmpeg returned error code: 1\n",
            "\n",
            "Output from ffmpeg/avlib:\n",
            "\n",
            "ffmpeg version 4.4.2-0ubuntu0.22.04.1 Copyright (c) 2000-2021 the FFmpeg developers\n",
            "  built with gcc 11 (Ubuntu 11.2.0-19ubuntu1)\n",
            "  configuration: --prefix=/usr --extra-version=0ubuntu0.22.04.1 --toolchain=hardened --libdir=/usr/lib/x86_64-linux-gnu --incdir=/usr/include/x86_64-linux-gnu --arch=amd64 --enable-gpl --disable-stripping --enable-gnutls --enable-ladspa --enable-libaom --enable-libass --enable-libbluray --enable-libbs2b --enable-libcaca --enable-libcdio --enable-libcodec2 --enable-libdav1d --enable-libflite --enable-libfontconfig --enable-libfreetype --enable-libfribidi --enable-libgme --enable-libgsm --enable-libjack --enable-libmp3lame --enable-libmysofa --enable-libopenjpeg --enable-libopenmpt --enable-libopus --enable-libpulse --enable-librabbitmq --enable-librubberband --enable-libshine --enable-libsnappy --enable-libsoxr --enable-libspeex --enable-libsrt --enable-libssh --enable-libtheora --enable-libtwolame --enable-libvidstab --enable-libvorbis --enable-libvpx --enable-libwebp --enable-libx265 --enable-libxml2 --enable-libxvid --enable-libzimg --enable-libzmq --enable-libzvbi --enable-lv2 --enable-omx --enable-openal --enable-opencl --enable-opengl --enable-sdl2 --enable-pocketsphinx --enable-librsvg --enable-libmfx --enable-libdc1394 --enable-libdrm --enable-libiec61883 --enable-chromaprint --enable-frei0r --enable-libx264 --enable-shared\n",
            "  libavutil      56. 70.100 / 56. 70.100\n",
            "  libavcodec     58.134.100 / 58.134.100\n",
            "  libavformat    58. 76.100 / 58. 76.100\n",
            "  libavdevice    58. 13.100 / 58. 13.100\n",
            "  libavfilter     7.110.100 /  7.110.100\n",
            "  libswscale      5.  9.100 /  5.  9.100\n",
            "  libswresample   3.  9.100 /  3.  9.100\n",
            "  libpostproc    55.  9.100 / 55.  9.100\n",
            "Guessed Channel Layout for Input Stream #0.0 : mono\n",
            "Input #0, wav, from '/content/drive/MyDrive/fine_tune_data/normal/36429-2-0-14.wav':\n",
            "  Duration: 00:00:04.00, bitrate: 45 kb/s\n",
            "  Stream #0:0: Audio: adpcm_ms ([2][0][0][0] / 0x0002), 11024 Hz, mono, s16, 44 kb/s\n",
            "Unknown encoder 'pcm_s4le'\n",
            "\n",
            "❌ Failed: 36429-2-0-15.wav - Reason: Decoding failed. ffmpeg returned error code: 1\n",
            "\n",
            "Output from ffmpeg/avlib:\n",
            "\n",
            "ffmpeg version 4.4.2-0ubuntu0.22.04.1 Copyright (c) 2000-2021 the FFmpeg developers\n",
            "  built with gcc 11 (Ubuntu 11.2.0-19ubuntu1)\n",
            "  configuration: --prefix=/usr --extra-version=0ubuntu0.22.04.1 --toolchain=hardened --libdir=/usr/lib/x86_64-linux-gnu --incdir=/usr/include/x86_64-linux-gnu --arch=amd64 --enable-gpl --disable-stripping --enable-gnutls --enable-ladspa --enable-libaom --enable-libass --enable-libbluray --enable-libbs2b --enable-libcaca --enable-libcdio --enable-libcodec2 --enable-libdav1d --enable-libflite --enable-libfontconfig --enable-libfreetype --enable-libfribidi --enable-libgme --enable-libgsm --enable-libjack --enable-libmp3lame --enable-libmysofa --enable-libopenjpeg --enable-libopenmpt --enable-libopus --enable-libpulse --enable-librabbitmq --enable-librubberband --enable-libshine --enable-libsnappy --enable-libsoxr --enable-libspeex --enable-libsrt --enable-libssh --enable-libtheora --enable-libtwolame --enable-libvidstab --enable-libvorbis --enable-libvpx --enable-libwebp --enable-libx265 --enable-libxml2 --enable-libxvid --enable-libzimg --enable-libzmq --enable-libzvbi --enable-lv2 --enable-omx --enable-openal --enable-opencl --enable-opengl --enable-sdl2 --enable-pocketsphinx --enable-librsvg --enable-libmfx --enable-libdc1394 --enable-libdrm --enable-libiec61883 --enable-chromaprint --enable-frei0r --enable-libx264 --enable-shared\n",
            "  libavutil      56. 70.100 / 56. 70.100\n",
            "  libavcodec     58.134.100 / 58.134.100\n",
            "  libavformat    58. 76.100 / 58. 76.100\n",
            "  libavdevice    58. 13.100 / 58. 13.100\n",
            "  libavfilter     7.110.100 /  7.110.100\n",
            "  libswscale      5.  9.100 /  5.  9.100\n",
            "  libswresample   3.  9.100 /  3.  9.100\n",
            "  libpostproc    55.  9.100 / 55.  9.100\n",
            "Guessed Channel Layout for Input Stream #0.0 : mono\n",
            "Input #0, wav, from '/content/drive/MyDrive/fine_tune_data/normal/36429-2-0-15.wav':\n",
            "  Duration: 00:00:04.00, bitrate: 45 kb/s\n",
            "  Stream #0:0: Audio: adpcm_ms ([2][0][0][0] / 0x0002), 11024 Hz, mono, s16, 44 kb/s\n",
            "Unknown encoder 'pcm_s4le'\n",
            "\n",
            "❌ Failed: 36429-2-0-18.wav - Reason: Decoding failed. ffmpeg returned error code: 1\n",
            "\n",
            "Output from ffmpeg/avlib:\n",
            "\n",
            "ffmpeg version 4.4.2-0ubuntu0.22.04.1 Copyright (c) 2000-2021 the FFmpeg developers\n",
            "  built with gcc 11 (Ubuntu 11.2.0-19ubuntu1)\n",
            "  configuration: --prefix=/usr --extra-version=0ubuntu0.22.04.1 --toolchain=hardened --libdir=/usr/lib/x86_64-linux-gnu --incdir=/usr/include/x86_64-linux-gnu --arch=amd64 --enable-gpl --disable-stripping --enable-gnutls --enable-ladspa --enable-libaom --enable-libass --enable-libbluray --enable-libbs2b --enable-libcaca --enable-libcdio --enable-libcodec2 --enable-libdav1d --enable-libflite --enable-libfontconfig --enable-libfreetype --enable-libfribidi --enable-libgme --enable-libgsm --enable-libjack --enable-libmp3lame --enable-libmysofa --enable-libopenjpeg --enable-libopenmpt --enable-libopus --enable-libpulse --enable-librabbitmq --enable-librubberband --enable-libshine --enable-libsnappy --enable-libsoxr --enable-libspeex --enable-libsrt --enable-libssh --enable-libtheora --enable-libtwolame --enable-libvidstab --enable-libvorbis --enable-libvpx --enable-libwebp --enable-libx265 --enable-libxml2 --enable-libxvid --enable-libzimg --enable-libzmq --enable-libzvbi --enable-lv2 --enable-omx --enable-openal --enable-opencl --enable-opengl --enable-sdl2 --enable-pocketsphinx --enable-librsvg --enable-libmfx --enable-libdc1394 --enable-libdrm --enable-libiec61883 --enable-chromaprint --enable-frei0r --enable-libx264 --enable-shared\n",
            "  libavutil      56. 70.100 / 56. 70.100\n",
            "  libavcodec     58.134.100 / 58.134.100\n",
            "  libavformat    58. 76.100 / 58. 76.100\n",
            "  libavdevice    58. 13.100 / 58. 13.100\n",
            "  libavfilter     7.110.100 /  7.110.100\n",
            "  libswscale      5.  9.100 /  5.  9.100\n",
            "  libswresample   3.  9.100 /  3.  9.100\n",
            "  libpostproc    55.  9.100 / 55.  9.100\n",
            "Guessed Channel Layout for Input Stream #0.0 : mono\n",
            "Input #0, wav, from '/content/drive/MyDrive/fine_tune_data/normal/36429-2-0-18.wav':\n",
            "  Duration: 00:00:04.00, bitrate: 45 kb/s\n",
            "  Stream #0:0: Audio: adpcm_ms ([2][0][0][0] / 0x0002), 11024 Hz, mono, s16, 44 kb/s\n",
            "Unknown encoder 'pcm_s4le'\n",
            "\n",
            "❌ Failed: 36429-2-0-23.wav - Reason: Decoding failed. ffmpeg returned error code: 1\n",
            "\n",
            "Output from ffmpeg/avlib:\n",
            "\n",
            "ffmpeg version 4.4.2-0ubuntu0.22.04.1 Copyright (c) 2000-2021 the FFmpeg developers\n",
            "  built with gcc 11 (Ubuntu 11.2.0-19ubuntu1)\n",
            "  configuration: --prefix=/usr --extra-version=0ubuntu0.22.04.1 --toolchain=hardened --libdir=/usr/lib/x86_64-linux-gnu --incdir=/usr/include/x86_64-linux-gnu --arch=amd64 --enable-gpl --disable-stripping --enable-gnutls --enable-ladspa --enable-libaom --enable-libass --enable-libbluray --enable-libbs2b --enable-libcaca --enable-libcdio --enable-libcodec2 --enable-libdav1d --enable-libflite --enable-libfontconfig --enable-libfreetype --enable-libfribidi --enable-libgme --enable-libgsm --enable-libjack --enable-libmp3lame --enable-libmysofa --enable-libopenjpeg --enable-libopenmpt --enable-libopus --enable-libpulse --enable-librabbitmq --enable-librubberband --enable-libshine --enable-libsnappy --enable-libsoxr --enable-libspeex --enable-libsrt --enable-libssh --enable-libtheora --enable-libtwolame --enable-libvidstab --enable-libvorbis --enable-libvpx --enable-libwebp --enable-libx265 --enable-libxml2 --enable-libxvid --enable-libzimg --enable-libzmq --enable-libzvbi --enable-lv2 --enable-omx --enable-openal --enable-opencl --enable-opengl --enable-sdl2 --enable-pocketsphinx --enable-librsvg --enable-libmfx --enable-libdc1394 --enable-libdrm --enable-libiec61883 --enable-chromaprint --enable-frei0r --enable-libx264 --enable-shared\n",
            "  libavutil      56. 70.100 / 56. 70.100\n",
            "  libavcodec     58.134.100 / 58.134.100\n",
            "  libavformat    58. 76.100 / 58. 76.100\n",
            "  libavdevice    58. 13.100 / 58. 13.100\n",
            "  libavfilter     7.110.100 /  7.110.100\n",
            "  libswscale      5.  9.100 /  5.  9.100\n",
            "  libswresample   3.  9.100 /  3.  9.100\n",
            "  libpostproc    55.  9.100 / 55.  9.100\n",
            "Guessed Channel Layout for Input Stream #0.0 : mono\n",
            "Input #0, wav, from '/content/drive/MyDrive/fine_tune_data/normal/36429-2-0-23.wav':\n",
            "  Duration: 00:00:04.00, bitrate: 45 kb/s\n",
            "  Stream #0:0: Audio: adpcm_ms ([2][0][0][0] / 0x0002), 11024 Hz, mono, s16, 44 kb/s\n",
            "Unknown encoder 'pcm_s4le'\n",
            "\n",
            "❌ Failed: 36429-2-0-6.wav - Reason: Decoding failed. ffmpeg returned error code: 1\n",
            "\n",
            "Output from ffmpeg/avlib:\n",
            "\n",
            "ffmpeg version 4.4.2-0ubuntu0.22.04.1 Copyright (c) 2000-2021 the FFmpeg developers\n",
            "  built with gcc 11 (Ubuntu 11.2.0-19ubuntu1)\n",
            "  configuration: --prefix=/usr --extra-version=0ubuntu0.22.04.1 --toolchain=hardened --libdir=/usr/lib/x86_64-linux-gnu --incdir=/usr/include/x86_64-linux-gnu --arch=amd64 --enable-gpl --disable-stripping --enable-gnutls --enable-ladspa --enable-libaom --enable-libass --enable-libbluray --enable-libbs2b --enable-libcaca --enable-libcdio --enable-libcodec2 --enable-libdav1d --enable-libflite --enable-libfontconfig --enable-libfreetype --enable-libfribidi --enable-libgme --enable-libgsm --enable-libjack --enable-libmp3lame --enable-libmysofa --enable-libopenjpeg --enable-libopenmpt --enable-libopus --enable-libpulse --enable-librabbitmq --enable-librubberband --enable-libshine --enable-libsnappy --enable-libsoxr --enable-libspeex --enable-libsrt --enable-libssh --enable-libtheora --enable-libtwolame --enable-libvidstab --enable-libvorbis --enable-libvpx --enable-libwebp --enable-libx265 --enable-libxml2 --enable-libxvid --enable-libzimg --enable-libzmq --enable-libzvbi --enable-lv2 --enable-omx --enable-openal --enable-opencl --enable-opengl --enable-sdl2 --enable-pocketsphinx --enable-librsvg --enable-libmfx --enable-libdc1394 --enable-libdrm --enable-libiec61883 --enable-chromaprint --enable-frei0r --enable-libx264 --enable-shared\n",
            "  libavutil      56. 70.100 / 56. 70.100\n",
            "  libavcodec     58.134.100 / 58.134.100\n",
            "  libavformat    58. 76.100 / 58. 76.100\n",
            "  libavdevice    58. 13.100 / 58. 13.100\n",
            "  libavfilter     7.110.100 /  7.110.100\n",
            "  libswscale      5.  9.100 /  5.  9.100\n",
            "  libswresample   3.  9.100 /  3.  9.100\n",
            "  libpostproc    55.  9.100 / 55.  9.100\n",
            "Guessed Channel Layout for Input Stream #0.0 : mono\n",
            "Input #0, wav, from '/content/drive/MyDrive/fine_tune_data/normal/36429-2-0-6.wav':\n",
            "  Duration: 00:00:04.00, bitrate: 45 kb/s\n",
            "  Stream #0:0: Audio: adpcm_ms ([2][0][0][0] / 0x0002), 11024 Hz, mono, s16, 44 kb/s\n",
            "Unknown encoder 'pcm_s4le'\n",
            "\n",
            "❌ Failed: 36429-2-0-7.wav - Reason: Decoding failed. ffmpeg returned error code: 1\n",
            "\n",
            "Output from ffmpeg/avlib:\n",
            "\n",
            "ffmpeg version 4.4.2-0ubuntu0.22.04.1 Copyright (c) 2000-2021 the FFmpeg developers\n",
            "  built with gcc 11 (Ubuntu 11.2.0-19ubuntu1)\n",
            "  configuration: --prefix=/usr --extra-version=0ubuntu0.22.04.1 --toolchain=hardened --libdir=/usr/lib/x86_64-linux-gnu --incdir=/usr/include/x86_64-linux-gnu --arch=amd64 --enable-gpl --disable-stripping --enable-gnutls --enable-ladspa --enable-libaom --enable-libass --enable-libbluray --enable-libbs2b --enable-libcaca --enable-libcdio --enable-libcodec2 --enable-libdav1d --enable-libflite --enable-libfontconfig --enable-libfreetype --enable-libfribidi --enable-libgme --enable-libgsm --enable-libjack --enable-libmp3lame --enable-libmysofa --enable-libopenjpeg --enable-libopenmpt --enable-libopus --enable-libpulse --enable-librabbitmq --enable-librubberband --enable-libshine --enable-libsnappy --enable-libsoxr --enable-libspeex --enable-libsrt --enable-libssh --enable-libtheora --enable-libtwolame --enable-libvidstab --enable-libvorbis --enable-libvpx --enable-libwebp --enable-libx265 --enable-libxml2 --enable-libxvid --enable-libzimg --enable-libzmq --enable-libzvbi --enable-lv2 --enable-omx --enable-openal --enable-opencl --enable-opengl --enable-sdl2 --enable-pocketsphinx --enable-librsvg --enable-libmfx --enable-libdc1394 --enable-libdrm --enable-libiec61883 --enable-chromaprint --enable-frei0r --enable-libx264 --enable-shared\n",
            "  libavutil      56. 70.100 / 56. 70.100\n",
            "  libavcodec     58.134.100 / 58.134.100\n",
            "  libavformat    58. 76.100 / 58. 76.100\n",
            "  libavdevice    58. 13.100 / 58. 13.100\n",
            "  libavfilter     7.110.100 /  7.110.100\n",
            "  libswscale      5.  9.100 /  5.  9.100\n",
            "  libswresample   3.  9.100 /  3.  9.100\n",
            "  libpostproc    55.  9.100 / 55.  9.100\n",
            "Guessed Channel Layout for Input Stream #0.0 : mono\n",
            "Input #0, wav, from '/content/drive/MyDrive/fine_tune_data/normal/36429-2-0-7.wav':\n",
            "  Duration: 00:00:04.00, bitrate: 45 kb/s\n",
            "  Stream #0:0: Audio: adpcm_ms ([2][0][0][0] / 0x0002), 11024 Hz, mono, s16, 44 kb/s\n",
            "Unknown encoder 'pcm_s4le'\n",
            "\n",
            "❌ Failed: 88466-7-0-0.wav - Reason: Decoding failed. ffmpeg returned error code: 1\n",
            "\n",
            "Output from ffmpeg/avlib:\n",
            "\n",
            "ffmpeg version 4.4.2-0ubuntu0.22.04.1 Copyright (c) 2000-2021 the FFmpeg developers\n",
            "  built with gcc 11 (Ubuntu 11.2.0-19ubuntu1)\n",
            "  configuration: --prefix=/usr --extra-version=0ubuntu0.22.04.1 --toolchain=hardened --libdir=/usr/lib/x86_64-linux-gnu --incdir=/usr/include/x86_64-linux-gnu --arch=amd64 --enable-gpl --disable-stripping --enable-gnutls --enable-ladspa --enable-libaom --enable-libass --enable-libbluray --enable-libbs2b --enable-libcaca --enable-libcdio --enable-libcodec2 --enable-libdav1d --enable-libflite --enable-libfontconfig --enable-libfreetype --enable-libfribidi --enable-libgme --enable-libgsm --enable-libjack --enable-libmp3lame --enable-libmysofa --enable-libopenjpeg --enable-libopenmpt --enable-libopus --enable-libpulse --enable-librabbitmq --enable-librubberband --enable-libshine --enable-libsnappy --enable-libsoxr --enable-libspeex --enable-libsrt --enable-libssh --enable-libtheora --enable-libtwolame --enable-libvidstab --enable-libvorbis --enable-libvpx --enable-libwebp --enable-libx265 --enable-libxml2 --enable-libxvid --enable-libzimg --enable-libzmq --enable-libzvbi --enable-lv2 --enable-omx --enable-openal --enable-opencl --enable-opengl --enable-sdl2 --enable-pocketsphinx --enable-librsvg --enable-libmfx --enable-libdc1394 --enable-libdrm --enable-libiec61883 --enable-chromaprint --enable-frei0r --enable-libx264 --enable-shared\n",
            "  libavutil      56. 70.100 / 56. 70.100\n",
            "  libavcodec     58.134.100 / 58.134.100\n",
            "  libavformat    58. 76.100 / 58. 76.100\n",
            "  libavdevice    58. 13.100 / 58. 13.100\n",
            "  libavfilter     7.110.100 /  7.110.100\n",
            "  libswscale      5.  9.100 /  5.  9.100\n",
            "  libswresample   3.  9.100 /  3.  9.100\n",
            "  libpostproc    55.  9.100 / 55.  9.100\n",
            "Guessed Channel Layout for Input Stream #0.0 : mono\n",
            "Input #0, wav, from '/content/drive/MyDrive/fine_tune_data/normal/88466-7-0-0.wav':\n",
            "  Duration: 00:00:01.66, bitrate: 178 kb/s\n",
            "  Stream #0:0: Audio: adpcm_ms ([2][0][0][0] / 0x0002), 44100 Hz, mono, s16, 176 kb/s\n",
            "Unknown encoder 'pcm_s4le'\n",
            "\n",
            "🎧 Processing label: help_augmented\n",
            "🎧 Processing label: siren\n",
            "\n",
            " ✅ Done! Converted: 9064 files | Skipped(corrupt or unsupported): 9 files.\n"
          ]
        }
      ]
    },
    {
      "cell_type": "code",
      "source": [
        "import os\n",
        "\n",
        "source_dir = '/content/drive/MyDrive/fine_tune_data'\n",
        "target_dir = '/content/drive/MyDrive/clean_wavs'\n",
        "\n",
        "os.makedirs(target_dir, exist_ok=True)\n",
        "\n",
        "for file in os.listdir(source_dir):\n",
        "    if file.endswith('.wav'):\n",
        "        in_path = os.path.join(source_dir, file)\n",
        "        out_path = os.path.join(target_dir, file)\n",
        "        !ffmpeg -y -i \"{in_path}\" -acodec pcm_s16le -ar 16000 \"{out_path}\"\n"
      ],
      "metadata": {
        "id": "QZArY9sX_8mj"
      },
      "execution_count": null,
      "outputs": []
    },
    {
      "cell_type": "code",
      "source": [],
      "metadata": {
        "id": "zBa1k-293SvM"
      },
      "execution_count": null,
      "outputs": []
    },
    {
      "cell_type": "code",
      "metadata": {
        "colab": {
          "base_uri": "https://localhost:8080/"
        },
        "id": "fd0acc43",
        "outputId": "74cc65ff-2538-45f7-8ebb-a2354d100e88"
      },
      "source": [
        "import os\n",
        "\n",
        "source_dir = '/content/drive/MyDrive/fine_tune_data'\n",
        "target_dir = '/content/drive/MyDrive/clean_wavs'\n",
        "\n",
        "os.makedirs(target_dir, exist_ok=True)\n",
        "\n",
        "for label in os.listdir(source_dir):\n",
        "    label_path = os.path.join(source_dir, label)\n",
        "    if not os.path.isdir(label_path):\n",
        "        continue\n",
        "\n",
        "    target_label_dir = os.path.join(target_dir, label)\n",
        "    os.makedirs(target_label_dir, exist_ok=True)\n",
        "\n",
        "    print(f\"Converting audio files for label: {label}\")\n",
        "    for file in os.listdir(label_path):\n",
        "        in_path = os.path.join(label_path, file)\n",
        "        if not (file.endswith(\".wav\") or file.endswith(\".ogg\")):\n",
        "            continue\n",
        "\n",
        "        out_path = os.path.join(target_label_dir, os.path.splitext(file)[0] + '.wav')\n",
        "\n",
        "        try:\n",
        "            # Use ffmpeg to convert to standard WAV format\n",
        "            # -y: overwrite output files without asking\n",
        "            # -i: input file\n",
        "            # -acodec pcm_s16le: specify output audio codec (PCM signed 16-bit little-endian)\n",
        "            # -ar 16000: specify audio sample rate (16000 Hz)\n",
        "            # -ac 1: set number of audio channels to 1 (mono)\n",
        "            !ffmpeg -y -i \"{in_path}\" -acodec pcm_s16le -ar 16000 -ac 1 \"{out_path}\" > /dev/null 2>&1\n",
        "        except Exception as e:\n",
        "            print(f\"Failed to convert {file}: {e}\")\n",
        "\n",
        "print(\"Conversion complete.\")"
      ],
      "execution_count": null,
      "outputs": [
        {
          "output_type": "stream",
          "name": "stdout",
          "text": [
            "Converting audio files for label: gun_shot\n",
            "Converting audio files for label: scream_augmented\n",
            "Converting audio files for label: glass_break\n",
            "Converting audio files for label: normal\n",
            "Converting audio files for label: help_augmented\n",
            "Converting audio files for label: siren\n",
            "Conversion complete.\n"
          ]
        }
      ]
    },
    {
      "cell_type": "markdown",
      "metadata": {
        "id": "0c1153a0"
      },
      "source": [
        "Now that the audio files have been converted to a consistent format in the `/content/drive/MyDrive/clean_wavs` directory, we can update the code to load the embeddings from this new directory."
      ]
    },
    {
      "cell_type": "code",
      "metadata": {
        "colab": {
          "base_uri": "https://localhost:8080/"
        },
        "id": "820b64bc",
        "outputId": "2e9326b6-ee90-4b42-89e0-77ee3655b129"
      },
      "source": [
        "X = []\n",
        "y = []\n",
        "\n",
        "emergency_labels = ['siren', 'scream_augmented', 'help_augmented', 'gun_shot', 'glass_break']\n",
        "# Change base_dir to point to the directory with cleaned WAV files\n",
        "base_dir = '/content/drive/MyDrive/clean_wavs'\n",
        "\n",
        "for label in os.listdir(base_dir):\n",
        "  label_path = os.path.join(base_dir, label)\n",
        "  if not os.path.isdir(label_path):\n",
        "    continue\n",
        "  class_val = 1 if label in emergency_labels else 0\n",
        "  print(f\"Processing label: {label}\")\n",
        "  for file in os.listdir(label_path):\n",
        "    # Ensure we only process .wav files in the cleaned directory\n",
        "    if not file.endswith('.wav'):\n",
        "      continue\n",
        "    file_path = os.path.join(label_path, file)\n",
        "    try:\n",
        "        embedding = load_audio_and_embed(file_path)\n",
        "        if embedding is not None:\n",
        "          X.append(embedding.numpy())\n",
        "          y.append(class_val)\n",
        "    except Exception as e:\n",
        "        print(f\"Failed to process {file}: {e}\")\n",
        "\n",
        "\n",
        "# Convert lists to numpy arrays\n",
        "X = np.array(X)\n",
        "y = np.array(y)\n",
        "\n",
        "print(f\"\\nFinished processing. Total samples: {len(X)}\")"
      ],
      "execution_count": null,
      "outputs": [
        {
          "output_type": "stream",
          "name": "stdout",
          "text": [
            "Processing label: gun_shot\n",
            "Processing label: scream_augmented\n",
            "Processing label: glass_break\n",
            "Processing label: normal\n",
            "Processing label: help_augmented\n",
            "Processing label: siren\n",
            "\n",
            "Finished processing. Total samples: 9073\n"
          ]
        }
      ]
    },
    {
      "cell_type": "markdown",
      "source": [
        "**Training the Classifier**"
      ],
      "metadata": {
        "id": "GCphTP5PR27b"
      }
    },
    {
      "cell_type": "code",
      "source": [
        "from tensorflow.keras.callbacks import EarlyStopping, ModelCheckpoint\n",
        "from sklearn.model_selection import train_test_split\n",
        "# Split into training and testing\n",
        "X_train, X_test, y_train, y_test = train_test_split(X, y, test_size = 0.2, stratify = y, random_state = 42)\n",
        "# defining the model\n",
        "model = models.Sequential([\n",
        "    layers.Input(shape=(1024,)),\n",
        "    layers.Dense(256, activation='relu'),\n",
        "    layers.Dropout(0.3),\n",
        "    layers.Dense(64, activation= 'relu'),\n",
        "    layers.Dense(1, activation= 'sigmoid')      # Binary Output\n",
        "])\n",
        "\n",
        "# Compiling the model\n",
        "model.compile(optimizer= 'adam', loss= 'binary_crossentropy', metrics = ['accuracy'])\n",
        "# Callbacks\n",
        "early_stop = EarlyStopping(monitor= 'val_loss', patience= 7, verbose= 1, mode= 'min', restore_best_weights= True)\n",
        "checkpoint = ModelCheckpoint(filepath = '/content/drive/MyDrive/best_emergency_model.h5', monitor= 'val_loss', save_best_only= True)\n",
        "# Training the model\n",
        "history = model.fit(X_train, y_train, validation_data= (X_test, y_test), epochs= 50, batch_size= 32, callbacks= [early_stop, checkpoint])"
      ],
      "metadata": {
        "colab": {
          "base_uri": "https://localhost:8080/"
        },
        "id": "yayyV7FrNxV3",
        "outputId": "33cdc679-1ad6-497c-ab2c-5b866c18cce7"
      },
      "execution_count": null,
      "outputs": [
        {
          "output_type": "stream",
          "name": "stdout",
          "text": [
            "Epoch 1/50\n",
            "227/227 [==============================] - 3s 8ms/step - loss: 0.8522 - accuracy: 0.8129 - val_loss: 0.4495 - val_accuracy: 0.8579\n",
            "Epoch 2/50\n",
            "  1/227 [..............................] - ETA: 1s - loss: 0.6962 - accuracy: 0.9375"
          ]
        },
        {
          "output_type": "stream",
          "name": "stderr",
          "text": [
            "/usr/local/lib/python3.11/dist-packages/keras/src/engine/training.py:3103: UserWarning: You are saving your model as an HDF5 file via `model.save()`. This file format is considered legacy. We recommend using instead the native Keras format, e.g. `model.save('my_model.keras')`.\n",
            "  saving_api.save_model(\n"
          ]
        },
        {
          "output_type": "stream",
          "name": "stdout",
          "text": [
            "227/227 [==============================] - 2s 8ms/step - loss: 0.5864 - accuracy: 0.8374 - val_loss: 0.4071 - val_accuracy: 0.8705\n",
            "Epoch 3/50\n",
            " 13/227 [>.............................] - ETA: 1s - loss: 0.3426 - accuracy: 0.8822"
          ]
        },
        {
          "output_type": "stream",
          "name": "stderr",
          "text": [
            "/usr/local/lib/python3.11/dist-packages/keras/src/engine/training.py:3103: UserWarning: You are saving your model as an HDF5 file via `model.save()`. This file format is considered legacy. We recommend using instead the native Keras format, e.g. `model.save('my_model.keras')`.\n",
            "  saving_api.save_model(\n"
          ]
        },
        {
          "output_type": "stream",
          "name": "stdout",
          "text": [
            "227/227 [==============================] - 2s 9ms/step - loss: 0.4585 - accuracy: 0.8537 - val_loss: 0.4074 - val_accuracy: 0.8848\n",
            "Epoch 4/50\n",
            "227/227 [==============================] - 2s 8ms/step - loss: 0.4337 - accuracy: 0.8628 - val_loss: 0.3442 - val_accuracy: 0.8887\n",
            "Epoch 5/50\n",
            " 19/227 [=>............................] - ETA: 1s - loss: 0.4206 - accuracy: 0.8865"
          ]
        },
        {
          "output_type": "stream",
          "name": "stderr",
          "text": [
            "/usr/local/lib/python3.11/dist-packages/keras/src/engine/training.py:3103: UserWarning: You are saving your model as an HDF5 file via `model.save()`. This file format is considered legacy. We recommend using instead the native Keras format, e.g. `model.save('my_model.keras')`.\n",
            "  saving_api.save_model(\n"
          ]
        },
        {
          "output_type": "stream",
          "name": "stdout",
          "text": [
            "227/227 [==============================] - 1s 6ms/step - loss: 0.3993 - accuracy: 0.8705 - val_loss: 0.3299 - val_accuracy: 0.8865\n",
            "Epoch 6/50\n",
            " 22/227 [=>............................] - ETA: 0s - loss: 0.3309 - accuracy: 0.8807"
          ]
        },
        {
          "output_type": "stream",
          "name": "stderr",
          "text": [
            "/usr/local/lib/python3.11/dist-packages/keras/src/engine/training.py:3103: UserWarning: You are saving your model as an HDF5 file via `model.save()`. This file format is considered legacy. We recommend using instead the native Keras format, e.g. `model.save('my_model.keras')`.\n",
            "  saving_api.save_model(\n"
          ]
        },
        {
          "output_type": "stream",
          "name": "stdout",
          "text": [
            "227/227 [==============================] - 1s 6ms/step - loss: 0.3517 - accuracy: 0.8737 - val_loss: 0.3171 - val_accuracy: 0.8705\n",
            "Epoch 7/50\n",
            " 22/227 [=>............................] - ETA: 0s - loss: 0.3878 - accuracy: 0.8636"
          ]
        },
        {
          "output_type": "stream",
          "name": "stderr",
          "text": [
            "/usr/local/lib/python3.11/dist-packages/keras/src/engine/training.py:3103: UserWarning: You are saving your model as an HDF5 file via `model.save()`. This file format is considered legacy. We recommend using instead the native Keras format, e.g. `model.save('my_model.keras')`.\n",
            "  saving_api.save_model(\n"
          ]
        },
        {
          "output_type": "stream",
          "name": "stdout",
          "text": [
            "227/227 [==============================] - 1s 6ms/step - loss: 0.3532 - accuracy: 0.8771 - val_loss: 0.3030 - val_accuracy: 0.8937\n",
            "Epoch 8/50\n",
            " 22/227 [=>............................] - ETA: 1s - loss: 0.3133 - accuracy: 0.8949"
          ]
        },
        {
          "output_type": "stream",
          "name": "stderr",
          "text": [
            "/usr/local/lib/python3.11/dist-packages/keras/src/engine/training.py:3103: UserWarning: You are saving your model as an HDF5 file via `model.save()`. This file format is considered legacy. We recommend using instead the native Keras format, e.g. `model.save('my_model.keras')`.\n",
            "  saving_api.save_model(\n"
          ]
        },
        {
          "output_type": "stream",
          "name": "stdout",
          "text": [
            "227/227 [==============================] - 1s 6ms/step - loss: 0.3371 - accuracy: 0.8794 - val_loss: 0.3039 - val_accuracy: 0.8876\n",
            "Epoch 9/50\n",
            "227/227 [==============================] - 1s 6ms/step - loss: 0.3400 - accuracy: 0.8796 - val_loss: 0.2940 - val_accuracy: 0.8959\n",
            "Epoch 10/50\n",
            " 22/227 [=>............................] - ETA: 1s - loss: 0.2915 - accuracy: 0.8949"
          ]
        },
        {
          "output_type": "stream",
          "name": "stderr",
          "text": [
            "/usr/local/lib/python3.11/dist-packages/keras/src/engine/training.py:3103: UserWarning: You are saving your model as an HDF5 file via `model.save()`. This file format is considered legacy. We recommend using instead the native Keras format, e.g. `model.save('my_model.keras')`.\n",
            "  saving_api.save_model(\n"
          ]
        },
        {
          "output_type": "stream",
          "name": "stdout",
          "text": [
            "227/227 [==============================] - 1s 6ms/step - loss: 0.3150 - accuracy: 0.8854 - val_loss: 0.2925 - val_accuracy: 0.9030\n",
            "Epoch 11/50\n",
            " 20/227 [=>............................] - ETA: 1s - loss: 0.3218 - accuracy: 0.8922"
          ]
        },
        {
          "output_type": "stream",
          "name": "stderr",
          "text": [
            "/usr/local/lib/python3.11/dist-packages/keras/src/engine/training.py:3103: UserWarning: You are saving your model as an HDF5 file via `model.save()`. This file format is considered legacy. We recommend using instead the native Keras format, e.g. `model.save('my_model.keras')`.\n",
            "  saving_api.save_model(\n"
          ]
        },
        {
          "output_type": "stream",
          "name": "stdout",
          "text": [
            "227/227 [==============================] - 2s 7ms/step - loss: 0.3342 - accuracy: 0.8826 - val_loss: 0.2869 - val_accuracy: 0.8942\n",
            "Epoch 12/50\n",
            " 15/227 [>.............................] - ETA: 1s - loss: 0.3503 - accuracy: 0.8729"
          ]
        },
        {
          "output_type": "stream",
          "name": "stderr",
          "text": [
            "/usr/local/lib/python3.11/dist-packages/keras/src/engine/training.py:3103: UserWarning: You are saving your model as an HDF5 file via `model.save()`. This file format is considered legacy. We recommend using instead the native Keras format, e.g. `model.save('my_model.keras')`.\n",
            "  saving_api.save_model(\n"
          ]
        },
        {
          "output_type": "stream",
          "name": "stdout",
          "text": [
            "227/227 [==============================] - 2s 10ms/step - loss: 0.3059 - accuracy: 0.8910 - val_loss: 0.2904 - val_accuracy: 0.8964\n",
            "Epoch 13/50\n",
            "227/227 [==============================] - 2s 8ms/step - loss: 0.3043 - accuracy: 0.8887 - val_loss: 0.3222 - val_accuracy: 0.8959\n",
            "Epoch 14/50\n",
            "227/227 [==============================] - 1s 6ms/step - loss: 0.3166 - accuracy: 0.8861 - val_loss: 0.2903 - val_accuracy: 0.8953\n",
            "Epoch 15/50\n",
            "227/227 [==============================] - 1s 6ms/step - loss: 0.3008 - accuracy: 0.8918 - val_loss: 0.3020 - val_accuracy: 0.8926\n",
            "Epoch 16/50\n",
            "227/227 [==============================] - 1s 6ms/step - loss: 0.2979 - accuracy: 0.8910 - val_loss: 0.2956 - val_accuracy: 0.8964\n",
            "Epoch 17/50\n",
            "227/227 [==============================] - 1s 6ms/step - loss: 0.3225 - accuracy: 0.8902 - val_loss: 0.2740 - val_accuracy: 0.9030\n",
            "Epoch 18/50\n",
            " 21/227 [=>............................] - ETA: 1s - loss: 0.2441 - accuracy: 0.9107"
          ]
        },
        {
          "output_type": "stream",
          "name": "stderr",
          "text": [
            "/usr/local/lib/python3.11/dist-packages/keras/src/engine/training.py:3103: UserWarning: You are saving your model as an HDF5 file via `model.save()`. This file format is considered legacy. We recommend using instead the native Keras format, e.g. `model.save('my_model.keras')`.\n",
            "  saving_api.save_model(\n"
          ]
        },
        {
          "output_type": "stream",
          "name": "stdout",
          "text": [
            "227/227 [==============================] - 1s 6ms/step - loss: 0.2990 - accuracy: 0.8898 - val_loss: 0.2705 - val_accuracy: 0.9003\n",
            "Epoch 19/50\n",
            " 21/227 [=>............................] - ETA: 1s - loss: 0.2854 - accuracy: 0.8958"
          ]
        },
        {
          "output_type": "stream",
          "name": "stderr",
          "text": [
            "/usr/local/lib/python3.11/dist-packages/keras/src/engine/training.py:3103: UserWarning: You are saving your model as an HDF5 file via `model.save()`. This file format is considered legacy. We recommend using instead the native Keras format, e.g. `model.save('my_model.keras')`.\n",
            "  saving_api.save_model(\n"
          ]
        },
        {
          "output_type": "stream",
          "name": "stdout",
          "text": [
            "227/227 [==============================] - 1s 6ms/step - loss: 0.2917 - accuracy: 0.8960 - val_loss: 0.2690 - val_accuracy: 0.8997\n",
            "Epoch 20/50\n",
            " 22/227 [=>............................] - ETA: 1s - loss: 0.3216 - accuracy: 0.8864"
          ]
        },
        {
          "output_type": "stream",
          "name": "stderr",
          "text": [
            "/usr/local/lib/python3.11/dist-packages/keras/src/engine/training.py:3103: UserWarning: You are saving your model as an HDF5 file via `model.save()`. This file format is considered legacy. We recommend using instead the native Keras format, e.g. `model.save('my_model.keras')`.\n",
            "  saving_api.save_model(\n"
          ]
        },
        {
          "output_type": "stream",
          "name": "stdout",
          "text": [
            "227/227 [==============================] - 1s 6ms/step - loss: 0.2994 - accuracy: 0.8943 - val_loss: 0.2844 - val_accuracy: 0.9036\n",
            "Epoch 21/50\n",
            "227/227 [==============================] - 2s 10ms/step - loss: 0.2980 - accuracy: 0.8940 - val_loss: 0.2866 - val_accuracy: 0.8959\n",
            "Epoch 22/50\n",
            "227/227 [==============================] - 2s 8ms/step - loss: 0.3011 - accuracy: 0.8938 - val_loss: 0.3035 - val_accuracy: 0.9019\n",
            "Epoch 23/50\n",
            "227/227 [==============================] - 1s 6ms/step - loss: 0.2994 - accuracy: 0.8947 - val_loss: 0.2727 - val_accuracy: 0.9019\n",
            "Epoch 24/50\n",
            "227/227 [==============================] - 1s 6ms/step - loss: 0.2899 - accuracy: 0.8971 - val_loss: 0.2728 - val_accuracy: 0.9030\n",
            "Epoch 25/50\n",
            "225/227 [============================>.] - ETA: 0s - loss: 0.2937 - accuracy: 0.8960"
          ]
        },
        {
          "output_type": "stream",
          "name": "stderr",
          "text": [
            "/usr/local/lib/python3.11/dist-packages/keras/src/engine/training.py:3103: UserWarning: You are saving your model as an HDF5 file via `model.save()`. This file format is considered legacy. We recommend using instead the native Keras format, e.g. `model.save('my_model.keras')`.\n",
            "  saving_api.save_model(\n"
          ]
        },
        {
          "output_type": "stream",
          "name": "stdout",
          "text": [
            "\b\b\b\b\b\b\b\b\b\b\b\b\b\b\b\b\b\b\b\b\b\b\b\b\b\b\b\b\b\b\b\b\b\b\b\b\b\b\b\b\b\b\b\b\b\b\b\b\b\b\b\b\b\b\b\b\b\b\b\b\b\b\b\b\b\b\b\b\b\b\b\b\b\b\b\b\b\b\b\b\b\b\b\b\r227/227 [==============================] - 2s 9ms/step - loss: 0.2933 - accuracy: 0.8961 - val_loss: 0.2666 - val_accuracy: 0.9052\n",
            "Epoch 26/50\n",
            "227/227 [==============================] - 1s 6ms/step - loss: 0.2868 - accuracy: 0.8983 - val_loss: 0.2898 - val_accuracy: 0.9036\n",
            "Epoch 27/50\n",
            "227/227 [==============================] - 1s 6ms/step - loss: 0.2855 - accuracy: 0.8979 - val_loss: 0.2671 - val_accuracy: 0.9080\n",
            "Epoch 28/50\n",
            "227/227 [==============================] - 1s 6ms/step - loss: 0.2905 - accuracy: 0.8998 - val_loss: 0.2806 - val_accuracy: 0.9025\n",
            "Epoch 29/50\n",
            "227/227 [==============================] - 2s 8ms/step - loss: 0.2801 - accuracy: 0.9000 - val_loss: 0.2814 - val_accuracy: 0.9030\n",
            "Epoch 30/50\n",
            "227/227 [==============================] - 2s 11ms/step - loss: 0.2771 - accuracy: 0.8982 - val_loss: 0.2628 - val_accuracy: 0.9080\n",
            "Epoch 31/50\n",
            " 13/227 [>.............................] - ETA: 1s - loss: 0.2380 - accuracy: 0.9207"
          ]
        },
        {
          "output_type": "stream",
          "name": "stderr",
          "text": [
            "/usr/local/lib/python3.11/dist-packages/keras/src/engine/training.py:3103: UserWarning: You are saving your model as an HDF5 file via `model.save()`. This file format is considered legacy. We recommend using instead the native Keras format, e.g. `model.save('my_model.keras')`.\n",
            "  saving_api.save_model(\n"
          ]
        },
        {
          "output_type": "stream",
          "name": "stdout",
          "text": [
            "227/227 [==============================] - 2s 7ms/step - loss: 0.2861 - accuracy: 0.8979 - val_loss: 0.2569 - val_accuracy: 0.9096\n",
            "Epoch 32/50\n",
            " 20/227 [=>............................] - ETA: 1s - loss: 0.3025 - accuracy: 0.8969"
          ]
        },
        {
          "output_type": "stream",
          "name": "stderr",
          "text": [
            "/usr/local/lib/python3.11/dist-packages/keras/src/engine/training.py:3103: UserWarning: You are saving your model as an HDF5 file via `model.save()`. This file format is considered legacy. We recommend using instead the native Keras format, e.g. `model.save('my_model.keras')`.\n",
            "  saving_api.save_model(\n"
          ]
        },
        {
          "output_type": "stream",
          "name": "stdout",
          "text": [
            "227/227 [==============================] - 2s 8ms/step - loss: 0.2831 - accuracy: 0.8996 - val_loss: 0.2899 - val_accuracy: 0.9019\n",
            "Epoch 33/50\n",
            "227/227 [==============================] - 2s 7ms/step - loss: 0.2724 - accuracy: 0.8993 - val_loss: 0.2578 - val_accuracy: 0.9069\n",
            "Epoch 34/50\n",
            "227/227 [==============================] - 1s 6ms/step - loss: 0.2696 - accuracy: 0.9060 - val_loss: 0.2565 - val_accuracy: 0.9030\n",
            "Epoch 35/50\n",
            " 21/227 [=>............................] - ETA: 1s - loss: 0.2418 - accuracy: 0.9137"
          ]
        },
        {
          "output_type": "stream",
          "name": "stderr",
          "text": [
            "/usr/local/lib/python3.11/dist-packages/keras/src/engine/training.py:3103: UserWarning: You are saving your model as an HDF5 file via `model.save()`. This file format is considered legacy. We recommend using instead the native Keras format, e.g. `model.save('my_model.keras')`.\n",
            "  saving_api.save_model(\n"
          ]
        },
        {
          "output_type": "stream",
          "name": "stdout",
          "text": [
            "227/227 [==============================] - 1s 6ms/step - loss: 0.2701 - accuracy: 0.9014 - val_loss: 0.2506 - val_accuracy: 0.9080\n",
            "Epoch 36/50\n",
            " 22/227 [=>............................] - ETA: 1s - loss: 0.2595 - accuracy: 0.9048"
          ]
        },
        {
          "output_type": "stream",
          "name": "stderr",
          "text": [
            "/usr/local/lib/python3.11/dist-packages/keras/src/engine/training.py:3103: UserWarning: You are saving your model as an HDF5 file via `model.save()`. This file format is considered legacy. We recommend using instead the native Keras format, e.g. `model.save('my_model.keras')`.\n",
            "  saving_api.save_model(\n"
          ]
        },
        {
          "output_type": "stream",
          "name": "stdout",
          "text": [
            "227/227 [==============================] - 1s 6ms/step - loss: 0.2617 - accuracy: 0.9047 - val_loss: 0.2564 - val_accuracy: 0.9069\n",
            "Epoch 37/50\n",
            "227/227 [==============================] - 2s 8ms/step - loss: 0.2771 - accuracy: 0.9052 - val_loss: 0.2655 - val_accuracy: 0.9069\n",
            "Epoch 38/50\n",
            "227/227 [==============================] - 4s 17ms/step - loss: 0.2596 - accuracy: 0.9085 - val_loss: 0.2529 - val_accuracy: 0.9096\n",
            "Epoch 39/50\n",
            "227/227 [==============================] - 1s 6ms/step - loss: 0.2574 - accuracy: 0.9051 - val_loss: 0.2527 - val_accuracy: 0.9146\n",
            "Epoch 40/50\n",
            "227/227 [==============================] - 1s 6ms/step - loss: 0.2710 - accuracy: 0.9048 - val_loss: 0.2888 - val_accuracy: 0.8893\n",
            "Epoch 41/50\n",
            "227/227 [==============================] - 1s 6ms/step - loss: 0.2782 - accuracy: 0.9037 - val_loss: 0.2704 - val_accuracy: 0.9118\n",
            "Epoch 42/50\n",
            "219/227 [===========================>..] - ETA: 0s - loss: 0.2786 - accuracy: 0.9007Restoring model weights from the end of the best epoch: 35.\n",
            "227/227 [==============================] - 1s 6ms/step - loss: 0.2777 - accuracy: 0.9016 - val_loss: 0.2830 - val_accuracy: 0.9014\n",
            "Epoch 42: early stopping\n"
          ]
        }
      ]
    },
    {
      "cell_type": "markdown",
      "source": [
        "**Ploting Training History**"
      ],
      "metadata": {
        "id": "85nNMGH2cav4"
      }
    },
    {
      "cell_type": "code",
      "source": [
        "import matplotlib.pyplot as plt\n",
        "\n",
        "plt.plot(history.history['accuracy'],\n",
        "         label= 'Train Accuracy')\n",
        "plt.plot(history.history['val_accuracy'], label= 'Validation Accuracy')\n",
        "plt.xlabel('Epoch')\n",
        "plt.ylabel('Accuracy')\n",
        "plt.legend()\n",
        "plt.grid(True)\n",
        "plt.title('Model Accuracy Over Epochs')\n",
        "plt.show()"
      ],
      "metadata": {
        "colab": {
          "base_uri": "https://localhost:8080/",
          "height": 472
        },
        "id": "XHHxEV0Qbi5G",
        "outputId": "62654e94-af09-4a6c-b679-3b5e539ab2cc"
      },
      "execution_count": null,
      "outputs": [
        {
          "output_type": "display_data",
          "data": {
            "text/plain": [
              "<Figure size 640x480 with 1 Axes>"
            ],
            "image/png": "[encoded data removed]"
          },
          "metadata": {}
        }
      ]
    },
    {
      "cell_type": "code",
      "source": [
        "plt.figure(figsize=(8, 6))\n",
        "plt.plot(history.history['loss'], label= 'Train Loss')\n",
        "plt.plot(history.history['val_loss'], label = 'Validation Loss')\n",
        "plt.xlabel('Epoch')\n",
        "plt.ylabel('Binary Crossentropy Loss')\n",
        "plt.legend()\n",
        "plt.grid(True)\n",
        "plt.title('Model Loss Over Epochs')\n",
        "plt.show()"
      ],
      "metadata": {
        "colab": {
          "base_uri": "https://localhost:8080/",
          "height": 564
        },
        "id": "GyLWAh_Kd-fx",
        "outputId": "a588c8ed-7cbc-48a6-fe8f-54e3e998f07a"
      },
      "execution_count": null,
      "outputs": [
        {
          "output_type": "display_data",
          "data": {
            "text/plain": [
              "<Figure size 800x600 with 1 Axes>"
            ],
            "image/png": "[encoded data removed]"
          },
          "metadata": {}
        }
      ]
    },
    {
      "cell_type": "markdown",
      "source": [
        "**Saving the final model for deployment**"
      ],
      "metadata": {
        "id": "oKpvwdDtgPPW"
      }
    },
    {
      "cell_type": "code",
      "source": [
        "# Saving as .h5\n",
        "model.save('/content/drive/MyDrive/emergency_audio_model.h5')"
      ],
      "metadata": {
        "colab": {
          "base_uri": "https://localhost:8080/"
        },
        "id": "7SsMeEmXfogX",
        "outputId": "197861d5-88fc-442c-fb49-b1bf207fc69b"
      },
      "execution_count": null,
      "outputs": [
        {
          "output_type": "stream",
          "name": "stderr",
          "text": [
            "/usr/local/lib/python3.11/dist-packages/keras/src/engine/training.py:3103: UserWarning: You are saving your model as an HDF5 file via `model.save()`. This file format is considered legacy. We recommend using instead the native Keras format, e.g. `model.save('my_model.keras')`.\n",
            "  saving_api.save_model(\n"
          ]
        }
      ]
    },
    {
      "cell_type": "code",
      "source": [
        "# Converting to .tflite\n",
        "converter = tf.lite.TFLiteConverter.from_keras_model(model)\n",
        "tflite_model = converter.convert()\n",
        "\n",
        "with open('/content/drive/MyDrive/emergency_audio_model.tflite', 'wb') as f:\n",
        "  f.write(tflite_model)"
      ],
      "metadata": {
        "id": "KWAENMm0grPF"
      },
      "execution_count": null,
      "outputs": []
    },
    {
      "cell_type": "code",
      "source": [],
      "metadata": {
        "id": "tj6ISEHZhLaJ"
      },
      "execution_count": null,
      "outputs": []
    }
  ]
}