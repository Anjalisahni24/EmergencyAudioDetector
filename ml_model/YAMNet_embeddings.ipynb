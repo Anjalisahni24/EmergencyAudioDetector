{
  "nbformat": 4,
  "nbformat_minor": 0,
  "metadata": {
    "colab": {
      "provenance": []
    },
    "kernelspec": {
      "name": "python3",
      "display_name": "Python 3"
    },
    "language_info": {
      "name": "python"
    }
  },
  "cells": [
    {
      "cell_type": "code",
      "source": [
        "# Step 1: Force correct versions\n",
        "!pip uninstall -y tensorflow-io\n",
        "!pip install -q tensorflow==2.15.0 tensorflow-io==0.35.0 tensorflow-hub==0.15.0\n",
        "\n",
        "# Step 2: Restart runtime after install\n",
        "import os\n",
        "os.kill(os.getpid(), 9)\n"
      ],
      "metadata": {
        "colab": {
          "base_uri": "https://localhost:8080/"
        },
        "id": "nhlGaPA12Lc8",
        "outputId": "ddc36893-a645-43cb-ba47-351c3f704e0b"
      },
      "execution_count": null,
      "outputs": [
        {
          "output_type": "stream",
          "name": "stdout",
          "text": [
            "Found existing installation: tensorflow-io 0.35.0\n",
            "Uninstalling tensorflow-io-0.35.0:\n",
            "  Successfully uninstalled tensorflow-io-0.35.0\n"
          ]
        }
      ]
    },
    {
      "cell_type": "code",
      "source": [
        "import tensorflow as tf\n",
        "import tensorflow_hub as hub\n",
        "import tensorflow_io as tfio"
      ],
      "metadata": {
        "id": "BSc50nwh38Bw"
      },
      "execution_count": null,
      "outputs": []
    },
    {
      "cell_type": "code",
      "source": [
        "print(tf.__version__)\n",
        "print(hub.__version__)\n",
        "print(tfio.__version__)"
      ],
      "metadata": {
        "colab": {
          "base_uri": "https://localhost:8080/"
        },
        "id": "yBHXUPVe3DcS",
        "outputId": "f4da0816-8734-4e3f-be6b-589f1e2fdc6e"
      },
      "execution_count": null,
      "outputs": [
        {
          "output_type": "stream",
          "name": "stdout",
          "text": [
            "2.15.0\n",
            "0.15.0\n",
            "0.35.0\n"
          ]
        }
      ]
    },
    {
      "cell_type": "code",
      "source": [
        "# loading the YAMNet model\n",
        "yamnet_model = hub.load('https://tfhub.dev/google/yamnet/1')"
      ],
      "metadata": {
        "id": "rXB7cbvo4PXo"
      },
      "execution_count": null,
      "outputs": []
    },
    {
      "cell_type": "markdown",
      "source": [
        "Loads the original full YAMNet model.\n",
        "\n",
        "It takes 1D float32 audio samples as input.\n",
        "\n",
        "Outputs: (scores, embeddings, spectrogram)\n",
        "\n"
      ],
      "metadata": {
        "id": "yStmuI_x5u-6"
      }
    },
    {
      "cell_type": "code",
      "source": [
        "# Create a wrapper model that outputs only the pooled embedding\n",
        "class YamnetEmbeddingModel(tf.Module):\n",
        "    def __init__(self):\n",
        "        super().__init__()\n",
        "        self.yamnet = yamnet_model\n",
        "\n",
        "    @tf.function(input_signature=[tf.TensorSpec([None], dtype=tf.float32)])\n",
        "    def __call__(self, audio):\n",
        "        _, embeddings, _ = self.yamnet(audio)\n",
        "        pooled = tf.reduce_mean(embeddings, axis=0)  # shape (1024,)\n",
        "        return {'embedding': pooled}\n"
      ],
      "metadata": {
        "id": "q1ittfPx4dFR"
      },
      "execution_count": null,
      "outputs": []
    },
    {
      "cell_type": "markdown",
      "source": [
        "tf.Module is a custom model class that wraps around YAMNet and filters its output."
      ],
      "metadata": {
        "id": "U3NVzfM558JD"
      }
    },
    {
      "cell_type": "code",
      "source": [
        "# Instantiate the model\n",
        "wrapper = YamnetEmbeddingModel()\n"
      ],
      "metadata": {
        "id": "jegT14mY4nO5"
      },
      "execution_count": null,
      "outputs": []
    },
    {
      "cell_type": "code",
      "source": [
        "\n",
        "# Save it as a SavedModel\n",
        "tf.saved_model.save(wrapper, \"yamnet_embedding_model\")\n"
      ],
      "metadata": {
        "id": "TSymNfd64vBj"
      },
      "execution_count": null,
      "outputs": []
    },
    {
      "cell_type": "markdown",
      "source": [
        "This model takes raw audio (mono, 16kHz), returns only the embedding"
      ],
      "metadata": {
        "id": "duYZZduq6VDr"
      }
    },
    {
      "cell_type": "code",
      "execution_count": null,
      "metadata": {
        "id": "rBEhuVi518lQ"
      },
      "outputs": [],
      "source": [
        "\n",
        "# Convert to TFLite\n",
        "converter = tf.lite.TFLiteConverter.from_saved_model(\"yamnet_embedding_model\")\n",
        "converter.optimizations = [tf.lite.Optimize.DEFAULT]  # Optional: for smaller model\n",
        "tflite_model = converter.convert()\n"
      ]
    },
    {
      "cell_type": "code",
      "source": [
        "# Save the .tflite model\n",
        "with open(\"yamnet_embedding.tflite\", \"wb\") as f:\n",
        "    f.write(tflite_model)\n"
      ],
      "metadata": {
        "id": "Mft-Vs8t45vA"
      },
      "execution_count": null,
      "outputs": []
    },
    {
      "cell_type": "code",
      "source": [
        "# downloading the yamnet_embedding.tflite model"
      ],
      "metadata": {
        "id": "h6fzGzyZ4_0Q"
      },
      "execution_count": null,
      "outputs": []
    },
    {
      "cell_type": "code",
      "source": [
        "from google.colab import files\n",
        "files.download(\"yamnet_embedding.tflite\")\n"
      ],
      "metadata": {
        "id": "m-uFcjIe63ZN",
        "outputId": "8edfebf9-0d19-462d-e43e-21f84afff796",
        "colab": {
          "base_uri": "https://localhost:8080/",
          "height": 34
        }
      },
      "execution_count": null,
      "outputs": [
        {
          "output_type": "display_data",
          "data": {
            "text/plain": [
              "<IPython.core.display.Javascript object>"
            ],
            "application/javascript": [
              "\n",
              "    async function download(id, filename, size) {\n",
              "      if (!google.colab.kernel.accessAllowed) {\n",
              "        return;\n",
              "      }\n",
              "      const div = document.createElement('div');\n",
              "      const label = document.createElement('label');\n",
              "      label.textContent = `Downloading \"${filename}\": `;\n",
              "      div.appendChild(label);\n",
              "      const progress = document.createElement('progress');\n",
              "      progress.max = size;\n",
              "      div.appendChild(progress);\n",
              "      document.body.appendChild(div);\n",
              "\n",
              "      const buffers = [];\n",
              "      let downloaded = 0;\n",
              "\n",
              "      const channel = await google.colab.kernel.comms.open(id);\n",
              "      // Send a message to notify the kernel that we're ready.\n",
              "      channel.send({})\n",
              "\n",
              "      for await (const message of channel.messages) {\n",
              "        // Send a message to notify the kernel that we're ready.\n",
              "        channel.send({})\n",
              "        if (message.buffers) {\n",
              "          for (const buffer of message.buffers) {\n",
              "            buffers.push(buffer);\n",
              "            downloaded += buffer.byteLength;\n",
              "            progress.value = downloaded;\n",
              "          }\n",
              "        }\n",
              "      }\n",
              "      const blob = new Blob(buffers, {type: 'application/binary'});\n",
              "      const a = document.createElement('a');\n",
              "      a.href = window.URL.createObjectURL(blob);\n",
              "      a.download = filename;\n",
              "      div.appendChild(a);\n",
              "      a.click();\n",
              "      div.remove();\n",
              "    }\n",
              "  "
            ]
          },
          "metadata": {}
        },
        {
          "output_type": "display_data",
          "data": {
            "text/plain": [
              "<IPython.core.display.Javascript object>"
            ],
            "application/javascript": [
              "download(\"download_fcbe62ba-d505-4865-905d-d1a39ffdf26f\", \"yamnet_embedding.tflite\", 3427240)"
            ]
          },
          "metadata": {}
        }
      ]
    },
    {
      "cell_type": "code",
      "source": [],
      "metadata": {
        "id": "txXpOJPH65Bt"
      },
      "execution_count": null,
      "outputs": []
    }
  ]
}