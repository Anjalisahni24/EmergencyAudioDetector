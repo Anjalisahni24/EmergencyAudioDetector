{
  "nbformat": 4,
  "nbformat_minor": 0,
  "metadata": {
    "colab": {
      "provenance": []
    },
    "kernelspec": {
      "name": "python3",
      "display_name": "Python 3"
    },
    "language_info": {
      "name": "python"
    }
  },
  "cells": [
    {
      "cell_type": "markdown",
      "source": [
        "**Converting all Files present in fine_tune_data to Mono 16 kHz (the format required by YAMNet)**"
      ],
      "metadata": {
        "id": "HFdOvmN4GwPq"
      }
    },
    {
      "cell_type": "code",
      "execution_count": null,
      "metadata": {
        "colab": {
          "base_uri": "https://localhost:8080/"
        },
        "id": "3M78oIoBGnF-",
        "outputId": "7168e788-b6e8-4ef5-c0fa-5598d9df03a5"
      },
      "outputs": [
        {
          "output_type": "stream",
          "name": "stdout",
          "text": [
            "Requirement already satisfied: pydub in /usr/local/lib/python3.11/dist-packages (0.25.1)\n",
            "Reading package lists... Done\n",
            "Building dependency tree... Done\n",
            "Reading state information... Done\n",
            "ffmpeg is already the newest version (7:4.4.2-0ubuntu0.22.04.1).\n",
            "0 upgraded, 0 newly installed, 0 to remove and 35 not upgraded.\n"
          ]
        }
      ],
      "source": [
        "!pip install pydub\n",
        "!apt-get install ffmpeg -y\n"
      ]
    },
    {
      "cell_type": "code",
      "source": [
        "from google.colab import drive\n",
        "drive.mount('/content/drive')"
      ],
      "metadata": {
        "colab": {
          "base_uri": "https://localhost:8080/"
        },
        "id": "QKfhyz-gvVnF",
        "outputId": "8aded93c-df1f-4cf4-e7d8-a255f18a37fe"
      },
      "execution_count": null,
      "outputs": [
        {
          "output_type": "stream",
          "name": "stdout",
          "text": [
            "Drive already mounted at /content/drive; to attempt to forcibly remount, call drive.mount(\"/content/drive\", force_remount=True).\n"
          ]
        }
      ]
    },
    {
      "cell_type": "code",
      "source": [
        "!cp -r /content/drive/MyDrive/fine_tune_data /content/"
      ],
      "metadata": {
        "id": "1eRFnvEhPeN_"
      },
      "execution_count": null,
      "outputs": []
    },
    {
      "cell_type": "code",
      "source": [
        "from pydub import AudioSegment\n",
        "import os\n",
        "\n",
        "input_root = \"/content/fine_tune_data\"\n",
        "# tracking how many failed files\n",
        "fail_count = 0\n",
        "success_count = 0\n",
        "# Walk through all label folders\n",
        "for label in os.listdir(input_root):\n",
        "  label_path = os.path.join(input_root, label)\n",
        "  if not os.path.isdir(label_path):\n",
        "    continue\n",
        "  print(f\"🎧 Processing label: {label}\")\n",
        "\n",
        "  for filename in os.listdir(label_path):\n",
        "    file_path = os.path.join(label_path, filename)\n",
        "    if not (filename.endswith(\".wav\") or filename.endswith(\".ogg\")):\n",
        "      continue    # skip non-audio files\n",
        "    try:\n",
        "      audio = AudioSegment.from_file(file_path)\n",
        "      audio = audio.set_channels(1)        # Mono\n",
        "      audio = audio.set_frame_rate(16000)  # 16 kHz\n",
        "      # Overwrite with processed version\n",
        "      audio.export(file_path, format = 'wav')\n",
        "      success_count += 1\n",
        "    except Exception as e:\n",
        "      print(f\"❌ Failed: {filename} - Reason: {e}\")\n",
        "      fail_count += 1\n",
        "print(f\"\\n ✅ Done! Converted: {success_count} files | Skipped(corrupt or unsupported): {fail_count} files.\")"
      ],
      "metadata": {
        "colab": {
          "base_uri": "https://localhost:8080/"
        },
        "id": "p-eRWTFZHQpi",
        "outputId": "5339f173-c984-405e-cdf9-90e06b1cf4ee"
      },
      "execution_count": null,
      "outputs": [
        {
          "output_type": "stream",
          "name": "stdout",
          "text": [
            "🎧 Processing label: normal\n",
            "❌ Failed: 36429-2-0-18.wav - Reason: Decoding failed. ffmpeg returned error code: 1\n",
            "\n",
            "Output from ffmpeg/avlib:\n",
            "\n",
            "ffmpeg version 4.4.2-0ubuntu0.22.04.1 Copyright (c) 2000-2021 the FFmpeg developers\n",
            "  built with gcc 11 (Ubuntu 11.2.0-19ubuntu1)\n",
            "  configuration: --prefix=/usr --extra-version=0ubuntu0.22.04.1 --toolchain=hardened --libdir=/usr/lib/x86_64-linux-gnu --incdir=/usr/include/x86_64-linux-gnu --arch=amd64 --enable-gpl --disable-stripping --enable-gnutls --enable-ladspa --enable-libaom --enable-libass --enable-libbluray --enable-libbs2b --enable-libcaca --enable-libcdio --enable-libcodec2 --enable-libdav1d --enable-libflite --enable-libfontconfig --enable-libfreetype --enable-libfribidi --enable-libgme --enable-libgsm --enable-libjack --enable-libmp3lame --enable-libmysofa --enable-libopenjpeg --enable-libopenmpt --enable-libopus --enable-libpulse --enable-librabbitmq --enable-librubberband --enable-libshine --enable-libsnappy --enable-libsoxr --enable-libspeex --enable-libsrt --enable-libssh --enable-libtheora --enable-libtwolame --enable-libvidstab --enable-libvorbis --enable-libvpx --enable-libwebp --enable-libx265 --enable-libxml2 --enable-libxvid --enable-libzimg --enable-libzmq --enable-libzvbi --enable-lv2 --enable-omx --enable-openal --enable-opencl --enable-opengl --enable-sdl2 --enable-pocketsphinx --enable-librsvg --enable-libmfx --enable-libdc1394 --enable-libdrm --enable-libiec61883 --enable-chromaprint --enable-frei0r --enable-libx264 --enable-shared\n",
            "  libavutil      56. 70.100 / 56. 70.100\n",
            "  libavcodec     58.134.100 / 58.134.100\n",
            "  libavformat    58. 76.100 / 58. 76.100\n",
            "  libavdevice    58. 13.100 / 58. 13.100\n",
            "  libavfilter     7.110.100 /  7.110.100\n",
            "  libswscale      5.  9.100 /  5.  9.100\n",
            "  libswresample   3.  9.100 /  3.  9.100\n",
            "  libpostproc    55.  9.100 / 55.  9.100\n",
            "Guessed Channel Layout for Input Stream #0.0 : mono\n",
            "Input #0, wav, from '/content/fine_tune_data/normal/36429-2-0-18.wav':\n",
            "  Duration: 00:00:04.00, bitrate: 45 kb/s\n",
            "  Stream #0:0: Audio: adpcm_ms ([2][0][0][0] / 0x0002), 11024 Hz, mono, s16, 44 kb/s\n",
            "Unknown encoder 'pcm_s4le'\n",
            "\n",
            "❌ Failed: 19007-4-0-0.wav - Reason: Decoding failed. ffmpeg returned error code: 1\n",
            "\n",
            "Output from ffmpeg/avlib:\n",
            "\n",
            "ffmpeg version 4.4.2-0ubuntu0.22.04.1 Copyright (c) 2000-2021 the FFmpeg developers\n",
            "  built with gcc 11 (Ubuntu 11.2.0-19ubuntu1)\n",
            "  configuration: --prefix=/usr --extra-version=0ubuntu0.22.04.1 --toolchain=hardened --libdir=/usr/lib/x86_64-linux-gnu --incdir=/usr/include/x86_64-linux-gnu --arch=amd64 --enable-gpl --disable-stripping --enable-gnutls --enable-ladspa --enable-libaom --enable-libass --enable-libbluray --enable-libbs2b --enable-libcaca --enable-libcdio --enable-libcodec2 --enable-libdav1d --enable-libflite --enable-libfontconfig --enable-libfreetype --enable-libfribidi --enable-libgme --enable-libgsm --enable-libjack --enable-libmp3lame --enable-libmysofa --enable-libopenjpeg --enable-libopenmpt --enable-libopus --enable-libpulse --enable-librabbitmq --enable-librubberband --enable-libshine --enable-libsnappy --enable-libsoxr --enable-libspeex --enable-libsrt --enable-libssh --enable-libtheora --enable-libtwolame --enable-libvidstab --enable-libvorbis --enable-libvpx --enable-libwebp --enable-libx265 --enable-libxml2 --enable-libxvid --enable-libzimg --enable-libzmq --enable-libzvbi --enable-lv2 --enable-omx --enable-openal --enable-opencl --enable-opengl --enable-sdl2 --enable-pocketsphinx --enable-librsvg --enable-libmfx --enable-libdc1394 --enable-libdrm --enable-libiec61883 --enable-chromaprint --enable-frei0r --enable-libx264 --enable-shared\n",
            "  libavutil      56. 70.100 / 56. 70.100\n",
            "  libavcodec     58.134.100 / 58.134.100\n",
            "  libavformat    58. 76.100 / 58. 76.100\n",
            "  libavdevice    58. 13.100 / 58. 13.100\n",
            "  libavfilter     7.110.100 /  7.110.100\n",
            "  libswscale      5.  9.100 /  5.  9.100\n",
            "  libswresample   3.  9.100 /  3.  9.100\n",
            "  libpostproc    55.  9.100 / 55.  9.100\n",
            "Guessed Channel Layout for Input Stream #0.0 : mono\n",
            "Input #0, wav, from '/content/fine_tune_data/normal/19007-4-0-0.wav':\n",
            "  Duration: 00:00:04.00, bitrate: 89 kb/s\n",
            "  Stream #0:0: Audio: adpcm_ima_wav ([17][0][0][0] / 0x0011), 22050 Hz, mono, s16p, 88 kb/s\n",
            "Unknown encoder 'pcm_s4le'\n",
            "\n",
            "❌ Failed: 36429-2-0-7.wav - Reason: Decoding failed. ffmpeg returned error code: 1\n",
            "\n",
            "Output from ffmpeg/avlib:\n",
            "\n",
            "ffmpeg version 4.4.2-0ubuntu0.22.04.1 Copyright (c) 2000-2021 the FFmpeg developers\n",
            "  built with gcc 11 (Ubuntu 11.2.0-19ubuntu1)\n",
            "  configuration: --prefix=/usr --extra-version=0ubuntu0.22.04.1 --toolchain=hardened --libdir=/usr/lib/x86_64-linux-gnu --incdir=/usr/include/x86_64-linux-gnu --arch=amd64 --enable-gpl --disable-stripping --enable-gnutls --enable-ladspa --enable-libaom --enable-libass --enable-libbluray --enable-libbs2b --enable-libcaca --enable-libcdio --enable-libcodec2 --enable-libdav1d --enable-libflite --enable-libfontconfig --enable-libfreetype --enable-libfribidi --enable-libgme --enable-libgsm --enable-libjack --enable-libmp3lame --enable-libmysofa --enable-libopenjpeg --enable-libopenmpt --enable-libopus --enable-libpulse --enable-librabbitmq --enable-librubberband --enable-libshine --enable-libsnappy --enable-libsoxr --enable-libspeex --enable-libsrt --enable-libssh --enable-libtheora --enable-libtwolame --enable-libvidstab --enable-libvorbis --enable-libvpx --enable-libwebp --enable-libx265 --enable-libxml2 --enable-libxvid --enable-libzimg --enable-libzmq --enable-libzvbi --enable-lv2 --enable-omx --enable-openal --enable-opencl --enable-opengl --enable-sdl2 --enable-pocketsphinx --enable-librsvg --enable-libmfx --enable-libdc1394 --enable-libdrm --enable-libiec61883 --enable-chromaprint --enable-frei0r --enable-libx264 --enable-shared\n",
            "  libavutil      56. 70.100 / 56. 70.100\n",
            "  libavcodec     58.134.100 / 58.134.100\n",
            "  libavformat    58. 76.100 / 58. 76.100\n",
            "  libavdevice    58. 13.100 / 58. 13.100\n",
            "  libavfilter     7.110.100 /  7.110.100\n",
            "  libswscale      5.  9.100 /  5.  9.100\n",
            "  libswresample   3.  9.100 /  3.  9.100\n",
            "  libpostproc    55.  9.100 / 55.  9.100\n",
            "Guessed Channel Layout for Input Stream #0.0 : mono\n",
            "Input #0, wav, from '/content/fine_tune_data/normal/36429-2-0-7.wav':\n",
            "  Duration: 00:00:04.00, bitrate: 45 kb/s\n",
            "  Stream #0:0: Audio: adpcm_ms ([2][0][0][0] / 0x0002), 11024 Hz, mono, s16, 44 kb/s\n",
            "Unknown encoder 'pcm_s4le'\n",
            "\n",
            "❌ Failed: 36429-2-0-13.wav - Reason: Decoding failed. ffmpeg returned error code: 1\n",
            "\n",
            "Output from ffmpeg/avlib:\n",
            "\n",
            "ffmpeg version 4.4.2-0ubuntu0.22.04.1 Copyright (c) 2000-2021 the FFmpeg developers\n",
            "  built with gcc 11 (Ubuntu 11.2.0-19ubuntu1)\n",
            "  configuration: --prefix=/usr --extra-version=0ubuntu0.22.04.1 --toolchain=hardened --libdir=/usr/lib/x86_64-linux-gnu --incdir=/usr/include/x86_64-linux-gnu --arch=amd64 --enable-gpl --disable-stripping --enable-gnutls --enable-ladspa --enable-libaom --enable-libass --enable-libbluray --enable-libbs2b --enable-libcaca --enable-libcdio --enable-libcodec2 --enable-libdav1d --enable-libflite --enable-libfontconfig --enable-libfreetype --enable-libfribidi --enable-libgme --enable-libgsm --enable-libjack --enable-libmp3lame --enable-libmysofa --enable-libopenjpeg --enable-libopenmpt --enable-libopus --enable-libpulse --enable-librabbitmq --enable-librubberband --enable-libshine --enable-libsnappy --enable-libsoxr --enable-libspeex --enable-libsrt --enable-libssh --enable-libtheora --enable-libtwolame --enable-libvidstab --enable-libvorbis --enable-libvpx --enable-libwebp --enable-libx265 --enable-libxml2 --enable-libxvid --enable-libzimg --enable-libzmq --enable-libzvbi --enable-lv2 --enable-omx --enable-openal --enable-opencl --enable-opengl --enable-sdl2 --enable-pocketsphinx --enable-librsvg --enable-libmfx --enable-libdc1394 --enable-libdrm --enable-libiec61883 --enable-chromaprint --enable-frei0r --enable-libx264 --enable-shared\n",
            "  libavutil      56. 70.100 / 56. 70.100\n",
            "  libavcodec     58.134.100 / 58.134.100\n",
            "  libavformat    58. 76.100 / 58. 76.100\n",
            "  libavdevice    58. 13.100 / 58. 13.100\n",
            "  libavfilter     7.110.100 /  7.110.100\n",
            "  libswscale      5.  9.100 /  5.  9.100\n",
            "  libswresample   3.  9.100 /  3.  9.100\n",
            "  libpostproc    55.  9.100 / 55.  9.100\n",
            "Guessed Channel Layout for Input Stream #0.0 : mono\n",
            "Input #0, wav, from '/content/fine_tune_data/normal/36429-2-0-13.wav':\n",
            "  Duration: 00:00:04.00, bitrate: 45 kb/s\n",
            "  Stream #0:0: Audio: adpcm_ms ([2][0][0][0] / 0x0002), 11024 Hz, mono, s16, 44 kb/s\n",
            "Unknown encoder 'pcm_s4le'\n",
            "\n",
            "❌ Failed: 36429-2-0-15.wav - Reason: Decoding failed. ffmpeg returned error code: 1\n",
            "\n",
            "Output from ffmpeg/avlib:\n",
            "\n",
            "ffmpeg version 4.4.2-0ubuntu0.22.04.1 Copyright (c) 2000-2021 the FFmpeg developers\n",
            "  built with gcc 11 (Ubuntu 11.2.0-19ubuntu1)\n",
            "  configuration: --prefix=/usr --extra-version=0ubuntu0.22.04.1 --toolchain=hardened --libdir=/usr/lib/x86_64-linux-gnu --incdir=/usr/include/x86_64-linux-gnu --arch=amd64 --enable-gpl --disable-stripping --enable-gnutls --enable-ladspa --enable-libaom --enable-libass --enable-libbluray --enable-libbs2b --enable-libcaca --enable-libcdio --enable-libcodec2 --enable-libdav1d --enable-libflite --enable-libfontconfig --enable-libfreetype --enable-libfribidi --enable-libgme --enable-libgsm --enable-libjack --enable-libmp3lame --enable-libmysofa --enable-libopenjpeg --enable-libopenmpt --enable-libopus --enable-libpulse --enable-librabbitmq --enable-librubberband --enable-libshine --enable-libsnappy --enable-libsoxr --enable-libspeex --enable-libsrt --enable-libssh --enable-libtheora --enable-libtwolame --enable-libvidstab --enable-libvorbis --enable-libvpx --enable-libwebp --enable-libx265 --enable-libxml2 --enable-libxvid --enable-libzimg --enable-libzmq --enable-libzvbi --enable-lv2 --enable-omx --enable-openal --enable-opencl --enable-opengl --enable-sdl2 --enable-pocketsphinx --enable-librsvg --enable-libmfx --enable-libdc1394 --enable-libdrm --enable-libiec61883 --enable-chromaprint --enable-frei0r --enable-libx264 --enable-shared\n",
            "  libavutil      56. 70.100 / 56. 70.100\n",
            "  libavcodec     58.134.100 / 58.134.100\n",
            "  libavformat    58. 76.100 / 58. 76.100\n",
            "  libavdevice    58. 13.100 / 58. 13.100\n",
            "  libavfilter     7.110.100 /  7.110.100\n",
            "  libswscale      5.  9.100 /  5.  9.100\n",
            "  libswresample   3.  9.100 /  3.  9.100\n",
            "  libpostproc    55.  9.100 / 55.  9.100\n",
            "Guessed Channel Layout for Input Stream #0.0 : mono\n",
            "Input #0, wav, from '/content/fine_tune_data/normal/36429-2-0-15.wav':\n",
            "  Duration: 00:00:04.00, bitrate: 45 kb/s\n",
            "  Stream #0:0: Audio: adpcm_ms ([2][0][0][0] / 0x0002), 11024 Hz, mono, s16, 44 kb/s\n",
            "Unknown encoder 'pcm_s4le'\n",
            "\n",
            "❌ Failed: 36429-2-0-14.wav - Reason: Decoding failed. ffmpeg returned error code: 1\n",
            "\n",
            "Output from ffmpeg/avlib:\n",
            "\n",
            "ffmpeg version 4.4.2-0ubuntu0.22.04.1 Copyright (c) 2000-2021 the FFmpeg developers\n",
            "  built with gcc 11 (Ubuntu 11.2.0-19ubuntu1)\n",
            "  configuration: --prefix=/usr --extra-version=0ubuntu0.22.04.1 --toolchain=hardened --libdir=/usr/lib/x86_64-linux-gnu --incdir=/usr/include/x86_64-linux-gnu --arch=amd64 --enable-gpl --disable-stripping --enable-gnutls --enable-ladspa --enable-libaom --enable-libass --enable-libbluray --enable-libbs2b --enable-libcaca --enable-libcdio --enable-libcodec2 --enable-libdav1d --enable-libflite --enable-libfontconfig --enable-libfreetype --enable-libfribidi --enable-libgme --enable-libgsm --enable-libjack --enable-libmp3lame --enable-libmysofa --enable-libopenjpeg --enable-libopenmpt --enable-libopus --enable-libpulse --enable-librabbitmq --enable-librubberband --enable-libshine --enable-libsnappy --enable-libsoxr --enable-libspeex --enable-libsrt --enable-libssh --enable-libtheora --enable-libtwolame --enable-libvidstab --enable-libvorbis --enable-libvpx --enable-libwebp --enable-libx265 --enable-libxml2 --enable-libxvid --enable-libzimg --enable-libzmq --enable-libzvbi --enable-lv2 --enable-omx --enable-openal --enable-opencl --enable-opengl --enable-sdl2 --enable-pocketsphinx --enable-librsvg --enable-libmfx --enable-libdc1394 --enable-libdrm --enable-libiec61883 --enable-chromaprint --enable-frei0r --enable-libx264 --enable-shared\n",
            "  libavutil      56. 70.100 / 56. 70.100\n",
            "  libavcodec     58.134.100 / 58.134.100\n",
            "  libavformat    58. 76.100 / 58. 76.100\n",
            "  libavdevice    58. 13.100 / 58. 13.100\n",
            "  libavfilter     7.110.100 /  7.110.100\n",
            "  libswscale      5.  9.100 /  5.  9.100\n",
            "  libswresample   3.  9.100 /  3.  9.100\n",
            "  libpostproc    55.  9.100 / 55.  9.100\n",
            "Guessed Channel Layout for Input Stream #0.0 : mono\n",
            "Input #0, wav, from '/content/fine_tune_data/normal/36429-2-0-14.wav':\n",
            "  Duration: 00:00:04.00, bitrate: 45 kb/s\n",
            "  Stream #0:0: Audio: adpcm_ms ([2][0][0][0] / 0x0002), 11024 Hz, mono, s16, 44 kb/s\n",
            "Unknown encoder 'pcm_s4le'\n",
            "\n",
            "❌ Failed: 36429-2-0-6.wav - Reason: Decoding failed. ffmpeg returned error code: 1\n",
            "\n",
            "Output from ffmpeg/avlib:\n",
            "\n",
            "ffmpeg version 4.4.2-0ubuntu0.22.04.1 Copyright (c) 2000-2021 the FFmpeg developers\n",
            "  built with gcc 11 (Ubuntu 11.2.0-19ubuntu1)\n",
            "  configuration: --prefix=/usr --extra-version=0ubuntu0.22.04.1 --toolchain=hardened --libdir=/usr/lib/x86_64-linux-gnu --incdir=/usr/include/x86_64-linux-gnu --arch=amd64 --enable-gpl --disable-stripping --enable-gnutls --enable-ladspa --enable-libaom --enable-libass --enable-libbluray --enable-libbs2b --enable-libcaca --enable-libcdio --enable-libcodec2 --enable-libdav1d --enable-libflite --enable-libfontconfig --enable-libfreetype --enable-libfribidi --enable-libgme --enable-libgsm --enable-libjack --enable-libmp3lame --enable-libmysofa --enable-libopenjpeg --enable-libopenmpt --enable-libopus --enable-libpulse --enable-librabbitmq --enable-librubberband --enable-libshine --enable-libsnappy --enable-libsoxr --enable-libspeex --enable-libsrt --enable-libssh --enable-libtheora --enable-libtwolame --enable-libvidstab --enable-libvorbis --enable-libvpx --enable-libwebp --enable-libx265 --enable-libxml2 --enable-libxvid --enable-libzimg --enable-libzmq --enable-libzvbi --enable-lv2 --enable-omx --enable-openal --enable-opencl --enable-opengl --enable-sdl2 --enable-pocketsphinx --enable-librsvg --enable-libmfx --enable-libdc1394 --enable-libdrm --enable-libiec61883 --enable-chromaprint --enable-frei0r --enable-libx264 --enable-shared\n",
            "  libavutil      56. 70.100 / 56. 70.100\n",
            "  libavcodec     58.134.100 / 58.134.100\n",
            "  libavformat    58. 76.100 / 58. 76.100\n",
            "  libavdevice    58. 13.100 / 58. 13.100\n",
            "  libavfilter     7.110.100 /  7.110.100\n",
            "  libswscale      5.  9.100 /  5.  9.100\n",
            "  libswresample   3.  9.100 /  3.  9.100\n",
            "  libpostproc    55.  9.100 / 55.  9.100\n",
            "Guessed Channel Layout for Input Stream #0.0 : mono\n",
            "Input #0, wav, from '/content/fine_tune_data/normal/36429-2-0-6.wav':\n",
            "  Duration: 00:00:04.00, bitrate: 45 kb/s\n",
            "  Stream #0:0: Audio: adpcm_ms ([2][0][0][0] / 0x0002), 11024 Hz, mono, s16, 44 kb/s\n",
            "Unknown encoder 'pcm_s4le'\n",
            "\n",
            "❌ Failed: 36429-2-0-23.wav - Reason: Decoding failed. ffmpeg returned error code: 1\n",
            "\n",
            "Output from ffmpeg/avlib:\n",
            "\n",
            "ffmpeg version 4.4.2-0ubuntu0.22.04.1 Copyright (c) 2000-2021 the FFmpeg developers\n",
            "  built with gcc 11 (Ubuntu 11.2.0-19ubuntu1)\n",
            "  configuration: --prefix=/usr --extra-version=0ubuntu0.22.04.1 --toolchain=hardened --libdir=/usr/lib/x86_64-linux-gnu --incdir=/usr/include/x86_64-linux-gnu --arch=amd64 --enable-gpl --disable-stripping --enable-gnutls --enable-ladspa --enable-libaom --enable-libass --enable-libbluray --enable-libbs2b --enable-libcaca --enable-libcdio --enable-libcodec2 --enable-libdav1d --enable-libflite --enable-libfontconfig --enable-libfreetype --enable-libfribidi --enable-libgme --enable-libgsm --enable-libjack --enable-libmp3lame --enable-libmysofa --enable-libopenjpeg --enable-libopenmpt --enable-libopus --enable-libpulse --enable-librabbitmq --enable-librubberband --enable-libshine --enable-libsnappy --enable-libsoxr --enable-libspeex --enable-libsrt --enable-libssh --enable-libtheora --enable-libtwolame --enable-libvidstab --enable-libvorbis --enable-libvpx --enable-libwebp --enable-libx265 --enable-libxml2 --enable-libxvid --enable-libzimg --enable-libzmq --enable-libzvbi --enable-lv2 --enable-omx --enable-openal --enable-opencl --enable-opengl --enable-sdl2 --enable-pocketsphinx --enable-librsvg --enable-libmfx --enable-libdc1394 --enable-libdrm --enable-libiec61883 --enable-chromaprint --enable-frei0r --enable-libx264 --enable-shared\n",
            "  libavutil      56. 70.100 / 56. 70.100\n",
            "  libavcodec     58.134.100 / 58.134.100\n",
            "  libavformat    58. 76.100 / 58. 76.100\n",
            "  libavdevice    58. 13.100 / 58. 13.100\n",
            "  libavfilter     7.110.100 /  7.110.100\n",
            "  libswscale      5.  9.100 /  5.  9.100\n",
            "  libswresample   3.  9.100 /  3.  9.100\n",
            "  libpostproc    55.  9.100 / 55.  9.100\n",
            "Guessed Channel Layout for Input Stream #0.0 : mono\n",
            "Input #0, wav, from '/content/fine_tune_data/normal/36429-2-0-23.wav':\n",
            "  Duration: 00:00:04.00, bitrate: 45 kb/s\n",
            "  Stream #0:0: Audio: adpcm_ms ([2][0][0][0] / 0x0002), 11024 Hz, mono, s16, 44 kb/s\n",
            "Unknown encoder 'pcm_s4le'\n",
            "\n",
            "❌ Failed: 88466-7-0-0.wav - Reason: Decoding failed. ffmpeg returned error code: 1\n",
            "\n",
            "Output from ffmpeg/avlib:\n",
            "\n",
            "ffmpeg version 4.4.2-0ubuntu0.22.04.1 Copyright (c) 2000-2021 the FFmpeg developers\n",
            "  built with gcc 11 (Ubuntu 11.2.0-19ubuntu1)\n",
            "  configuration: --prefix=/usr --extra-version=0ubuntu0.22.04.1 --toolchain=hardened --libdir=/usr/lib/x86_64-linux-gnu --incdir=/usr/include/x86_64-linux-gnu --arch=amd64 --enable-gpl --disable-stripping --enable-gnutls --enable-ladspa --enable-libaom --enable-libass --enable-libbluray --enable-libbs2b --enable-libcaca --enable-libcdio --enable-libcodec2 --enable-libdav1d --enable-libflite --enable-libfontconfig --enable-libfreetype --enable-libfribidi --enable-libgme --enable-libgsm --enable-libjack --enable-libmp3lame --enable-libmysofa --enable-libopenjpeg --enable-libopenmpt --enable-libopus --enable-libpulse --enable-librabbitmq --enable-librubberband --enable-libshine --enable-libsnappy --enable-libsoxr --enable-libspeex --enable-libsrt --enable-libssh --enable-libtheora --enable-libtwolame --enable-libvidstab --enable-libvorbis --enable-libvpx --enable-libwebp --enable-libx265 --enable-libxml2 --enable-libxvid --enable-libzimg --enable-libzmq --enable-libzvbi --enable-lv2 --enable-omx --enable-openal --enable-opencl --enable-opengl --enable-sdl2 --enable-pocketsphinx --enable-librsvg --enable-libmfx --enable-libdc1394 --enable-libdrm --enable-libiec61883 --enable-chromaprint --enable-frei0r --enable-libx264 --enable-shared\n",
            "  libavutil      56. 70.100 / 56. 70.100\n",
            "  libavcodec     58.134.100 / 58.134.100\n",
            "  libavformat    58. 76.100 / 58. 76.100\n",
            "  libavdevice    58. 13.100 / 58. 13.100\n",
            "  libavfilter     7.110.100 /  7.110.100\n",
            "  libswscale      5.  9.100 /  5.  9.100\n",
            "  libswresample   3.  9.100 /  3.  9.100\n",
            "  libpostproc    55.  9.100 / 55.  9.100\n",
            "Guessed Channel Layout for Input Stream #0.0 : mono\n",
            "Input #0, wav, from '/content/fine_tune_data/normal/88466-7-0-0.wav':\n",
            "  Duration: 00:00:01.66, bitrate: 178 kb/s\n",
            "  Stream #0:0: Audio: adpcm_ms ([2][0][0][0] / 0x0002), 44100 Hz, mono, s16, 176 kb/s\n",
            "Unknown encoder 'pcm_s4le'\n",
            "\n",
            "🎧 Processing label: gun_shot\n",
            "🎧 Processing label: siren\n",
            "🎧 Processing label: glass_break\n",
            "🎧 Processing label: scream_augmented\n",
            "🎧 Processing label: help_augmented\n",
            "\n",
            " ✅ Done! Converted: 9015 files | Skipped(corrupt or unsupported): 9 files.\n"
          ]
        }
      ]
    },
    {
      "cell_type": "markdown",
      "source": [
        "**Fine tuning of YAMNet model**"
      ],
      "metadata": {
        "id": "45b1XpVpXLsq"
      }
    },
    {
      "cell_type": "code",
      "source": [
        "# Mounting Google Drive\n",
        "from google.colab import drive\n",
        "drive.mount('/content/drive')"
      ],
      "metadata": {
        "colab": {
          "base_uri": "https://localhost:8080/"
        },
        "id": "qlk7ueKEFLhu",
        "outputId": "26c8d5b1-301f-4d6e-f6f4-b7289861abcb"
      },
      "execution_count": null,
      "outputs": [
        {
          "output_type": "stream",
          "name": "stdout",
          "text": [
            "Drive already mounted at /content/drive; to attempt to forcibly remount, call drive.mount(\"/content/drive\", force_remount=True).\n"
          ]
        }
      ]
    },
    {
      "cell_type": "code",
      "source": [
        "# Installing Dependencies\n",
        "#!pip install tensorflow tensorflow_hub librosa soundfile\n",
        "# Requirements are already satisfied"
      ],
      "metadata": {
        "id": "Tyxb3Q7eFWv8"
      },
      "execution_count": null,
      "outputs": []
    },
    {
      "cell_type": "code",
      "source": [
        "# Import Libraries\n",
        "import os\n",
        "import numpy as np\n",
        "import tensorflow as tf\n",
        "import tensorflow_hub as hub\n",
        "import librosa\n",
        "from sklearn.preprocessing import LabelEncoder\n",
        "from tensorflow.keras import layers, models\n"
      ],
      "metadata": {
        "id": "EuiE_3KPGiUp"
      },
      "execution_count": null,
      "outputs": []
    },
    {
      "cell_type": "code",
      "source": [
        "# Loading YAMNet and Defining Embedding Function\n",
        "yamnet_model = hub.load('https://tfhub.dev/google/yamnet/1')\n",
        "\n",
        "def extract_embedding(file_path):\n",
        "    waveform, sr = librosa.load(file_path, sr=16000)  # Ensure mono 16kHz\n",
        "    scores, embeddings, spectrogram = yamnet_model(waveform)\n",
        "    return tf.reduce_mean(embeddings, axis=0).numpy()  # Aggregate embeddings\n"
      ],
      "metadata": {
        "id": "N20xZfzoGwbx"
      },
      "execution_count": null,
      "outputs": []
    },
    {
      "cell_type": "code",
      "source": [
        "# Loading fine_tune_data Dataset\n",
        "data_dir = '/content/drive/MyDrive/fine_tune_data'\n",
        "X, y = [], []\n",
        "\n",
        "label_map = {\n",
        "    'scream_augmented': 1,\n",
        "    'gun_shot': 1,\n",
        "    'glass_break': 1,\n",
        "    'siren': 1,\n",
        "    'help_augmented': 1,\n",
        "    'normal': 0\n",
        "}\n",
        "\n",
        "\n",
        "for label_folder in os.listdir(data_dir):\n",
        "    folder_path = os.path.join(data_dir, label_folder)\n",
        "    if not os.path.isdir(folder_path): continue\n",
        "\n",
        "    mapped_label = label_map[label_folder]\n",
        "    for file in os.listdir(folder_path):\n",
        "        file_path = os.path.join(folder_path, file)\n",
        "        if not file_path.endswith('.wav'): continue\n",
        "        try:\n",
        "            emb = extract_embedding(file_path)\n",
        "            X.append(emb)\n",
        "            y.append(mapped_label)\n",
        "        except Exception as e:\n",
        "            print(f\"❌ Skipping {file_path} — {e}\")\n",
        "\n",
        "X = np.array(X)\n",
        "y = np.array(y)\n"
      ],
      "metadata": {
        "id": "V1CMXzDyHAU9"
      },
      "execution_count": null,
      "outputs": []
    },
    {
      "cell_type": "code",
      "source": [
        "# Create and Train Custom Classifier\n",
        "from sklearn.model_selection import train_test_split\n",
        "\n",
        "X_train, X_val, y_train, y_val = train_test_split(X, y, test_size=0.2, random_state=42)\n",
        "\n",
        "model = models.Sequential([\n",
        "    layers.Input(shape=(1024,)),  # YAMNet embedding size\n",
        "    layers.Dense(256, activation='relu'),\n",
        "    layers.Dropout(0.3),\n",
        "    layers.Dense(len(label_map), activation='softmax')\n",
        "])\n",
        "\n",
        "model.compile(optimizer='adam',\n",
        "              loss='sparse_categorical_crossentropy',\n",
        "              metrics=['accuracy'])\n",
        "\n",
        "history = model.fit(X_train, y_train, validation_data=(X_val, y_val), epochs=20, batch_size=32)\n"
      ],
      "metadata": {
        "colab": {
          "base_uri": "https://localhost:8080/"
        },
        "id": "zy8x7lMxHU8P",
        "outputId": "897b3843-05fd-4e19-8953-d85dec63364f"
      },
      "execution_count": null,
      "outputs": [
        {
          "output_type": "stream",
          "name": "stdout",
          "text": [
            "Epoch 1/20\n",
            "\u001b[1m226/226\u001b[0m \u001b[32m━━━━━━━━━━━━━━━━━━━━\u001b[0m\u001b[37m\u001b[0m \u001b[1m2s\u001b[0m 6ms/step - accuracy: 0.9204 - loss: 0.2845 - val_accuracy: 0.9640 - val_loss: 0.0826\n",
            "Epoch 2/20\n",
            "\u001b[1m226/226\u001b[0m \u001b[32m━━━━━━━━━━━━━━━━━━━━\u001b[0m\u001b[37m\u001b[0m \u001b[1m2s\u001b[0m 5ms/step - accuracy: 0.9696 - loss: 0.0999 - val_accuracy: 0.9762 - val_loss: 0.0917\n",
            "Epoch 3/20\n",
            "\u001b[1m226/226\u001b[0m \u001b[32m━━━━━━━━━━━━━━━━━━━━\u001b[0m\u001b[37m\u001b[0m \u001b[1m1s\u001b[0m 4ms/step - accuracy: 0.9760 - loss: 0.0899 - val_accuracy: 0.9828 - val_loss: 0.0837\n",
            "Epoch 4/20\n",
            "\u001b[1m226/226\u001b[0m \u001b[32m━━━━━━━━━━━━━━━━━━━━\u001b[0m\u001b[37m\u001b[0m \u001b[1m1s\u001b[0m 4ms/step - accuracy: 0.9802 - loss: 0.0708 - val_accuracy: 0.9795 - val_loss: 0.0734\n",
            "Epoch 5/20\n",
            "\u001b[1m226/226\u001b[0m \u001b[32m━━━━━━━━━━━━━━━━━━━━\u001b[0m\u001b[37m\u001b[0m \u001b[1m1s\u001b[0m 4ms/step - accuracy: 0.9835 - loss: 0.0535 - val_accuracy: 0.9767 - val_loss: 0.0884\n",
            "Epoch 6/20\n",
            "\u001b[1m226/226\u001b[0m \u001b[32m━━━━━━━━━━━━━━━━━━━━\u001b[0m\u001b[37m\u001b[0m \u001b[1m1s\u001b[0m 4ms/step - accuracy: 0.9825 - loss: 0.0762 - val_accuracy: 0.9823 - val_loss: 0.0580\n",
            "Epoch 7/20\n",
            "\u001b[1m226/226\u001b[0m \u001b[32m━━━━━━━━━━━━━━━━━━━━\u001b[0m\u001b[37m\u001b[0m \u001b[1m1s\u001b[0m 3ms/step - accuracy: 0.9836 - loss: 0.0638 - val_accuracy: 0.9850 - val_loss: 0.0371\n",
            "Epoch 8/20\n",
            "\u001b[1m226/226\u001b[0m \u001b[32m━━━━━━━━━━━━━━━━━━━━\u001b[0m\u001b[37m\u001b[0m \u001b[1m1s\u001b[0m 3ms/step - accuracy: 0.9888 - loss: 0.0355 - val_accuracy: 0.9889 - val_loss: 0.0319\n",
            "Epoch 9/20\n",
            "\u001b[1m226/226\u001b[0m \u001b[32m━━━━━━━━━━━━━━━━━━━━\u001b[0m\u001b[37m\u001b[0m \u001b[1m2s\u001b[0m 5ms/step - accuracy: 0.9883 - loss: 0.0470 - val_accuracy: 0.9817 - val_loss: 0.0470\n",
            "Epoch 10/20\n",
            "\u001b[1m226/226\u001b[0m \u001b[32m━━━━━━━━━━━━━━━━━━━━\u001b[0m\u001b[37m\u001b[0m \u001b[1m1s\u001b[0m 5ms/step - accuracy: 0.9858 - loss: 0.0612 - val_accuracy: 0.9823 - val_loss: 0.0600\n",
            "Epoch 11/20\n",
            "\u001b[1m226/226\u001b[0m \u001b[32m━━━━━━━━━━━━━━━━━━━━\u001b[0m\u001b[37m\u001b[0m \u001b[1m1s\u001b[0m 5ms/step - accuracy: 0.9906 - loss: 0.0412 - val_accuracy: 0.9884 - val_loss: 0.0337\n",
            "Epoch 12/20\n",
            "\u001b[1m226/226\u001b[0m \u001b[32m━━━━━━━━━━━━━━━━━━━━\u001b[0m\u001b[37m\u001b[0m \u001b[1m1s\u001b[0m 5ms/step - accuracy: 0.9922 - loss: 0.0270 - val_accuracy: 0.9873 - val_loss: 0.0321\n",
            "Epoch 13/20\n",
            "\u001b[1m226/226\u001b[0m \u001b[32m━━━━━━━━━━━━━━━━━━━━\u001b[0m\u001b[37m\u001b[0m \u001b[1m1s\u001b[0m 4ms/step - accuracy: 0.9941 - loss: 0.0230 - val_accuracy: 0.9878 - val_loss: 0.0370\n",
            "Epoch 14/20\n",
            "\u001b[1m226/226\u001b[0m \u001b[32m━━━━━━━━━━━━━━━━━━━━\u001b[0m\u001b[37m\u001b[0m \u001b[1m1s\u001b[0m 4ms/step - accuracy: 0.9940 - loss: 0.0322 - val_accuracy: 0.9889 - val_loss: 0.0301\n",
            "Epoch 15/20\n",
            "\u001b[1m226/226\u001b[0m \u001b[32m━━━━━━━━━━━━━━━━━━━━\u001b[0m\u001b[37m\u001b[0m \u001b[1m1s\u001b[0m 4ms/step - accuracy: 0.9920 - loss: 0.0362 - val_accuracy: 0.9884 - val_loss: 0.0288\n",
            "Epoch 16/20\n",
            "\u001b[1m226/226\u001b[0m \u001b[32m━━━━━━━━━━━━━━━━━━━━\u001b[0m\u001b[37m\u001b[0m \u001b[1m1s\u001b[0m 3ms/step - accuracy: 0.9943 - loss: 0.0205 - val_accuracy: 0.9878 - val_loss: 0.0285\n",
            "Epoch 17/20\n",
            "\u001b[1m226/226\u001b[0m \u001b[32m━━━━━━━━━━━━━━━━━━━━\u001b[0m\u001b[37m\u001b[0m \u001b[1m1s\u001b[0m 3ms/step - accuracy: 0.9956 - loss: 0.0161 - val_accuracy: 0.9884 - val_loss: 0.0314\n",
            "Epoch 18/20\n",
            "\u001b[1m226/226\u001b[0m \u001b[32m━━━━━━━━━━━━━━━━━━━━\u001b[0m\u001b[37m\u001b[0m \u001b[1m1s\u001b[0m 3ms/step - accuracy: 0.9963 - loss: 0.0171 - val_accuracy: 0.9900 - val_loss: 0.0266\n",
            "Epoch 19/20\n",
            "\u001b[1m226/226\u001b[0m \u001b[32m━━━━━━━━━━━━━━━━━━━━\u001b[0m\u001b[37m\u001b[0m \u001b[1m1s\u001b[0m 4ms/step - accuracy: 0.9956 - loss: 0.0181 - val_accuracy: 0.9878 - val_loss: 0.0290\n",
            "Epoch 20/20\n",
            "\u001b[1m226/226\u001b[0m \u001b[32m━━━━━━━━━━━━━━━━━━━━\u001b[0m\u001b[37m\u001b[0m \u001b[1m1s\u001b[0m 4ms/step - accuracy: 0.9961 - loss: 0.0117 - val_accuracy: 0.9895 - val_loss: 0.0279\n"
          ]
        }
      ]
    },
    {
      "cell_type": "code",
      "source": [
        "# Saving the Trained Model\n",
        "model.save('/content/drive/MyDrive/fine_tuned_yamnet_classifier1.keras', include_optimizer = False)"
      ],
      "metadata": {
        "id": "rPraHXR5KXWb"
      },
      "execution_count": null,
      "outputs": []
    },
    {
      "cell_type": "code",
      "source": [
        "model = tf.keras.models.load_model('/content/drive/MyDrive/fine_tuned_yamnet_classifier1.keras')"
      ],
      "metadata": {
        "id": "t202Ub2xLBLl"
      },
      "execution_count": null,
      "outputs": []
    },
    {
      "cell_type": "markdown",
      "source": [
        "**Converting and saving the .tflite model**"
      ],
      "metadata": {
        "id": "7h9cYnswQLZy"
      }
    },
    {
      "cell_type": "code",
      "source": [
        "import tensorflow as tf\n",
        "\n",
        "# Loading the model from the memory\n",
        "model = tf.keras.models.load_model('/content/drive/MyDrive/fine_tuned_yamnet_classifier1.keras')\n",
        "\n",
        "# Converting to TFLite\n",
        "converter = tf.lite.TFLiteConverter.from_keras_model(model)\n",
        "tflite_model = converter.convert()\n",
        "\n",
        "# Saving the TFLite model to Google Drive\n",
        "tflite_path = '/content/drive/MyDrive/fine_tuned_yamnet_classifier1.tflite'\n",
        "with open(tflite_path, 'wb') as f:\n",
        "    f.write(tflite_model)\n",
        "\n",
        "print(f\"TFLite model saved to: {tflite_path}\")\n"
      ],
      "metadata": {
        "colab": {
          "base_uri": "https://localhost:8080/"
        },
        "id": "0w6OArzRLtUn",
        "outputId": "5834ad07-0257-4f4d-a291-7efec0cffd4e"
      },
      "execution_count": null,
      "outputs": [
        {
          "output_type": "stream",
          "name": "stdout",
          "text": [
            "Saved artifact at '/tmp/tmpbiuf8v_a'. The following endpoints are available:\n",
            "\n",
            "* Endpoint 'serve'\n",
            "  args_0 (POSITIONAL_ONLY): TensorSpec(shape=(None, 1024), dtype=tf.float32, name='input_layer')\n",
            "Output Type:\n",
            "  TensorSpec(shape=(None, 6), dtype=tf.float32, name=None)\n",
            "Captures:\n",
            "  135546696622416: TensorSpec(shape=(), dtype=tf.resource, name=None)\n",
            "  135546696621456: TensorSpec(shape=(), dtype=tf.resource, name=None)\n",
            "  135546696615888: TensorSpec(shape=(), dtype=tf.resource, name=None)\n",
            "  135546689659408: TensorSpec(shape=(), dtype=tf.resource, name=None)\n",
            "TFLite model saved to: /content/drive/MyDrive/fine_tuned_yamnet_classifier1.tflite\n"
          ]
        }
      ]
    },
    {
      "cell_type": "markdown",
      "source": [
        "**Saving Label mapping**"
      ],
      "metadata": {
        "id": "JKoWTGHRRNxb"
      }
    },
    {
      "cell_type": "code",
      "source": [
        "import json\n",
        "label_map = {\n",
        "    \"non_emergency\": 0,\n",
        "    \"emergency\": 1\n",
        "}\n",
        "with open('/content/drive/MyDrive/label1_map.json', 'w') as f:\n",
        "    json.dump(label_map, f)\n"
      ],
      "metadata": {
        "id": "ODMh1ur-Qr8D"
      },
      "execution_count": null,
      "outputs": []
    },
    {
      "cell_type": "code",
      "source": [
        "print(\"Unique labels used in training:\", set(y))\n"
      ],
      "metadata": {
        "id": "SGOYQaIqRZdr",
        "outputId": "b8677f56-541e-49c6-a3fc-710dbf1e99ba",
        "colab": {
          "base_uri": "https://localhost:8080/"
        }
      },
      "execution_count": null,
      "outputs": [
        {
          "output_type": "stream",
          "name": "stdout",
          "text": [
            "Unique labels used in training: {np.int64(0), np.int64(1)}\n"
          ]
        }
      ]
    },
    {
      "cell_type": "code",
      "source": [],
      "metadata": {
        "id": "F5A1KNvRbqPz"
      },
      "execution_count": null,
      "outputs": []
    }
  ]
}