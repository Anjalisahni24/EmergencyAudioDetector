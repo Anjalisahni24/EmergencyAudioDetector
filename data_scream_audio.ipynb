{
  "nbformat": 4,
  "nbformat_minor": 0,
  "metadata": {
    "colab": {
      "provenance": []
    },
    "kernelspec": {
      "name": "python3",
      "display_name": "Python 3"
    },
    "language_info": {
      "name": "python"
    }
  },
  "cells": [
    {
      "cell_type": "code",
      "execution_count": null,
      "metadata": {
        "id": "KpQgEEN_wmMi"
      },
      "outputs": [],
      "source": [
        "import os\n",
        "save_dir = '/content/scream_audio_scraped'\n",
        "os.makedirs(save_dir, exist_ok=True)"
      ]
    },
    {
      "cell_type": "code",
      "source": [
        "scream_sound_urls = {\n",
        "    \"scream_1.wav\": \"https://freesound.org/people/XfiXy8/sounds/467283/\",           # Female scream - horrified\n",
        "    \"scream_2.wav\": \"https://freesound.org/people/tonsil5/sounds/416541/\",         # Male scream 5 - short\n",
        "    \"scream_3.wav\": \"https://freesound.org/people/Vidrik/sounds/384213/\",          # Woman scream - young adult\n",
        "    \"scream_4.wav\": \"https://freesound.org/people/CalGre/sounds/467126/\",          # Female scream - adult\n",
        "    \"scream_5.wav\": \"https://freesound.org/people/LittleRobotSoundFactory/sounds/270447/\",  # Male scream - horror\n",
        "    \"scream_6.wav\": \"https://freesound.org/people/marc3122/sounds/556976/\",        # Male scream pack\n",
        "    \"scream_7.wav\": \"https://freesound.org/people/XfiXy8/sounds/467293/\",          # Female scream 2\n",
        "    \"scream_8.wav\": \"https://freesound.org/people/NachtmahrTV/sounds/618112/\",     # Woman scream - mid-length\n",
        "    \"scream_9.wav\": \"https://freesound.org/people/Archeos/sounds/325548/\",         # Man screaming - actor\n",
        "    \"scream_10.wav\": \"https://freesound.org/people/klankbeeld/sounds/171078/\",      # Horror scream woman long\n",
        "    \"scream_11.wav\": \"https://freesound.org/people/JeromeWalter/sounds/583595/\",    # Male scream - extended\n",
        "    \"scream_12.wav\": \"https://freesound.org/people/221097/sounds/654261/\",          # Woman screaming variations\n",
        "    \"scream_13.wav\": \"https://freesound.org/people/LittleRobotSoundFactory/sounds/270474/\",  # Male scream 03\n",
        "    \"scream_14.wav\": \"https://freesound.org/people/sironboy/sounds/132106/\",        # Woman scream - theatrical\n",
        "    \"scream_15.wav\": \"https://freesound.org/people/Guy110/sounds/353189/\",          # Male scream - painful\n",
        "    \"scream_16.wav\": \"https://freesound.org/people/xl57/sounds/671198/\",            # Horror movie scream - child\n",
        "    \"scream_17.wav\": \"https://freesound.org/people/natemarler/sounds/338934/\",      # Male scream scared\n",
        "    \"scream_18.wav\": \"https://freesound.org/people/221296/sounds/653966/\",          # Female scream OWI\n",
        "    \"scream_19.wav\": \"https://freesound.org/people/jorickhoofd/sounds/179318/\",     # Male scream 12 - hall echo\n",
        "    \"scream_20.wav\": \"https://freesound.org/people/MrFossy/sounds/547184/\"          # Adult male death scream\n",
        "}\n"
      ],
      "metadata": {
        "id": "uEih5NQ8w_Rx"
      },
      "execution_count": null,
      "outputs": []
    },
    {
      "cell_type": "code",
      "source": [
        "import requests\n",
        "for filename, url in scream_sound_urls.items():\n",
        "  path = os.path.join(save_dir, filename)\n",
        "  try:\n",
        "    print(f\"Downloading {filename}...\")\n",
        "    response = requests.get(url)\n",
        "    with open(path, \"wb\") as f:\n",
        "      f.write(response.content)\n",
        "    print(\"✔Downloaded: \", filename)\n",
        "  except Exception as e:\n",
        "    print(\"✘Error downloading: \", filename)\n",
        "    print(e)"
      ],
      "metadata": {
        "colab": {
          "base_uri": "https://localhost:8080/"
        },
        "id": "FNZ01Lg60y7K",
        "outputId": "3950eb4f-3433-45b7-d7c1-ddf47d5aa261"
      },
      "execution_count": null,
      "outputs": [
        {
          "output_type": "stream",
          "name": "stdout",
          "text": [
            "Downloading scream_1.wav...\n",
            "✔Downloaded:  scream_1.wav\n",
            "Downloading scream_2.wav...\n",
            "✔Downloaded:  scream_2.wav\n",
            "Downloading scream_3.wav...\n",
            "✔Downloaded:  scream_3.wav\n",
            "Downloading scream_4.wav...\n",
            "✔Downloaded:  scream_4.wav\n",
            "Downloading scream_5.wav...\n",
            "✔Downloaded:  scream_5.wav\n",
            "Downloading scream_6.wav...\n",
            "✔Downloaded:  scream_6.wav\n",
            "Downloading scream_7.wav...\n",
            "✔Downloaded:  scream_7.wav\n",
            "Downloading scream_8.wav...\n",
            "✔Downloaded:  scream_8.wav\n",
            "Downloading scream_9.wav...\n",
            "✔Downloaded:  scream_9.wav\n",
            "Downloading scream_10.wav...\n",
            "✔Downloaded:  scream_10.wav\n",
            "Downloading scream_11.wav...\n",
            "✔Downloaded:  scream_11.wav\n",
            "Downloading scream_12.wav...\n",
            "✔Downloaded:  scream_12.wav\n",
            "Downloading scream_13.wav...\n",
            "✔Downloaded:  scream_13.wav\n",
            "Downloading scream_14.wav...\n",
            "✔Downloaded:  scream_14.wav\n",
            "Downloading scream_15.wav...\n",
            "✔Downloaded:  scream_15.wav\n",
            "Downloading scream_16.wav...\n",
            "✔Downloaded:  scream_16.wav\n",
            "Downloading scream_17.wav...\n",
            "✔Downloaded:  scream_17.wav\n",
            "Downloading scream_18.wav...\n",
            "✔Downloaded:  scream_18.wav\n",
            "Downloading scream_19.wav...\n",
            "✔Downloaded:  scream_19.wav\n",
            "Downloading scream_20.wav...\n",
            "✔Downloaded:  scream_20.wav\n"
          ]
        }
      ]
    },
    {
      "cell_type": "code",
      "source": [
        "from google.colab import drive\n",
        "drive.mount('/content/drive')"
      ],
      "metadata": {
        "colab": {
          "base_uri": "https://localhost:8080/"
        },
        "id": "JodnvlNn087X",
        "outputId": "16110422-fc63-4197-81bc-2175b67966c8"
      },
      "execution_count": null,
      "outputs": [
        {
          "output_type": "stream",
          "name": "stdout",
          "text": [
            "Mounted at /content/drive\n"
          ]
        }
      ]
    },
    {
      "cell_type": "code",
      "source": [
        "# Moving the scream_audio_scraped into the drive\n",
        "!cp -r /content/scream_audio_scraped /content/drive/MyDrive/scream_audio_scraped"
      ],
      "metadata": {
        "id": "XxQiaXiz1HOs"
      },
      "execution_count": null,
      "outputs": []
    },
    {
      "cell_type": "code",
      "source": [],
      "metadata": {
        "id": "YImzE_xu1aez"
      },
      "execution_count": null,
      "outputs": []
    }
  ]
}